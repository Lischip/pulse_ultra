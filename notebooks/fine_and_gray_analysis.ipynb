{
 "cells": [
  {
   "cell_type": "code",
   "execution_count": 33,
   "id": "5f60686b-e159-4dce-806e-43ee016552d4",
   "metadata": {},
   "outputs": [],
   "source": [
    "import numpy as np\n",
    "import math\n",
    "import seaborn as sns\n",
    "import matplotlib.pyplot as plt\n",
    "import pandas as pd"
   ]
  },
  {
   "cell_type": "code",
   "execution_count": 2,
   "id": "35c42166-8885-4e55-b511-b415582af709",
   "metadata": {},
   "outputs": [],
   "source": [
    "breslow = np.load(\"D:/juju/lumc/model/data/breslow.npy\")"
   ]
  },
  {
   "cell_type": "code",
   "execution_count": 3,
   "id": "5d73c407-6ae0-484e-88e3-b147a8b8476c",
   "metadata": {},
   "outputs": [],
   "source": [
    "fine_and_gray = np.array([0.0889104888756875, 0.014041347609817, 0.0663937915057769, \\\n",
    "    -0.0143795204966108, 1.3571621432417, 0.508149039892725, 0.612456746581127, \\\n",
    "        1.1507854793352, 1.43648085115873, -0.257561430584195, \\\n",
    "            -0.240799376082464, -0.000171793446414203, -0.000893179412407768, \\\n",
    "                -0.000870519026879657, -0.0144884589032191, -0.00306390553304349, \\\n",
    "                    -0.00445550621721679, -0.0128246003020665, -0.0181564617236253])"
   ]
  },
  {
   "cell_type": "code",
   "execution_count": 8,
   "id": "c731febc-d2e5-45ab-adc2-4993c1d94554",
   "metadata": {},
   "outputs": [],
   "source": [
    "def MACE_risk(age, syst, gluc, chol, smoking, former_smoking, medication_gluc, medication_bp, medication_chol, income):\n",
    "    x = np.array([age, syst, gluc, chol, \\\n",
    "        smoking, former_smoking, medication_gluc, \\\n",
    "            medication_bp, medication_chol, (1 if income == 1 else 0), \\\n",
    "                (1 if income == 2 else 0), age * syst, \\\n",
    "                    age * gluc, age * chol, \\\n",
    "                        age * smoking, age * former_smoking, \\\n",
    "                            age * medication_gluc, age * medication_bp, \\\n",
    "                                age * medication_chol])\n",
    "\n",
    "    x = np.multiply(x, fine_and_gray)\n",
    "    x = sum(x)\n",
    "    #print(1-np.exp(-np.cumsum(breslow * np.exp(x)))[119])\n",
    "    return 1-np.exp(-np.cumsum(breslow * np.exp(x)))[119] #119 is 10 jaar"
   ]
  },
  {
   "cell_type": "code",
   "execution_count": 16,
   "id": "c4f05eb2-55b0-4536-8ca1-63e6f436c9bd",
   "metadata": {},
   "outputs": [
    {
     "data": {
      "text/plain": [
       "0.19641197284887868"
      ]
     },
     "execution_count": 16,
     "metadata": {},
     "output_type": "execute_result"
    }
   ],
   "source": [
    "MACE_risk(age=50, syst=135, gluc=5.73, chol=5.44, smoking=1, former_smoking=1, medication_gluc=1, medication_bp=1, medication_chol=1, income=2)"
   ]
  },
  {
   "cell_type": "code",
   "execution_count": 15,
   "id": "383fe1dd-4bd5-4e7d-857c-4a49694b34c4",
   "metadata": {},
   "outputs": [
    {
     "data": {
      "text/plain": [
       "0.05108838606356925"
      ]
     },
     "execution_count": 15,
     "metadata": {},
     "output_type": "execute_result"
    }
   ],
   "source": [
    "MACE_risk(age=50, syst=135, gluc=5.73, chol=5.44, smoking=1, former_smoking=1, medication_gluc=0, medication_bp=0, medication_chol=0, income=2)"
   ]
  },
  {
   "cell_type": "code",
   "execution_count": 51,
   "id": "fcf63a9e-4cd0-4e7e-b090-c0e9416ad06d",
   "metadata": {},
   "outputs": [],
   "source": [
    "result_dict = {\"Fasting Blood Glucose\": [], \"Systolic Blood Pressure\": [], \"Total Cholesterol\": [], \"Smoker\": [], \"Former smoker\": [], \"Age\": [], \"Income\": [], \"Hypertension medication\" : [], \"Cholesterol medication\": [], \"Diabetes medication\": [], \"Risk\": []}\n",
    "for gluc in np.arange(4, 10, 0.1):\n",
    "    for syst in np.arange(80, 150, 5):\n",
    "        for chol in np.arange(3, 7, 0.1):\n",
    "            for smoking in [0,1]:\n",
    "                for former_smoking in [0,1]:\n",
    "                    for age in range(15, 100):\n",
    "                        for income in [1,2,3]:\n",
    "                            for med_gluc in [0,1]:\n",
    "                                for med_chol in [0,1]:\n",
    "                                    for med_syst in [0,1]:\n",
    "                                        result_dict[\"Fasting Blood Glucose\"].append(gluc)\n",
    "                                        result_dict[\"Systolic Blood Pressure\"].append(syst)\n",
    "                                        result_dict[\"Total Cholesterol\"].append(chol)\n",
    "                                        result_dict[\"Smoker\"].append(smoking)\n",
    "                                        result_dict[\"Former smoker\"].append(former_smoking)\n",
    "                                        result_dict[\"Age\"].append(age)\n",
    "                                        result_dict[\"Income\"].append(income)\n",
    "                                        result_dict[\"Diabetes medication\"].append(med_gluc)\n",
    "                                        result_dict[\"Hypertension medication\"].append(med_syst)\n",
    "                                        result_dict[\"Cholesterol medication\"].append(med_chol)\n",
    "                                        result_dict[\"Risk\"].append(MACE_risk(age=age, syst=syst, gluc=gluc, chol=chol, smoking=smoking, former_smoking=former_smoking, medication_gluc=med_gluc, medication_bp=med_syst, medication_chol=med_chol, income=income) * 100)"
   ]
  },
  {
   "cell_type": "code",
   "execution_count": 52,
   "id": "a49b118e-ca79-40a0-8cd8-5ba06c2b255a",
   "metadata": {},
   "outputs": [],
   "source": [
    "results = pd.DataFrame.from_dict(result_dict)"
   ]
  },
  {
   "cell_type": "code",
   "execution_count": 35,
   "id": "acd499db-fd12-4c31-970b-cad5950f9e5b",
   "metadata": {},
   "outputs": [
    {
     "data": {
      "text/html": [
       "<div>\n",
       "<style scoped>\n",
       "    .dataframe tbody tr th:only-of-type {\n",
       "        vertical-align: middle;\n",
       "    }\n",
       "\n",
       "    .dataframe tbody tr th {\n",
       "        vertical-align: top;\n",
       "    }\n",
       "\n",
       "    .dataframe thead th {\n",
       "        text-align: right;\n",
       "    }\n",
       "</style>\n",
       "<table border=\"1\" class=\"dataframe\">\n",
       "  <thead>\n",
       "    <tr style=\"text-align: right;\">\n",
       "      <th></th>\n",
       "      <th>Fasting Blood Glucose</th>\n",
       "      <th>Systolic Blood Pressure</th>\n",
       "      <th>Total Cholesterol</th>\n",
       "      <th>Smoker</th>\n",
       "      <th>Former smoker</th>\n",
       "      <th>Age</th>\n",
       "      <th>Income</th>\n",
       "      <th>Medication</th>\n",
       "      <th>Risk</th>\n",
       "    </tr>\n",
       "  </thead>\n",
       "  <tbody>\n",
       "    <tr>\n",
       "      <th>0</th>\n",
       "      <td>4.0</td>\n",
       "      <td>80</td>\n",
       "      <td>3.0</td>\n",
       "      <td>0</td>\n",
       "      <td>0</td>\n",
       "      <td>15</td>\n",
       "      <td>1</td>\n",
       "      <td>0</td>\n",
       "      <td>0.141051</td>\n",
       "    </tr>\n",
       "    <tr>\n",
       "      <th>1</th>\n",
       "      <td>4.0</td>\n",
       "      <td>80</td>\n",
       "      <td>3.0</td>\n",
       "      <td>0</td>\n",
       "      <td>0</td>\n",
       "      <td>15</td>\n",
       "      <td>1</td>\n",
       "      <td>1</td>\n",
       "      <td>2.013938</td>\n",
       "    </tr>\n",
       "    <tr>\n",
       "      <th>2</th>\n",
       "      <td>4.0</td>\n",
       "      <td>80</td>\n",
       "      <td>3.0</td>\n",
       "      <td>0</td>\n",
       "      <td>0</td>\n",
       "      <td>15</td>\n",
       "      <td>2</td>\n",
       "      <td>0</td>\n",
       "      <td>0.143434</td>\n",
       "    </tr>\n",
       "    <tr>\n",
       "      <th>3</th>\n",
       "      <td>4.0</td>\n",
       "      <td>80</td>\n",
       "      <td>3.0</td>\n",
       "      <td>0</td>\n",
       "      <td>0</td>\n",
       "      <td>15</td>\n",
       "      <td>2</td>\n",
       "      <td>1</td>\n",
       "      <td>2.047629</td>\n",
       "    </tr>\n",
       "    <tr>\n",
       "      <th>4</th>\n",
       "      <td>4.0</td>\n",
       "      <td>80</td>\n",
       "      <td>3.0</td>\n",
       "      <td>0</td>\n",
       "      <td>0</td>\n",
       "      <td>15</td>\n",
       "      <td>3</td>\n",
       "      <td>0</td>\n",
       "      <td>0.182450</td>\n",
       "    </tr>\n",
       "    <tr>\n",
       "      <th>...</th>\n",
       "      <td>...</td>\n",
       "      <td>...</td>\n",
       "      <td>...</td>\n",
       "      <td>...</td>\n",
       "      <td>...</td>\n",
       "      <td>...</td>\n",
       "      <td>...</td>\n",
       "      <td>...</td>\n",
       "      <td>...</td>\n",
       "    </tr>\n",
       "    <tr>\n",
       "      <th>68543995</th>\n",
       "      <td>9.9</td>\n",
       "      <td>145</td>\n",
       "      <td>6.9</td>\n",
       "      <td>1</td>\n",
       "      <td>1</td>\n",
       "      <td>99</td>\n",
       "      <td>1</td>\n",
       "      <td>1</td>\n",
       "      <td>17.246664</td>\n",
       "    </tr>\n",
       "    <tr>\n",
       "      <th>68543996</th>\n",
       "      <td>9.9</td>\n",
       "      <td>145</td>\n",
       "      <td>6.9</td>\n",
       "      <td>1</td>\n",
       "      <td>1</td>\n",
       "      <td>99</td>\n",
       "      <td>2</td>\n",
       "      <td>0</td>\n",
       "      <td>23.054518</td>\n",
       "    </tr>\n",
       "    <tr>\n",
       "      <th>68543997</th>\n",
       "      <td>9.9</td>\n",
       "      <td>145</td>\n",
       "      <td>6.9</td>\n",
       "      <td>1</td>\n",
       "      <td>1</td>\n",
       "      <td>99</td>\n",
       "      <td>2</td>\n",
       "      <td>1</td>\n",
       "      <td>17.511043</td>\n",
       "    </tr>\n",
       "    <tr>\n",
       "      <th>68543998</th>\n",
       "      <td>9.9</td>\n",
       "      <td>145</td>\n",
       "      <td>6.9</td>\n",
       "      <td>1</td>\n",
       "      <td>1</td>\n",
       "      <td>99</td>\n",
       "      <td>3</td>\n",
       "      <td>0</td>\n",
       "      <td>28.353548</td>\n",
       "    </tr>\n",
       "    <tr>\n",
       "      <th>68543999</th>\n",
       "      <td>9.9</td>\n",
       "      <td>145</td>\n",
       "      <td>6.9</td>\n",
       "      <td>1</td>\n",
       "      <td>1</td>\n",
       "      <td>99</td>\n",
       "      <td>3</td>\n",
       "      <td>1</td>\n",
       "      <td>21.723166</td>\n",
       "    </tr>\n",
       "  </tbody>\n",
       "</table>\n",
       "<p>68544000 rows × 9 columns</p>\n",
       "</div>"
      ],
      "text/plain": [
       "          Fasting Blood Glucose  Systolic Blood Pressure  Total Cholesterol  \\\n",
       "0                           4.0                       80                3.0   \n",
       "1                           4.0                       80                3.0   \n",
       "2                           4.0                       80                3.0   \n",
       "3                           4.0                       80                3.0   \n",
       "4                           4.0                       80                3.0   \n",
       "...                         ...                      ...                ...   \n",
       "68543995                    9.9                      145                6.9   \n",
       "68543996                    9.9                      145                6.9   \n",
       "68543997                    9.9                      145                6.9   \n",
       "68543998                    9.9                      145                6.9   \n",
       "68543999                    9.9                      145                6.9   \n",
       "\n",
       "          Smoker  Former smoker  Age  Income  Medication       Risk  \n",
       "0              0              0   15       1           0   0.141051  \n",
       "1              0              0   15       1           1   2.013938  \n",
       "2              0              0   15       2           0   0.143434  \n",
       "3              0              0   15       2           1   2.047629  \n",
       "4              0              0   15       3           0   0.182450  \n",
       "...          ...            ...  ...     ...         ...        ...  \n",
       "68543995       1              1   99       1           1  17.246664  \n",
       "68543996       1              1   99       2           0  23.054518  \n",
       "68543997       1              1   99       2           1  17.511043  \n",
       "68543998       1              1   99       3           0  28.353548  \n",
       "68543999       1              1   99       3           1  21.723166  \n",
       "\n",
       "[68544000 rows x 9 columns]"
      ]
     },
     "execution_count": 35,
     "metadata": {},
     "output_type": "execute_result"
    }
   ],
   "source": [
    "results"
   ]
  },
  {
   "cell_type": "code",
   "execution_count": 53,
   "id": "4262457f-9199-45bc-9c34-9e623e93002e",
   "metadata": {},
   "outputs": [],
   "source": [
    "corrmat = results.corr()"
   ]
  },
  {
   "cell_type": "code",
   "execution_count": 54,
   "id": "61ac6971-d7a6-49c8-af44-8ddd14842bcd",
   "metadata": {},
   "outputs": [
    {
     "data": {
      "text/plain": [
       "Fasting Blood Glucose      0.006840\n",
       "Systolic Blood Pressure    0.046550\n",
       "Total Cholesterol         -0.107423\n",
       "Smoker                     0.197714\n",
       "Former smoker              0.177774\n",
       "Age                        0.805445\n",
       "Income                     0.132622\n",
       "Hypertension medication    0.146039\n",
       "Cholesterol medication     0.088483\n",
       "Diabetes medication        0.181099\n",
       "Name: Risk, dtype: float64"
      ]
     },
     "execution_count": 54,
     "metadata": {},
     "output_type": "execute_result"
    }
   ],
   "source": [
    "corrmat.Risk[0:-1]"
   ]
  },
  {
   "cell_type": "code",
   "execution_count": 55,
   "id": "31185850-34e2-43cd-be88-f2fb198bc711",
   "metadata": {},
   "outputs": [
    {
     "data": {
      "image/png": "[encoded data removed]",
      "text/plain": [
       "<Figure size 720x432 with 2 Axes>"
      ]
     },
     "metadata": {
      "needs_background": "light"
     },
     "output_type": "display_data"
    }
   ],
   "source": [
    "fig, ax = plt.subplots(1,1, figsize=(10,6))\n",
    "\n",
    "\n",
    "font = {'family' : 'Roboto',\n",
    "        'weight' : 'normal',\n",
    "        'size'   : 15}\n",
    "plt.rc('axes' , linewidth=2)\n",
    "#plt.rc('text', usetex=True)\n",
    "plt.rc('font', **font)\n",
    "\n",
    "sns.heatmap(pd.DataFrame(corrmat.Risk[0:-1]), annot=True, linewidths=.5, fmt= '.3f',ax=ax)\n",
    "\n",
    "# ax.set_xlim(2020,2020+len(experiments))\n",
    "#ax.set_xticks( range(0, mace_events_long.cols.max(), 4))\n",
    "#ax.set_xticklabels(range(2020, 2020 + mace_events_long.cols.max(), 4))\n",
    "#plt.xticks(rotation=90)\n",
    "plt.ylabel('Category')\n",
    "#plt.xlabel('Age (year)')\n",
    "\n",
    "plt.savefig(\"D:/juju/lumc/msc_thesis/report/images/fine_and_gray_sensitivity.png\", format=\"png\",  dpi=300, bbox_inches='tight')\n",
    "plt.show()\n",
    "\n"
   ]
  },
  {
   "cell_type": "code",
   "execution_count": 66,
   "id": "1170411a-8d42-4dca-a1f6-4685039f68cc",
   "metadata": {},
   "outputs": [],
   "source": [
    "no_smoking = []\n",
    "smoking = []\n",
    "for i in range(15, 100):\n",
    "    no_smoking.append(MACE_risk(age=i, syst=110, gluc=5.73, chol=5.44, smoking=0, former_smoking=0, medication_gluc=0, medication_bp=0, medication_chol=0, income=2) * 100)\n",
    "    smoking.append(MACE_risk(age=i, syst=160, gluc=9, chol=5.44, smoking=1, former_smoking=1, medication_gluc=1, medication_bp=1, medication_chol=0, income=2) * 100)"
   ]
  },
  {
   "cell_type": "code",
   "execution_count": 90,
   "id": "e3f32c13-ff2f-4977-acd0-fc3b322a3699",
   "metadata": {},
   "outputs": [
    {
     "data": {
      "text/plain": [
       "19.970701951426417"
      ]
     },
     "execution_count": 90,
     "metadata": {},
     "output_type": "execute_result"
    }
   ],
   "source": [
    "(smoking[45-15])/no_smoking[45-25]"
   ]
  },
  {
   "cell_type": "code",
   "execution_count": 81,
   "id": "f1145672-9139-4cad-91bb-22e3763777be",
   "metadata": {},
   "outputs": [
    {
     "data": {
      "image/png": "[encoded data removed]",
      "text/plain": [
       "<Figure size 720x432 with 1 Axes>"
      ]
     },
     "metadata": {
      "needs_background": "light"
     },
     "output_type": "display_data"
    }
   ],
   "source": [
    "fig, ax = plt.subplots(1,1, figsize=(10,6))\n",
    "\n",
    "\n",
    "font = {'family' : 'Roboto',\n",
    "        'weight' : 'normal',\n",
    "        'size'   : 15}\n",
    "plt.rc('axes' , linewidth=2)\n",
    "#plt.rc('text', usetex=True)\n",
    "plt.rc('font', **font)\n",
    "\n",
    "\n",
    "sns.lineplot(data=no_smoking, ax=ax, label=\"No modifiable risk factors\")\n",
    "sns.lineplot(data=smoking, ax=ax, label=\"Hypertension, Diabetes, Smoker and Former Smoker\")\n",
    "\n",
    "#ax.set_xlim(15,100)\n",
    "ax.set_xticks(range(0, 100-15, 10), range(15, 101, 10))\n",
    "#ax.set_xticklabels(range(2020, 2020 + mace_events_long.cols.max(), 4))\n",
    "#plt.xticks(rotation=90)\n",
    "plt.legend()\n",
    "plt.ylabel('Risk (percentage)')\n",
    "plt.xlabel('Age (year)')\n",
    "\n",
    "plt.savefig(\"D:/juju/lumc/msc_thesis/report/images/fine_and_gray_multiple.png\", format=\"png\",  dpi=300, bbox_inches='tight')\n",
    "plt.show()\n",
    "\n"
   ]
  },
  {
   "cell_type": "code",
   "execution_count": null,
   "id": "4096b890-29e5-45b3-b095-e4005b1e160c",
   "metadata": {},
   "outputs": [],
   "source": []
  }
 ],
 "metadata": {
  "kernelspec": {
   "display_name": "Python 3 (ipykernel)",
   "language": "python",
   "name": "python3"
  },
  "language_info": {
   "codemirror_mode": {
    "name": "ipython",
    "version": 3
   },
   "file_extension": ".py",
   "mimetype": "text/x-python",
   "name": "python",
   "nbconvert_exporter": "python",
   "pygments_lexer": "ipython3",
   "version": "3.10.4"
  }
 },
 "nbformat": 4,
 "nbformat_minor": 5
}
