{
 "cells": [
  {
   "cell_type": "code",
   "execution_count": 1,
   "id": "1103fbda-d3b9-4b7b-b9a0-4fca5b3bee4a",
   "metadata": {},
   "outputs": [],
   "source": [
    "import numpy as np\n",
    "import scipy.stats as stats\n",
    "import matplotlib.pyplot as plt\n",
    "import pandas as pd\n",
    "\n",
    "# https://datadryad.org/stash/dataset/doi:10.5061/dryad.j82k4"
   ]
  },
  {
   "cell_type": "code",
   "execution_count": 2,
   "id": "9778e856-b98d-4edb-98c3-ca81d55bf3a4",
   "metadata": {},
   "outputs": [],
   "source": [
    "data = pd.read_csv(\"doi_10.5061_dryad.j82k4__v1\\Egocentric_File_RSOS.csv\")"
   ]
  },
  {
   "cell_type": "code",
   "execution_count": 3,
   "id": "6700e6cf-c218-4c8f-acb5-fda243bf3cd5",
   "metadata": {},
   "outputs": [],
   "source": [
    "data= data[data[\"ego-gender\"] == 1]"
   ]
  },
  {
   "cell_type": "code",
   "execution_count": 4,
   "id": "944efac4-8679-4136-b390-aeb7a872458f",
   "metadata": {},
   "outputs": [
    {
     "data": {
      "text/html": [
       "<div>\n",
       "<style scoped>\n",
       "    .dataframe tbody tr th:only-of-type {\n",
       "        vertical-align: middle;\n",
       "    }\n",
       "\n",
       "    .dataframe tbody tr th {\n",
       "        vertical-align: top;\n",
       "    }\n",
       "\n",
       "    .dataframe thead th {\n",
       "        text-align: right;\n",
       "    }\n",
       "</style>\n",
       "<table border=\"1\" class=\"dataframe\">\n",
       "  <thead>\n",
       "    <tr style=\"text-align: right;\">\n",
       "      <th></th>\n",
       "      <th>#ego-id</th>\n",
       "      <th>ego-gender</th>\n",
       "      <th>ego-age</th>\n",
       "      <th>alter-gender</th>\n",
       "      <th>alter-age</th>\n",
       "      <th>number-of-calls</th>\n",
       "      <th>total-calling-time</th>\n",
       "      <th>number-of-days-with-a-call</th>\n",
       "    </tr>\n",
       "  </thead>\n",
       "  <tbody>\n",
       "    <tr>\n",
       "      <th>0</th>\n",
       "      <td>1</td>\n",
       "      <td>1</td>\n",
       "      <td>46</td>\n",
       "      <td>1</td>\n",
       "      <td>31</td>\n",
       "      <td>4</td>\n",
       "      <td>311</td>\n",
       "      <td>3</td>\n",
       "    </tr>\n",
       "    <tr>\n",
       "      <th>1</th>\n",
       "      <td>1</td>\n",
       "      <td>1</td>\n",
       "      <td>46</td>\n",
       "      <td>0</td>\n",
       "      <td>0</td>\n",
       "      <td>1</td>\n",
       "      <td>35</td>\n",
       "      <td>1</td>\n",
       "    </tr>\n",
       "    <tr>\n",
       "      <th>2</th>\n",
       "      <td>1</td>\n",
       "      <td>1</td>\n",
       "      <td>46</td>\n",
       "      <td>0</td>\n",
       "      <td>0</td>\n",
       "      <td>7</td>\n",
       "      <td>1112</td>\n",
       "      <td>6</td>\n",
       "    </tr>\n",
       "    <tr>\n",
       "      <th>3</th>\n",
       "      <td>1</td>\n",
       "      <td>1</td>\n",
       "      <td>46</td>\n",
       "      <td>1</td>\n",
       "      <td>35</td>\n",
       "      <td>12</td>\n",
       "      <td>1327</td>\n",
       "      <td>10</td>\n",
       "    </tr>\n",
       "    <tr>\n",
       "      <th>4</th>\n",
       "      <td>1</td>\n",
       "      <td>1</td>\n",
       "      <td>46</td>\n",
       "      <td>1</td>\n",
       "      <td>19</td>\n",
       "      <td>26</td>\n",
       "      <td>2789</td>\n",
       "      <td>12</td>\n",
       "    </tr>\n",
       "    <tr>\n",
       "      <th>5</th>\n",
       "      <td>1</td>\n",
       "      <td>1</td>\n",
       "      <td>46</td>\n",
       "      <td>0</td>\n",
       "      <td>0</td>\n",
       "      <td>11</td>\n",
       "      <td>4219</td>\n",
       "      <td>7</td>\n",
       "    </tr>\n",
       "    <tr>\n",
       "      <th>6</th>\n",
       "      <td>1</td>\n",
       "      <td>1</td>\n",
       "      <td>46</td>\n",
       "      <td>2</td>\n",
       "      <td>58</td>\n",
       "      <td>5</td>\n",
       "      <td>892</td>\n",
       "      <td>4</td>\n",
       "    </tr>\n",
       "    <tr>\n",
       "      <th>7</th>\n",
       "      <td>1</td>\n",
       "      <td>1</td>\n",
       "      <td>46</td>\n",
       "      <td>0</td>\n",
       "      <td>0</td>\n",
       "      <td>1</td>\n",
       "      <td>67</td>\n",
       "      <td>1</td>\n",
       "    </tr>\n",
       "    <tr>\n",
       "      <th>8</th>\n",
       "      <td>1</td>\n",
       "      <td>1</td>\n",
       "      <td>46</td>\n",
       "      <td>2</td>\n",
       "      <td>41</td>\n",
       "      <td>2</td>\n",
       "      <td>338</td>\n",
       "      <td>2</td>\n",
       "    </tr>\n",
       "    <tr>\n",
       "      <th>9</th>\n",
       "      <td>1</td>\n",
       "      <td>1</td>\n",
       "      <td>46</td>\n",
       "      <td>2</td>\n",
       "      <td>43</td>\n",
       "      <td>2</td>\n",
       "      <td>298</td>\n",
       "      <td>2</td>\n",
       "    </tr>\n",
       "  </tbody>\n",
       "</table>\n",
       "</div>"
      ],
      "text/plain": [
       "   #ego-id  ego-gender  ego-age  alter-gender  alter-age  number-of-calls  \\\n",
       "0        1           1       46             1         31                4   \n",
       "1        1           1       46             0          0                1   \n",
       "2        1           1       46             0          0                7   \n",
       "3        1           1       46             1         35               12   \n",
       "4        1           1       46             1         19               26   \n",
       "5        1           1       46             0          0               11   \n",
       "6        1           1       46             2         58                5   \n",
       "7        1           1       46             0          0                1   \n",
       "8        1           1       46             2         41                2   \n",
       "9        1           1       46             2         43                2   \n",
       "\n",
       "   total-calling-time  number-of-days-with-a-call  \n",
       "0                 311                           3  \n",
       "1                  35                           1  \n",
       "2                1112                           6  \n",
       "3                1327                          10  \n",
       "4                2789                          12  \n",
       "5                4219                           7  \n",
       "6                 892                           4  \n",
       "7                  67                           1  \n",
       "8                 338                           2  \n",
       "9                 298                           2  "
      ]
     },
     "execution_count": 4,
     "metadata": {},
     "output_type": "execute_result"
    }
   ],
   "source": [
    "data.head(10)"
   ]
  },
  {
   "cell_type": "code",
   "execution_count": 10,
   "id": "40e355d5-6ee4-49b0-b3ab-193a1bca0b7b",
   "metadata": {},
   "outputs": [],
   "source": [
    "grouped = data.groupby([\"#ego-id\", \"ego-age\"]).size().reset_index(name=\"number\")"
   ]
  },
  {
   "cell_type": "code",
   "execution_count": 11,
   "id": "010c5a88-bc35-4dc1-8f1e-53346182bb55",
   "metadata": {},
   "outputs": [],
   "source": [
    "cuts = [0, 12, 16, 20, 26, 31, 36, 46, 51, 56, 70, 80, 111]"
   ]
  },
  {
   "cell_type": "code",
   "execution_count": 12,
   "id": "c590d944-cfe8-472c-bd92-3a5dbcda571b",
   "metadata": {},
   "outputs": [],
   "source": [
    "grouped[\"bin\"] = pd.cut(grouped[\"ego-age\"], cuts)"
   ]
  },
  {
   "cell_type": "markdown",
   "id": "dd2d3a1f-1f6c-4f46-9cca-036b9fe7c938",
   "metadata": {},
   "source": [
    "[(0, 12] < (12, 16] < (16, 20] < (20, 26] < (26, 31] < (31, 36] < (36, 46] < (46, 51] < (51, 56] < (56, 70) < (70, 80] < (80, 111]]"
   ]
  },
  {
   "cell_type": "code",
   "execution_count": 13,
   "id": "e18321b4-9df1-41ff-b645-d52729a53402",
   "metadata": {},
   "outputs": [],
   "source": [
    "grouped[\"number\"] = grouped[\"number\"] * 0.675 "
   ]
  },
  {
   "cell_type": "code",
   "execution_count": 14,
   "id": "9f99baa4-989f-4e50-86c4-9906d53c2730",
   "metadata": {},
   "outputs": [],
   "source": [
    "grouped[\"number\"] = grouped[\"number\"].apply(np.ceil)"
   ]
  },
  {
   "cell_type": "code",
   "execution_count": 15,
   "id": "8ffa5079-4670-4aee-a697-5a25dc5cee08",
   "metadata": {},
   "outputs": [
    {
     "data": {
      "text/html": [
       "<div>\n",
       "<style scoped>\n",
       "    .dataframe tbody tr th:only-of-type {\n",
       "        vertical-align: middle;\n",
       "    }\n",
       "\n",
       "    .dataframe tbody tr th {\n",
       "        vertical-align: top;\n",
       "    }\n",
       "\n",
       "    .dataframe thead th {\n",
       "        text-align: right;\n",
       "    }\n",
       "</style>\n",
       "<table border=\"1\" class=\"dataframe\">\n",
       "  <thead>\n",
       "    <tr style=\"text-align: right;\">\n",
       "      <th></th>\n",
       "      <th>#ego-id</th>\n",
       "      <th>ego-age</th>\n",
       "      <th>number</th>\n",
       "      <th>bin</th>\n",
       "    </tr>\n",
       "  </thead>\n",
       "  <tbody>\n",
       "    <tr>\n",
       "      <th>0</th>\n",
       "      <td>1</td>\n",
       "      <td>46</td>\n",
       "      <td>26.0</td>\n",
       "      <td>(36, 46]</td>\n",
       "    </tr>\n",
       "    <tr>\n",
       "      <th>1</th>\n",
       "      <td>4</td>\n",
       "      <td>40</td>\n",
       "      <td>9.0</td>\n",
       "      <td>(36, 46]</td>\n",
       "    </tr>\n",
       "    <tr>\n",
       "      <th>2</th>\n",
       "      <td>7</td>\n",
       "      <td>30</td>\n",
       "      <td>9.0</td>\n",
       "      <td>(26, 31]</td>\n",
       "    </tr>\n",
       "    <tr>\n",
       "      <th>3</th>\n",
       "      <td>9</td>\n",
       "      <td>25</td>\n",
       "      <td>25.0</td>\n",
       "      <td>(20, 26]</td>\n",
       "    </tr>\n",
       "    <tr>\n",
       "      <th>4</th>\n",
       "      <td>13</td>\n",
       "      <td>55</td>\n",
       "      <td>15.0</td>\n",
       "      <td>(51, 56]</td>\n",
       "    </tr>\n",
       "    <tr>\n",
       "      <th>...</th>\n",
       "      <td>...</td>\n",
       "      <td>...</td>\n",
       "      <td>...</td>\n",
       "      <td>...</td>\n",
       "    </tr>\n",
       "    <tr>\n",
       "      <th>1366158</th>\n",
       "      <td>3106288</td>\n",
       "      <td>45</td>\n",
       "      <td>3.0</td>\n",
       "      <td>(36, 46]</td>\n",
       "    </tr>\n",
       "    <tr>\n",
       "      <th>1366159</th>\n",
       "      <td>3106289</td>\n",
       "      <td>22</td>\n",
       "      <td>1.0</td>\n",
       "      <td>(20, 26]</td>\n",
       "    </tr>\n",
       "    <tr>\n",
       "      <th>1366160</th>\n",
       "      <td>3106290</td>\n",
       "      <td>41</td>\n",
       "      <td>1.0</td>\n",
       "      <td>(36, 46]</td>\n",
       "    </tr>\n",
       "    <tr>\n",
       "      <th>1366161</th>\n",
       "      <td>3106291</td>\n",
       "      <td>52</td>\n",
       "      <td>1.0</td>\n",
       "      <td>(51, 56]</td>\n",
       "    </tr>\n",
       "    <tr>\n",
       "      <th>1366162</th>\n",
       "      <td>3106293</td>\n",
       "      <td>31</td>\n",
       "      <td>1.0</td>\n",
       "      <td>(26, 31]</td>\n",
       "    </tr>\n",
       "  </tbody>\n",
       "</table>\n",
       "<p>1366163 rows × 4 columns</p>\n",
       "</div>"
      ],
      "text/plain": [
       "         #ego-id  ego-age  number       bin\n",
       "0              1       46    26.0  (36, 46]\n",
       "1              4       40     9.0  (36, 46]\n",
       "2              7       30     9.0  (26, 31]\n",
       "3              9       25    25.0  (20, 26]\n",
       "4             13       55    15.0  (51, 56]\n",
       "...          ...      ...     ...       ...\n",
       "1366158  3106288       45     3.0  (36, 46]\n",
       "1366159  3106289       22     1.0  (20, 26]\n",
       "1366160  3106290       41     1.0  (36, 46]\n",
       "1366161  3106291       52     1.0  (51, 56]\n",
       "1366162  3106293       31     1.0  (26, 31]\n",
       "\n",
       "[1366163 rows x 4 columns]"
      ]
     },
     "execution_count": 15,
     "metadata": {},
     "output_type": "execute_result"
    }
   ],
   "source": [
    "grouped"
   ]
  },
  {
   "cell_type": "markdown",
   "id": "c6a18d21-b9cc-4618-beb2-c1c9598b87b9",
   "metadata": {},
   "source": [
    "Check number of observations per bin"
   ]
  },
  {
   "cell_type": "code",
   "execution_count": 16,
   "id": "56852732-9804-46f4-94d3-4861a4d88f9f",
   "metadata": {},
   "outputs": [
    {
     "data": {
      "text/html": [
       "<div>\n",
       "<style scoped>\n",
       "    .dataframe tbody tr th:only-of-type {\n",
       "        vertical-align: middle;\n",
       "    }\n",
       "\n",
       "    .dataframe tbody tr th {\n",
       "        vertical-align: top;\n",
       "    }\n",
       "\n",
       "    .dataframe thead th {\n",
       "        text-align: right;\n",
       "    }\n",
       "</style>\n",
       "<table border=\"1\" class=\"dataframe\">\n",
       "  <thead>\n",
       "    <tr style=\"text-align: right;\">\n",
       "      <th></th>\n",
       "      <th>#ego-id</th>\n",
       "      <th>ego-age</th>\n",
       "      <th>number</th>\n",
       "    </tr>\n",
       "    <tr>\n",
       "      <th>bin</th>\n",
       "      <th></th>\n",
       "      <th></th>\n",
       "      <th></th>\n",
       "    </tr>\n",
       "  </thead>\n",
       "  <tbody>\n",
       "    <tr>\n",
       "      <th>(0, 12]</th>\n",
       "      <td>2735</td>\n",
       "      <td>2735</td>\n",
       "      <td>2735</td>\n",
       "    </tr>\n",
       "    <tr>\n",
       "      <th>(12, 16]</th>\n",
       "      <td>10633</td>\n",
       "      <td>10633</td>\n",
       "      <td>10633</td>\n",
       "    </tr>\n",
       "    <tr>\n",
       "      <th>(16, 20]</th>\n",
       "      <td>37347</td>\n",
       "      <td>37347</td>\n",
       "      <td>37347</td>\n",
       "    </tr>\n",
       "    <tr>\n",
       "      <th>(20, 26]</th>\n",
       "      <td>158360</td>\n",
       "      <td>158360</td>\n",
       "      <td>158360</td>\n",
       "    </tr>\n",
       "    <tr>\n",
       "      <th>(26, 31]</th>\n",
       "      <td>176349</td>\n",
       "      <td>176349</td>\n",
       "      <td>176349</td>\n",
       "    </tr>\n",
       "    <tr>\n",
       "      <th>(31, 36]</th>\n",
       "      <td>184288</td>\n",
       "      <td>184288</td>\n",
       "      <td>184288</td>\n",
       "    </tr>\n",
       "    <tr>\n",
       "      <th>(36, 46]</th>\n",
       "      <td>306580</td>\n",
       "      <td>306580</td>\n",
       "      <td>306580</td>\n",
       "    </tr>\n",
       "    <tr>\n",
       "      <th>(46, 51]</th>\n",
       "      <td>127383</td>\n",
       "      <td>127383</td>\n",
       "      <td>127383</td>\n",
       "    </tr>\n",
       "    <tr>\n",
       "      <th>(51, 56]</th>\n",
       "      <td>105395</td>\n",
       "      <td>105395</td>\n",
       "      <td>105395</td>\n",
       "    </tr>\n",
       "    <tr>\n",
       "      <th>(56, 70]</th>\n",
       "      <td>184317</td>\n",
       "      <td>184317</td>\n",
       "      <td>184317</td>\n",
       "    </tr>\n",
       "    <tr>\n",
       "      <th>(70, 80]</th>\n",
       "      <td>55618</td>\n",
       "      <td>55618</td>\n",
       "      <td>55618</td>\n",
       "    </tr>\n",
       "    <tr>\n",
       "      <th>(80, 111]</th>\n",
       "      <td>17158</td>\n",
       "      <td>17158</td>\n",
       "      <td>17158</td>\n",
       "    </tr>\n",
       "  </tbody>\n",
       "</table>\n",
       "</div>"
      ],
      "text/plain": [
       "           #ego-id  ego-age  number\n",
       "bin                                \n",
       "(0, 12]       2735     2735    2735\n",
       "(12, 16]     10633    10633   10633\n",
       "(16, 20]     37347    37347   37347\n",
       "(20, 26]    158360   158360  158360\n",
       "(26, 31]    176349   176349  176349\n",
       "(31, 36]    184288   184288  184288\n",
       "(36, 46]    306580   306580  306580\n",
       "(46, 51]    127383   127383  127383\n",
       "(51, 56]    105395   105395  105395\n",
       "(56, 70]    184317   184317  184317\n",
       "(70, 80]     55618    55618   55618\n",
       "(80, 111]    17158    17158   17158"
      ]
     },
     "execution_count": 16,
     "metadata": {},
     "output_type": "execute_result"
    }
   ],
   "source": [
    "grouped.groupby(\"bin\").count()"
   ]
  },
  {
   "cell_type": "code",
   "execution_count": 17,
   "id": "5e9f5410-1088-48e7-a468-af80975e10ac",
   "metadata": {},
   "outputs": [
    {
     "data": {
      "text/plain": [
       "<AxesSubplot:xlabel='ego-age', ylabel='number'>"
      ]
     },
     "execution_count": 17,
     "metadata": {},
     "output_type": "execute_result"
    },
    {
     "data": {
      "image/png": "[encoded data removed]",
      "text/plain": [
       "<Figure size 432x288 with 1 Axes>"
      ]
     },
     "metadata": {
      "needs_background": "light"
     },
     "output_type": "display_data"
    }
   ],
   "source": [
    "grouped.plot.scatter(x=\"ego-age\", y=\"number\")"
   ]
  },
  {
   "cell_type": "code",
   "execution_count": 18,
   "id": "889bb5c8-21f6-43b2-9ee5-31d6ef931c35",
   "metadata": {},
   "outputs": [],
   "source": [
    "model = np.poly1d(np.polyfit(grouped[\"ego-age\"], grouped[\"number\"], 2))"
   ]
  },
  {
   "cell_type": "code",
   "execution_count": 19,
   "id": "174cfc6c-2e97-408c-903b-27ed251fd5a6",
   "metadata": {},
   "outputs": [
    {
     "data": {
      "image/png": "[encoded data removed]",
      "text/plain": [
       "<Figure size 432x288 with 1 Axes>"
      ]
     },
     "metadata": {
      "needs_background": "light"
     },
     "output_type": "display_data"
    },
    {
     "name": "stdout",
     "output_type": "stream",
     "text": [
      "           2\n",
      "-0.002012 x + 0.1225 x + 8.681\n"
     ]
    }
   ],
   "source": [
    "#add fitted polynomial line to scatterplot\n",
    "polyline = np.linspace(1, max(grouped[\"ego-age\"]), 50)\n",
    "plt.scatter(grouped[\"ego-age\"], grouped[\"number\"])\n",
    "plt.plot(polyline, model(polyline), c=\"red\")\n",
    "plt.title('Number of friends')\n",
    "plt.xlabel('Age')\n",
    "plt.ylabel('Number of friends')\n",
    "plt.savefig(\"D:/juju/lumc/msc_thesis/report/images/mean_and_friends.png\", format=\"png\",  dpi=300, bbox_inches='tight')\n",
    "plt.show()\n",
    "\n",
    "print(model)"
   ]
  },
  {
   "cell_type": "code",
   "execution_count": 22,
   "id": "67279b80-f6cc-460c-809d-89f6749d0ca9",
   "metadata": {},
   "outputs": [
    {
     "name": "stdout",
     "output_type": "stream",
     "text": [
      "0 - 12 : 4.856672760511883\n",
      "12 - 16 : 5.013918931627951\n",
      "16 - 20 : 8.01052293356896\n",
      "20 - 26 : 10.823389744885072\n",
      "26 - 31 : 11.39247174636658\n",
      "31 - 36 : 11.128244920993229\n",
      "36 - 46 : 10.006112597038294\n",
      "46 - 51 : 9.356829404237613\n",
      "51 - 56 : 9.168006072394325\n",
      "56 - 70 : 8.277939636604328\n",
      "70 - 80 : 6.763529792513215\n",
      "80 - 111 : 6.145238372770719\n"
     ]
    }
   ],
   "source": [
    "mean = grouped.groupby(\"bin\").mean()[\"number\"].tolist()\n",
    "for cut, meani in zip(range(len(cuts)), mean):\n",
    "    print(cuts[cut], \"-\", cuts[cut+1], \":\", meani)\n"
   ]
  },
  {
   "cell_type": "code",
   "execution_count": 23,
   "id": "59f4e670-4fa2-4cd1-8225-e39a71e98a2c",
   "metadata": {},
   "outputs": [
    {
     "name": "stdout",
     "output_type": "stream",
     "text": [
      "0 - 12 : 4.799560137510248\n",
      "12 - 16 : 4.044568532280507\n",
      "16 - 20 : 9.36714163333865\n",
      "20 - 26 : 9.87573207164557\n",
      "26 - 31 : 9.568499660595576\n",
      "31 - 36 : 9.089755960078934\n",
      "36 - 46 : 8.617977577447027\n",
      "46 - 51 : 8.083673926338534\n",
      "51 - 56 : 7.700226639397136\n",
      "56 - 70 : 6.943397640762096\n",
      "70 - 80 : 5.8598594874542105\n",
      "80 - 111 : 5.384521139419913\n"
     ]
    }
   ],
   "source": [
    "std = grouped.groupby(\"bin\").std()[\"number\"].tolist()\n",
    "for cut, stdi in zip(range(len(cuts)), std):\n",
    "    print(cuts[cut], \"-\", cuts[cut+1], \":\", stdi)"
   ]
  },
  {
   "cell_type": "code",
   "execution_count": 16,
   "id": "8fc4e1be-1ed7-4401-9dde-dfeadbd637a6",
   "metadata": {},
   "outputs": [
    {
     "data": {
      "text/plain": [
       "[1.0, 1.0, 1.0, 1.0, 1.0, 1.0, 1.0, 1.0, 1.0, 1.0, 1.0, 1.0]"
      ]
     },
     "execution_count": 16,
     "metadata": {},
     "output_type": "execute_result"
    }
   ],
   "source": [
    "min_f = grouped.groupby(\"bin\").min()[\"number\"].tolist()\n",
    "min_f"
   ]
  },
  {
   "cell_type": "code",
   "execution_count": 17,
   "id": "90ba58f2-cfe0-486d-afaa-5aacd874d780",
   "metadata": {},
   "outputs": [
    {
     "data": {
      "text/plain": [
       "[74.0,\n",
       " 77.0,\n",
       " 297.0,\n",
       " 345.0,\n",
       " 453.0,\n",
       " 451.0,\n",
       " 460.0,\n",
       " 395.0,\n",
       " 252.0,\n",
       " 452.0,\n",
       " 276.0,\n",
       " 85.0]"
      ]
     },
     "execution_count": 17,
     "metadata": {},
     "output_type": "execute_result"
    }
   ],
   "source": [
    "max_f = grouped.groupby(\"bin\").max()[\"number\"].tolist()\n",
    "max_f"
   ]
  },
  {
   "cell_type": "code",
   "execution_count": 25,
   "id": "22487f1b-e322-4f6a-a7b8-c4d147b79d40",
   "metadata": {},
   "outputs": [],
   "source": [
    "ages = (np.array(cuts[:-1]) + np.array(cuts[1:]))/2"
   ]
  },
  {
   "cell_type": "code",
   "execution_count": 26,
   "id": "d5d4403a-6d82-4b85-8f68-bb572214106b",
   "metadata": {},
   "outputs": [
    {
     "data": {
      "image/png": "[encoded data removed]",
      "text/plain": [
       "<Figure size 432x288 with 1 Axes>"
      ]
     },
     "metadata": {
      "needs_background": "light"
     },
     "output_type": "display_data"
    }
   ],
   "source": [
    "plt.errorbar(ages, np.array(mean), np.array(std), linestyle='None', marker='^', color=\"#F16364\")\n",
    "plt.title('Number of friends')\n",
    "plt.xlabel('Age')\n",
    "plt.ylabel('Mean and standard deviation')\n",
    "plt.xticks(cuts , cuts)\n",
    "for line in cuts:\n",
    "    plt.vlines(x=line, linestyles=\"dashed\", ymin= 0, ymax=25, color=\"pink\", label=\"25 years\")\n",
    "plt.savefig(\"D:/juju/lumc/msc_thesis/report/images/number_of_friends.png\", format=\"png\",  dpi=300, bbox_inches='tight')\n",
    "#plt.savefig(\"D:/juju/lumc/msc_thesis/report/images/weightcaloriedistribution.png\", format=\"png\")\n",
    "plt.show()"
   ]
  },
  {
   "cell_type": "code",
   "execution_count": null,
   "id": "0ea78b45-627f-4197-bc3f-37f06e5983d8",
   "metadata": {},
   "outputs": [],
   "source": [
    "# https://prsg.education.wisc.edu/wp-content/uploads/2014/07/Smahel-Brown-Blinka-2012-Online-fshp-Inet-addic.pdf"
   ]
  }
 ],
 "metadata": {
  "kernelspec": {
   "display_name": "Python 3 (ipykernel)",
   "language": "python",
   "name": "python3"
  },
  "language_info": {
   "codemirror_mode": {
    "name": "ipython",
    "version": 3
   },
   "file_extension": ".py",
   "mimetype": "text/x-python",
   "name": "python",
   "nbconvert_exporter": "python",
   "pygments_lexer": "ipython3",
   "version": "3.10.4"
  }
 },
 "nbformat": 4,
 "nbformat_minor": 5
}
