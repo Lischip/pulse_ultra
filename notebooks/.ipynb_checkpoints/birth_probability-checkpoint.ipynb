{
 "cells": [
  {
   "cell_type": "markdown",
   "id": "88d6f310-f063-4958-83b5-fd7bd8e300f6",
   "metadata": {},
   "source": [
    "Number of women: https://opendata.cbs.nl/statline/#/CBS/nl/dataset/7461BEV/table?fromstatweb\n",
    "\n",
    "Births: https://opendata.cbs.nl/statline/#/CBS/nl/dataset/37201/table?fromstatweb\n",
    "\n",
    "Year: 2019"
   ]
  },
  {
   "cell_type": "markdown",
   "id": "80d46d14-4994-4381-9625-560c542e69f6",
   "metadata": {},
   "source": [
    "I can think of two ways to implement this. Both were tested and both work fine.\n",
    "# Method one, prob per vertile agent"
   ]
  },
  {
   "cell_type": "code",
   "execution_count": 2,
   "id": "15c0341a-f594-48bf-9f02-f7faa16d9d3d",
   "metadata": {},
   "outputs": [],
   "source": [
    "import pandas as pd\n",
    "import matplotlib.pyplot as plt\n",
    "import numpy as np"
   ]
  },
  {
   "cell_type": "code",
   "execution_count": 12,
   "id": "444f0390-0246-4d91-b0ef-4977b96720b9",
   "metadata": {},
   "outputs": [],
   "source": [
    "#[20-25), [25-30), [30-35), [35, 40), [40, 35), [45, 50)\n",
    "women_count = [531643, 552792, 533531, 514558, 514928, 619179]\n",
    "births = [547, 1555, 2266, 1567, 416, 30]\n",
    "total_births = sum(births)"
   ]
  },
  {
   "cell_type": "code",
   "execution_count": 19,
   "id": "69798f50-0e66-40fc-bec2-dcf3490dc37d",
   "metadata": {},
   "outputs": [],
   "source": [
    "prob = []\n",
    "for i in range(len(births)):\n",
    "    prob.append(births[i]/women_count[i]) "
   ]
  },
  {
   "cell_type": "code",
   "execution_count": 97,
   "id": "97d2caea-3894-4221-8258-ff838c9dfb04",
   "metadata": {},
   "outputs": [
    {
     "data": {
      "text/plain": [
       "[0.0010288859253295914,\n",
       " 0.002812992952141131,\n",
       " 0.004247175890435607,\n",
       " 0.0030453321102771698,\n",
       " 0.0008078799366124973,\n",
       " 4.8451255614289244e-05]"
      ]
     },
     "execution_count": 97,
     "metadata": {},
     "output_type": "execute_result"
    }
   ],
   "source": [
    "prob"
   ]
  },
  {
   "cell_type": "markdown",
   "id": "a9111f4f-ab4a-4317-a2d2-0cea50855909",
   "metadata": {},
   "source": [
    "# Method two, prop for the entire fertile female population\n",
    "bereken hoeveel kinderen geboren moeten worden want je weet #vrouwen, en dat dus reduceren naar #agents, dus dan weet je #geboortes per jaar"
   ]
  },
  {
   "cell_type": "code",
   "execution_count": 26,
   "id": "eec08ac0-7561-4389-8383-7f1383adcfe5",
   "metadata": {},
   "outputs": [
    {
     "data": {
      "text/plain": [
       "0.4917573872472784"
      ]
     },
     "execution_count": 26,
     "metadata": {},
     "output_type": "execute_result"
    }
   ],
   "source": [
    "3162/(3268+3162)"
   ]
  },
  {
   "cell_type": "code",
   "execution_count": 40,
   "id": "2e1b733e-a3f3-4e1e-a42b-7d0d4759462b",
   "metadata": {},
   "outputs": [],
   "source": [
    "births = pd.read_csv(\"Bevolking__kerncijfers_2021_2070_14082022_173702.csv\",  sep=\";\", header=0, decimal=\",\")"
   ]
  },
  {
   "cell_type": "code",
   "execution_count": 41,
   "id": "7c4bf072-fa39-4e55-b12e-261c89fe15b5",
   "metadata": {},
   "outputs": [],
   "source": [
    "#births = births.loc[births[\"Prognose(-interval)\"] == \"Prognose\"]"
   ]
  },
  {
   "cell_type": "code",
   "execution_count": 42,
   "id": "71bdcafa-9da2-471b-b97b-1a3a99cd1599",
   "metadata": {},
   "outputs": [
    {
     "data": {
      "text/plain": [
       "<matplotlib.collections.PathCollection at 0x22650286920>"
      ]
     },
     "execution_count": 42,
     "metadata": {},
     "output_type": "execute_result"
    },
    {
     "data": {
      "image/png": "[encoded data removed]",
      "text/plain": [
       "<Figure size 432x288 with 1 Axes>"
      ]
     },
     "metadata": {
      "needs_background": "light"
     },
     "output_type": "display_data"
    }
   ],
   "source": [
    "plt.scatter(x=births[\"Perioden\"], y=births[\"Levend geboren kinderen (aantal)\"])"
   ]
  },
  {
   "cell_type": "code",
   "execution_count": 44,
   "id": "6563d1c3-667b-422d-ad07-02e825bee92c",
   "metadata": {},
   "outputs": [
    {
     "data": {
      "text/html": [
       "<div>\n",
       "<style scoped>\n",
       "    .dataframe tbody tr th:only-of-type {\n",
       "        vertical-align: middle;\n",
       "    }\n",
       "\n",
       "    .dataframe tbody tr th {\n",
       "        vertical-align: top;\n",
       "    }\n",
       "\n",
       "    .dataframe thead th {\n",
       "        text-align: right;\n",
       "    }\n",
       "</style>\n",
       "<table border=\"1\" class=\"dataframe\">\n",
       "  <thead>\n",
       "    <tr style=\"text-align: right;\">\n",
       "      <th></th>\n",
       "      <th>Prognose(-interval)</th>\n",
       "      <th>Perioden</th>\n",
       "      <th>Bevolking op 1 januari (aantal)</th>\n",
       "      <th>Demografische druk/Grijze druk (%)</th>\n",
       "      <th>Levend geboren kinderen (aantal)</th>\n",
       "      <th>Totaal vruchtbaarheidscijfer (aantal)</th>\n",
       "      <th>Periode-levensverwachting/Bij geboorte/Totaal (jaar)</th>\n",
       "      <th>Periode-levensverwachting/Op de 65ste verjaardag/Totaal (jaar)</th>\n",
       "      <th>Buitenlandse migratie/Immigratie (aantal)</th>\n",
       "      <th>Buitenlandse migratie/Emigratie (inclusief correcties) (aantal)</th>\n",
       "      <th>Buitenlandse migratie/Migratiesaldo (inclusief correcties) (aantal)</th>\n",
       "    </tr>\n",
       "  </thead>\n",
       "  <tbody>\n",
       "    <tr>\n",
       "      <th>0</th>\n",
       "      <td>Prognose</td>\n",
       "      <td>2021</td>\n",
       "      <td>NaN</td>\n",
       "      <td>NaN</td>\n",
       "      <td>179839</td>\n",
       "      <td>1.63</td>\n",
       "      <td>81.55</td>\n",
       "      <td>19.68</td>\n",
       "      <td>245160</td>\n",
       "      <td>138660</td>\n",
       "      <td>106500</td>\n",
       "    </tr>\n",
       "    <tr>\n",
       "      <th>1</th>\n",
       "      <td>Prognose</td>\n",
       "      <td>2022</td>\n",
       "      <td>17593654.0</td>\n",
       "      <td>34.1</td>\n",
       "      <td>178470</td>\n",
       "      <td>1.59</td>\n",
       "      <td>82.33</td>\n",
       "      <td>20.26</td>\n",
       "      <td>280910</td>\n",
       "      <td>158848</td>\n",
       "      <td>122063</td>\n",
       "    </tr>\n",
       "    <tr>\n",
       "      <th>2</th>\n",
       "      <td>Prognose</td>\n",
       "      <td>2023</td>\n",
       "      <td>17735740.0</td>\n",
       "      <td>34.7</td>\n",
       "      <td>183115</td>\n",
       "      <td>1.61</td>\n",
       "      <td>82.67</td>\n",
       "      <td>20.50</td>\n",
       "      <td>288563</td>\n",
       "      <td>181990</td>\n",
       "      <td>106573</td>\n",
       "    </tr>\n",
       "    <tr>\n",
       "      <th>3</th>\n",
       "      <td>Prognose</td>\n",
       "      <td>2024</td>\n",
       "      <td>17867972.0</td>\n",
       "      <td>35.4</td>\n",
       "      <td>186985</td>\n",
       "      <td>1.62</td>\n",
       "      <td>82.82</td>\n",
       "      <td>20.60</td>\n",
       "      <td>289479</td>\n",
       "      <td>204453</td>\n",
       "      <td>85026</td>\n",
       "    </tr>\n",
       "    <tr>\n",
       "      <th>4</th>\n",
       "      <td>Prognose</td>\n",
       "      <td>2025</td>\n",
       "      <td>17980258.0</td>\n",
       "      <td>36.1</td>\n",
       "      <td>190019</td>\n",
       "      <td>1.63</td>\n",
       "      <td>82.98</td>\n",
       "      <td>20.71</td>\n",
       "      <td>293378</td>\n",
       "      <td>213831</td>\n",
       "      <td>79547</td>\n",
       "    </tr>\n",
       "    <tr>\n",
       "      <th>5</th>\n",
       "      <td>Prognose</td>\n",
       "      <td>2026</td>\n",
       "      <td>18087801.0</td>\n",
       "      <td>36.9</td>\n",
       "      <td>193831</td>\n",
       "      <td>1.65</td>\n",
       "      <td>83.14</td>\n",
       "      <td>20.82</td>\n",
       "      <td>294732</td>\n",
       "      <td>220524</td>\n",
       "      <td>74209</td>\n",
       "    </tr>\n",
       "    <tr>\n",
       "      <th>6</th>\n",
       "      <td>Prognose</td>\n",
       "      <td>2027</td>\n",
       "      <td>18191476.0</td>\n",
       "      <td>37.8</td>\n",
       "      <td>195697</td>\n",
       "      <td>1.65</td>\n",
       "      <td>83.30</td>\n",
       "      <td>20.93</td>\n",
       "      <td>295894</td>\n",
       "      <td>225877</td>\n",
       "      <td>70017</td>\n",
       "    </tr>\n",
       "    <tr>\n",
       "      <th>7</th>\n",
       "      <td>Prognose</td>\n",
       "      <td>2028</td>\n",
       "      <td>18290434.0</td>\n",
       "      <td>38.7</td>\n",
       "      <td>198156</td>\n",
       "      <td>1.66</td>\n",
       "      <td>83.46</td>\n",
       "      <td>21.05</td>\n",
       "      <td>297283</td>\n",
       "      <td>229857</td>\n",
       "      <td>67426</td>\n",
       "    </tr>\n",
       "    <tr>\n",
       "      <th>8</th>\n",
       "      <td>Prognose</td>\n",
       "      <td>2029</td>\n",
       "      <td>18386810.0</td>\n",
       "      <td>39.6</td>\n",
       "      <td>200211</td>\n",
       "      <td>1.67</td>\n",
       "      <td>83.62</td>\n",
       "      <td>21.16</td>\n",
       "      <td>297032</td>\n",
       "      <td>232844</td>\n",
       "      <td>64188</td>\n",
       "    </tr>\n",
       "    <tr>\n",
       "      <th>9</th>\n",
       "      <td>Prognose</td>\n",
       "      <td>2030</td>\n",
       "      <td>18479493.0</td>\n",
       "      <td>40.5</td>\n",
       "      <td>201679</td>\n",
       "      <td>1.68</td>\n",
       "      <td>83.78</td>\n",
       "      <td>21.27</td>\n",
       "      <td>296506</td>\n",
       "      <td>234742</td>\n",
       "      <td>61764</td>\n",
       "    </tr>\n",
       "  </tbody>\n",
       "</table>\n",
       "</div>"
      ],
      "text/plain": [
       "  Prognose(-interval)  Perioden  Bevolking op 1 januari (aantal)  \\\n",
       "0            Prognose      2021                              NaN   \n",
       "1            Prognose      2022                       17593654.0   \n",
       "2            Prognose      2023                       17735740.0   \n",
       "3            Prognose      2024                       17867972.0   \n",
       "4            Prognose      2025                       17980258.0   \n",
       "5            Prognose      2026                       18087801.0   \n",
       "6            Prognose      2027                       18191476.0   \n",
       "7            Prognose      2028                       18290434.0   \n",
       "8            Prognose      2029                       18386810.0   \n",
       "9            Prognose      2030                       18479493.0   \n",
       "\n",
       "   Demografische druk/Grijze druk (%)  Levend geboren kinderen (aantal)  \\\n",
       "0                                 NaN                            179839   \n",
       "1                                34.1                            178470   \n",
       "2                                34.7                            183115   \n",
       "3                                35.4                            186985   \n",
       "4                                36.1                            190019   \n",
       "5                                36.9                            193831   \n",
       "6                                37.8                            195697   \n",
       "7                                38.7                            198156   \n",
       "8                                39.6                            200211   \n",
       "9                                40.5                            201679   \n",
       "\n",
       "   Totaal vruchtbaarheidscijfer (aantal)  \\\n",
       "0                                   1.63   \n",
       "1                                   1.59   \n",
       "2                                   1.61   \n",
       "3                                   1.62   \n",
       "4                                   1.63   \n",
       "5                                   1.65   \n",
       "6                                   1.65   \n",
       "7                                   1.66   \n",
       "8                                   1.67   \n",
       "9                                   1.68   \n",
       "\n",
       "   Periode-levensverwachting/Bij geboorte/Totaal (jaar)  \\\n",
       "0                                              81.55      \n",
       "1                                              82.33      \n",
       "2                                              82.67      \n",
       "3                                              82.82      \n",
       "4                                              82.98      \n",
       "5                                              83.14      \n",
       "6                                              83.30      \n",
       "7                                              83.46      \n",
       "8                                              83.62      \n",
       "9                                              83.78      \n",
       "\n",
       "   Periode-levensverwachting/Op de 65ste verjaardag/Totaal (jaar)  \\\n",
       "0                                              19.68                \n",
       "1                                              20.26                \n",
       "2                                              20.50                \n",
       "3                                              20.60                \n",
       "4                                              20.71                \n",
       "5                                              20.82                \n",
       "6                                              20.93                \n",
       "7                                              21.05                \n",
       "8                                              21.16                \n",
       "9                                              21.27                \n",
       "\n",
       "   Buitenlandse migratie/Immigratie (aantal)  \\\n",
       "0                                     245160   \n",
       "1                                     280910   \n",
       "2                                     288563   \n",
       "3                                     289479   \n",
       "4                                     293378   \n",
       "5                                     294732   \n",
       "6                                     295894   \n",
       "7                                     297283   \n",
       "8                                     297032   \n",
       "9                                     296506   \n",
       "\n",
       "   Buitenlandse migratie/Emigratie (inclusief correcties) (aantal)  \\\n",
       "0                                             138660                 \n",
       "1                                             158848                 \n",
       "2                                             181990                 \n",
       "3                                             204453                 \n",
       "4                                             213831                 \n",
       "5                                             220524                 \n",
       "6                                             225877                 \n",
       "7                                             229857                 \n",
       "8                                             232844                 \n",
       "9                                             234742                 \n",
       "\n",
       "   Buitenlandse migratie/Migratiesaldo (inclusief correcties) (aantal)  \n",
       "0                                             106500                    \n",
       "1                                             122063                    \n",
       "2                                             106573                    \n",
       "3                                              85026                    \n",
       "4                                              79547                    \n",
       "5                                              74209                    \n",
       "6                                              70017                    \n",
       "7                                              67426                    \n",
       "8                                              64188                    \n",
       "9                                              61764                    "
      ]
     },
     "execution_count": 44,
     "metadata": {},
     "output_type": "execute_result"
    }
   ],
   "source": [
    "births.head(10)"
   ]
  },
  {
   "cell_type": "markdown",
   "id": "3cd96df8-eed6-45fe-9b20-08ca99eb0cf5",
   "metadata": {},
   "source": [
    "Based on https://denhaag.incijfers.nl/rapportages"
   ]
  },
  {
   "cell_type": "code",
   "execution_count": 77,
   "id": "b07fc047-09a3-4055-875d-5aec63a04fb4",
   "metadata": {},
   "outputs": [
    {
     "data": {
      "text/plain": [
       "0.019319122903085854"
      ]
     },
     "execution_count": 77,
     "metadata": {},
     "output_type": "execute_result"
    }
   ],
   "source": [
    "growth_rate = np.log(7400/6100)/10\n",
    "growth_rate "
   ]
  },
  {
   "cell_type": "code",
   "execution_count": 83,
   "id": "1ee447e1-2d0c-42ad-a676-25e775c29561",
   "metadata": {},
   "outputs": [
    {
     "data": {
      "text/plain": [
       "0.022600000000000002"
      ]
     },
     "execution_count": 83,
     "metadata": {},
     "output_type": "execute_result"
    }
   ],
   "source": [
    "(45.2/2/1000)"
   ]
  },
  {
   "cell_type": "code",
   "execution_count": 98,
   "id": "304d17e2-1b86-4311-9e0d-0301a4081d1a",
   "metadata": {},
   "outputs": [
    {
     "data": {
      "text/plain": [
       "0.027416393442622953"
      ]
     },
     "execution_count": 98,
     "metadata": {},
     "output_type": "execute_result"
    }
   ],
   "source": [
    "(45.2/2/1000) * np.exp(growth_rate*10)"
   ]
  },
  {
   "cell_type": "code",
   "execution_count": 100,
   "id": "b63fc662-f719-4987-a262-bf74efde6944",
   "metadata": {},
   "outputs": [
    {
     "name": "stdout",
     "output_type": "stream",
     "text": [
      "0.0012481566963014716\n",
      "0.00341248325341711\n",
      "0.005152311735938277\n",
      "0.0036943373141067304\n",
      "0.0009800510706446687\n",
      "5.8776933040285314e-05\n"
     ]
    }
   ],
   "source": [
    "for i in prob:\n",
    "    print(i * np.exp(growth_rate*10))"
   ]
  },
  {
   "cell_type": "code",
   "execution_count": 21,
   "id": "467da55e-67df-4c57-9b73-8a1a3021027f",
   "metadata": {},
   "outputs": [],
   "source": [
    "birth_rate = []\n",
    "for x in range(0, 11):\n",
    "    birth_rate.append((45.2/2/1000) * np.exp( (np.log(7400/6100)/10) *x))"
   ]
  },
  {
   "cell_type": "code",
   "execution_count": 27,
   "id": "126a7cea-a933-4941-ba89-650524fe79ce",
   "metadata": {},
   "outputs": [],
   "source": [
    "birth_rate = birth_rate + np.repeat(birth_rate[-1], 70).tolist()"
   ]
  },
  {
   "cell_type": "code",
   "execution_count": 30,
   "id": "0dd8e06b-b7df-4abb-adde-c65c3de68109",
   "metadata": {},
   "outputs": [
    {
     "data": {
      "image/png": "[encoded data removed]",
      "text/plain": [
       "<Figure size 432x288 with 1 Axes>"
      ]
     },
     "metadata": {
      "needs_background": "light"
     },
     "output_type": "display_data"
    }
   ],
   "source": [
    "plt.plot(range(0,81), birth_rate, color=\"#f16364\")\n",
    "plt.title(\"Total fertility rate\")\n",
    "plt.xlabel(\"Year\")\n",
    "plt.ylabel(\"Rate\")\n",
    "plt.savefig(\"D:/juju/lumc/msc_thesis/report/images/total_fertility_rate.png\", format=\"png\",  dpi=300, bbox_inches='tight')  \n",
    "plt.show()"
   ]
  },
  {
   "cell_type": "code",
   "execution_count": null,
   "id": "b047fa01-8049-4f3e-bc7a-76eb842ab638",
   "metadata": {},
   "outputs": [],
   "source": []
  }
 ],
 "metadata": {
  "kernelspec": {
   "display_name": "Python 3 (ipykernel)",
   "language": "python",
   "name": "python3"
  },
  "language_info": {
   "codemirror_mode": {
    "name": "ipython",
    "version": 3
   },
   "file_extension": ".py",
   "mimetype": "text/x-python",
   "name": "python",
   "nbconvert_exporter": "python",
   "pygments_lexer": "ipython3",
   "version": "3.10.4"
  }
 },
 "nbformat": 4,
 "nbformat_minor": 5
}
