{
 "cells": [
  {
   "cell_type": "markdown",
   "id": "8b280ef5-685d-49c2-aa3e-130f2a2ab054",
   "metadata": {},
   "source": [
    "# https://easy.dans.knaw.nl/ui/datasets/id/easy-dataset:59831"
   ]
  },
  {
   "cell_type": "markdown",
   "id": "6ad3ec0c-6bea-4449-bedb-f05207d4584d",
   "metadata": {},
   "source": [
    "The variables w1cmun2009id and w2cmun2012id contain an ID linked to a municipality. But it is unclear what ID belongs to which municipality"
   ]
  },
  {
   "cell_type": "code",
   "execution_count": 1,
   "id": "1937a75b-8ed8-4cea-a6e0-5de247141888",
   "metadata": {},
   "outputs": [],
   "source": [
    "import pandas as pd\n",
    "import seaborn as sns\n",
    "import matplotlib.pyplot as plt\n",
    "from matplotlib.colors import ListedColormap"
   ]
  },
  {
   "cell_type": "code",
   "execution_count": 2,
   "id": "a4c87402-68e4-4a70-94ac-8d0329df3c16",
   "metadata": {},
   "outputs": [],
   "source": [
    "df = pd.read_spss('NELLS/NELLS panel nl v1_2.sav')"
   ]
  },
  {
   "cell_type": "code",
   "execution_count": 3,
   "id": "54c1698d-e11d-4781-bd5f-03cdd9681628",
   "metadata": {},
   "outputs": [
    {
     "data": {
      "text/plain": [
       "(5312, 1551)"
      ]
     },
     "execution_count": 3,
     "metadata": {},
     "output_type": "execute_result"
    }
   ],
   "source": [
    "df.shape"
   ]
  },
  {
   "cell_type": "code",
   "execution_count": 6,
   "id": "a75e04c3-d361-4930-945d-ae2418373242",
   "metadata": {},
   "outputs": [
    {
     "data": {
      "text/html": [
       "<div>\n",
       "<style scoped>\n",
       "    .dataframe tbody tr th:only-of-type {\n",
       "        vertical-align: middle;\n",
       "    }\n",
       "\n",
       "    .dataframe tbody tr th {\n",
       "        vertical-align: top;\n",
       "    }\n",
       "\n",
       "    .dataframe thead th {\n",
       "        text-align: right;\n",
       "    }\n",
       "</style>\n",
       "<table border=\"1\" class=\"dataframe\">\n",
       "  <thead>\n",
       "    <tr style=\"text-align: right;\">\n",
       "      <th></th>\n",
       "      <th>w1crespnr</th>\n",
       "      <th>w1calter1_id</th>\n",
       "      <th>w1calter2_id</th>\n",
       "      <th>w1calter3_id</th>\n",
       "      <th>w1calter4_id</th>\n",
       "      <th>w1calter5_id</th>\n",
       "    </tr>\n",
       "  </thead>\n",
       "  <tbody>\n",
       "    <tr>\n",
       "      <th>0</th>\n",
       "      <td>9.0</td>\n",
       "      <td>NaN</td>\n",
       "      <td>NaN</td>\n",
       "      <td>NaN</td>\n",
       "      <td>NaN</td>\n",
       "      <td>NaN</td>\n",
       "    </tr>\n",
       "    <tr>\n",
       "      <th>1</th>\n",
       "      <td>19.0</td>\n",
       "      <td>NaN</td>\n",
       "      <td>NaN</td>\n",
       "      <td>NaN</td>\n",
       "      <td>NaN</td>\n",
       "      <td>NaN</td>\n",
       "    </tr>\n",
       "    <tr>\n",
       "      <th>2</th>\n",
       "      <td>28.0</td>\n",
       "      <td>NaN</td>\n",
       "      <td>NaN</td>\n",
       "      <td>NaN</td>\n",
       "      <td>NaN</td>\n",
       "      <td>NaN</td>\n",
       "    </tr>\n",
       "    <tr>\n",
       "      <th>3</th>\n",
       "      <td>37.0</td>\n",
       "      <td>NaN</td>\n",
       "      <td>NaN</td>\n",
       "      <td>NaN</td>\n",
       "      <td>NaN</td>\n",
       "      <td>NaN</td>\n",
       "    </tr>\n",
       "    <tr>\n",
       "      <th>4</th>\n",
       "      <td>38.0</td>\n",
       "      <td>NaN</td>\n",
       "      <td>NaN</td>\n",
       "      <td>NaN</td>\n",
       "      <td>NaN</td>\n",
       "      <td>NaN</td>\n",
       "    </tr>\n",
       "    <tr>\n",
       "      <th>...</th>\n",
       "      <td>...</td>\n",
       "      <td>...</td>\n",
       "      <td>...</td>\n",
       "      <td>...</td>\n",
       "      <td>...</td>\n",
       "      <td>...</td>\n",
       "    </tr>\n",
       "    <tr>\n",
       "      <th>5307</th>\n",
       "      <td>600006238.0</td>\n",
       "      <td>NaN</td>\n",
       "      <td>NaN</td>\n",
       "      <td>NaN</td>\n",
       "      <td>NaN</td>\n",
       "      <td>NaN</td>\n",
       "    </tr>\n",
       "    <tr>\n",
       "      <th>5308</th>\n",
       "      <td>600060086.0</td>\n",
       "      <td>NaN</td>\n",
       "      <td>NaN</td>\n",
       "      <td>NaN</td>\n",
       "      <td>NaN</td>\n",
       "      <td>NaN</td>\n",
       "    </tr>\n",
       "    <tr>\n",
       "      <th>5309</th>\n",
       "      <td>600060367.0</td>\n",
       "      <td>NaN</td>\n",
       "      <td>NaN</td>\n",
       "      <td>NaN</td>\n",
       "      <td>NaN</td>\n",
       "      <td>NaN</td>\n",
       "    </tr>\n",
       "    <tr>\n",
       "      <th>5310</th>\n",
       "      <td>600060933.0</td>\n",
       "      <td>NaN</td>\n",
       "      <td>NaN</td>\n",
       "      <td>NaN</td>\n",
       "      <td>NaN</td>\n",
       "      <td>NaN</td>\n",
       "    </tr>\n",
       "    <tr>\n",
       "      <th>5311</th>\n",
       "      <td>900008193.0</td>\n",
       "      <td>NaN</td>\n",
       "      <td>NaN</td>\n",
       "      <td>NaN</td>\n",
       "      <td>NaN</td>\n",
       "      <td>NaN</td>\n",
       "    </tr>\n",
       "  </tbody>\n",
       "</table>\n",
       "<p>5312 rows × 6 columns</p>\n",
       "</div>"
      ],
      "text/plain": [
       "        w1crespnr  w1calter1_id  w1calter2_id  w1calter3_id  w1calter4_id  \\\n",
       "0             9.0           NaN           NaN           NaN           NaN   \n",
       "1            19.0           NaN           NaN           NaN           NaN   \n",
       "2            28.0           NaN           NaN           NaN           NaN   \n",
       "3            37.0           NaN           NaN           NaN           NaN   \n",
       "4            38.0           NaN           NaN           NaN           NaN   \n",
       "...           ...           ...           ...           ...           ...   \n",
       "5307  600006238.0           NaN           NaN           NaN           NaN   \n",
       "5308  600060086.0           NaN           NaN           NaN           NaN   \n",
       "5309  600060367.0           NaN           NaN           NaN           NaN   \n",
       "5310  600060933.0           NaN           NaN           NaN           NaN   \n",
       "5311  900008193.0           NaN           NaN           NaN           NaN   \n",
       "\n",
       "      w1calter5_id  \n",
       "0              NaN  \n",
       "1              NaN  \n",
       "2              NaN  \n",
       "3              NaN  \n",
       "4              NaN  \n",
       "...            ...  \n",
       "5307           NaN  \n",
       "5308           NaN  \n",
       "5309           NaN  \n",
       "5310           NaN  \n",
       "5311           NaN  \n",
       "\n",
       "[5312 rows x 6 columns]"
      ]
     },
     "execution_count": 6,
     "metadata": {},
     "output_type": "execute_result"
    }
   ],
   "source": [
    "df[['w1crespnr', 'w1calter1_id',  'w1calter2_id', 'w1calter3_id', 'w1calter4_id', 'w1calter5_id']]"
   ]
  },
  {
   "cell_type": "code",
   "execution_count": 7,
   "id": "3074863d-5a64-497a-a269-4d580339199b",
   "metadata": {},
   "outputs": [
    {
     "data": {
      "text/plain": [
       "['Turkish, 1st gen',\n",
       " 'Dutch',\n",
       " 'Non West, 2nd gen',\n",
       " 'Moroccan, 1st gen',\n",
       " 'Turkish, 2nd gen',\n",
       " 'Non West, 1st gen',\n",
       " 'Moroccan, 2nd gen',\n",
       " 'West, 2nd gen',\n",
       " 'West, 1st gen']"
      ]
     },
     "execution_count": 7,
     "metadata": {},
     "output_type": "execute_result"
    }
   ],
   "source": [
    "df['w1cethnic'].unique().tolist()"
   ]
  },
  {
   "cell_type": "code",
   "execution_count": 8,
   "id": "ebe965d3-e52e-4f30-ae57-d2c0fa278b4a",
   "metadata": {},
   "outputs": [
    {
     "data": {
      "text/html": [
       "<div>\n",
       "<style scoped>\n",
       "    .dataframe tbody tr th:only-of-type {\n",
       "        vertical-align: middle;\n",
       "    }\n",
       "\n",
       "    .dataframe tbody tr th {\n",
       "        vertical-align: top;\n",
       "    }\n",
       "\n",
       "    .dataframe thead th {\n",
       "        text-align: right;\n",
       "    }\n",
       "</style>\n",
       "<table border=\"1\" class=\"dataframe\">\n",
       "  <thead>\n",
       "    <tr style=\"text-align: right;\">\n",
       "      <th></th>\n",
       "      <th>w1scb21a</th>\n",
       "      <th>w1scb21b</th>\n",
       "      <th>w1scb21c</th>\n",
       "      <th>w1scb21d</th>\n",
       "      <th>w1scb21e</th>\n",
       "    </tr>\n",
       "  </thead>\n",
       "  <tbody>\n",
       "    <tr>\n",
       "      <th>0</th>\n",
       "      <td>NaN</td>\n",
       "      <td>NaN</td>\n",
       "      <td>NaN</td>\n",
       "      <td>NaN</td>\n",
       "      <td>NaN</td>\n",
       "    </tr>\n",
       "    <tr>\n",
       "      <th>1</th>\n",
       "      <td>ja</td>\n",
       "      <td>ja</td>\n",
       "      <td>nee</td>\n",
       "      <td>nee</td>\n",
       "      <td>nee</td>\n",
       "    </tr>\n",
       "    <tr>\n",
       "      <th>2</th>\n",
       "      <td>ja</td>\n",
       "      <td>ja</td>\n",
       "      <td>ja</td>\n",
       "      <td>nee</td>\n",
       "      <td>nee</td>\n",
       "    </tr>\n",
       "    <tr>\n",
       "      <th>3</th>\n",
       "      <td>nee</td>\n",
       "      <td>nee</td>\n",
       "      <td>nee</td>\n",
       "      <td>nee</td>\n",
       "      <td>nee</td>\n",
       "    </tr>\n",
       "    <tr>\n",
       "      <th>4</th>\n",
       "      <td>NaN</td>\n",
       "      <td>NaN</td>\n",
       "      <td>NaN</td>\n",
       "      <td>NaN</td>\n",
       "      <td>NaN</td>\n",
       "    </tr>\n",
       "    <tr>\n",
       "      <th>...</th>\n",
       "      <td>...</td>\n",
       "      <td>...</td>\n",
       "      <td>...</td>\n",
       "      <td>...</td>\n",
       "      <td>...</td>\n",
       "    </tr>\n",
       "    <tr>\n",
       "      <th>5307</th>\n",
       "      <td>ja</td>\n",
       "      <td>nee</td>\n",
       "      <td>ja</td>\n",
       "      <td>nee</td>\n",
       "      <td>nee</td>\n",
       "    </tr>\n",
       "    <tr>\n",
       "      <th>5308</th>\n",
       "      <td>ja</td>\n",
       "      <td>nee</td>\n",
       "      <td>ja</td>\n",
       "      <td>ja</td>\n",
       "      <td>ja</td>\n",
       "    </tr>\n",
       "    <tr>\n",
       "      <th>5309</th>\n",
       "      <td>ja</td>\n",
       "      <td>nee</td>\n",
       "      <td>ja</td>\n",
       "      <td>nee</td>\n",
       "      <td>nee</td>\n",
       "    </tr>\n",
       "    <tr>\n",
       "      <th>5310</th>\n",
       "      <td>ja</td>\n",
       "      <td>nee</td>\n",
       "      <td>ja</td>\n",
       "      <td>ja</td>\n",
       "      <td>nee</td>\n",
       "    </tr>\n",
       "    <tr>\n",
       "      <th>5311</th>\n",
       "      <td>ja</td>\n",
       "      <td>nee</td>\n",
       "      <td>nee</td>\n",
       "      <td>nee</td>\n",
       "      <td>nee</td>\n",
       "    </tr>\n",
       "  </tbody>\n",
       "</table>\n",
       "<p>5312 rows × 5 columns</p>\n",
       "</div>"
      ],
      "text/plain": [
       "     w1scb21a w1scb21b w1scb21c w1scb21d w1scb21e\n",
       "0         NaN      NaN      NaN      NaN      NaN\n",
       "1          ja       ja      nee      nee      nee\n",
       "2          ja       ja       ja      nee      nee\n",
       "3         nee      nee      nee      nee      nee\n",
       "4         NaN      NaN      NaN      NaN      NaN\n",
       "...       ...      ...      ...      ...      ...\n",
       "5307       ja      nee       ja      nee      nee\n",
       "5308       ja      nee       ja       ja       ja\n",
       "5309       ja      nee       ja      nee      nee\n",
       "5310       ja      nee       ja       ja      nee\n",
       "5311       ja      nee      nee      nee      nee\n",
       "\n",
       "[5312 rows x 5 columns]"
      ]
     },
     "execution_count": 8,
     "metadata": {},
     "output_type": "execute_result"
    }
   ],
   "source": [
    "df[['w1scb21a', 'w1scb21b', 'w1scb21c', 'w1scb21d', 'w1scb21e']] #friends: Dutch origin, Turkish, Morrocan, Surinamese/Antillian, other non-Western"
   ]
  },
  {
   "cell_type": "code",
   "execution_count": 9,
   "id": "5f128f07-97a3-4ea8-ad63-644733da71f7",
   "metadata": {},
   "outputs": [],
   "source": [
    "df[\"w1cage\"] = pd.to_numeric(df[\"w1cage\"], downcast=\"float\")"
   ]
  },
  {
   "cell_type": "code",
   "execution_count": 10,
   "id": "3d265643-733c-4d6c-b4a4-b2aa9985a206",
   "metadata": {},
   "outputs": [
    {
     "data": {
      "text/plain": [
       "dtype('float32')"
      ]
     },
     "execution_count": 10,
     "metadata": {},
     "output_type": "execute_result"
    }
   ],
   "source": [
    "df.w1cage.dtypes"
   ]
  },
  {
   "cell_type": "code",
   "execution_count": 11,
   "id": "d08b84e3-5db4-473c-b089-08e50681bdba",
   "metadata": {},
   "outputs": [
    {
     "data": {
      "text/plain": [
       "<AxesSubplot:ylabel='Count'>"
      ]
     },
     "execution_count": 11,
     "metadata": {},
     "output_type": "execute_result"
    },
    {
     "data": {
      "image/png": "[encoded data removed]",
      "text/plain": [
       "<Figure size 432x288 with 1 Axes>"
      ]
     },
     "metadata": {
      "needs_background": "light"
     },
     "output_type": "display_data"
    }
   ],
   "source": [
    "sns.histplot(df[\"w2cage\"] + df[\"w1cage\"], kde=True, color= \"#f16364\")"
   ]
  },
  {
   "cell_type": "code",
   "execution_count": 12,
   "id": "7db0813b-29bd-4581-b014-4e4168425511",
   "metadata": {},
   "outputs": [
    {
     "data": {
      "text/plain": [
       "(928, 1551)"
      ]
     },
     "execution_count": 12,
     "metadata": {},
     "output_type": "execute_result"
    }
   ],
   "source": [
    "df[df['w1cage'] <=  20].shape"
   ]
  },
  {
   "cell_type": "code",
   "execution_count": 13,
   "id": "477d9841-cca3-4b44-9cc5-c98c6280a793",
   "metadata": {},
   "outputs": [],
   "source": [
    "w1 = df[['w1cethnic', 'w1csex', 'w1cage', 'w1fg6_1', 'w1fg6_2', 'w1fg6_3', 'w1fg6_4', 'w1fg6_5']].copy()"
   ]
  },
  {
   "cell_type": "code",
   "execution_count": 14,
   "id": "7b553cf1-c4ca-4504-97c9-ab5cf020eb06",
   "metadata": {},
   "outputs": [],
   "source": [
    "w2 = df[['w1cethnic', 'w2csex', 'w2cage', 'w2fg6_1', 'w2fg6_2', 'w2fg6_3', 'w2fg6_4', 'w2fg6_5']].copy()"
   ]
  },
  {
   "cell_type": "code",
   "execution_count": 15,
   "id": "dd1a35e3-eb1f-4389-9fe6-ae42066cf838",
   "metadata": {},
   "outputs": [],
   "source": [
    "w2.columns = w1.columns"
   ]
  },
  {
   "cell_type": "code",
   "execution_count": 16,
   "id": "38ec515d-2ca9-4ca0-8464-a9ce6952f4ca",
   "metadata": {},
   "outputs": [
    {
     "data": {
      "text/html": [
       "<div>\n",
       "<style scoped>\n",
       "    .dataframe tbody tr th:only-of-type {\n",
       "        vertical-align: middle;\n",
       "    }\n",
       "\n",
       "    .dataframe tbody tr th {\n",
       "        vertical-align: top;\n",
       "    }\n",
       "\n",
       "    .dataframe thead th {\n",
       "        text-align: right;\n",
       "    }\n",
       "</style>\n",
       "<table border=\"1\" class=\"dataframe\">\n",
       "  <thead>\n",
       "    <tr style=\"text-align: right;\">\n",
       "      <th></th>\n",
       "      <th>w1cethnic</th>\n",
       "      <th>w1cmun2009id</th>\n",
       "      <th>w1csex</th>\n",
       "      <th>w1cage</th>\n",
       "      <th>w1fg6_1</th>\n",
       "      <th>w1fg6_2</th>\n",
       "      <th>w1fg6_3</th>\n",
       "      <th>w1fg6_4</th>\n",
       "      <th>w1fg6_5</th>\n",
       "    </tr>\n",
       "  </thead>\n",
       "  <tbody>\n",
       "    <tr>\n",
       "      <th>0</th>\n",
       "      <td>Turkish, 1st gen</td>\n",
       "      <td>1223.0</td>\n",
       "      <td>vrouw</td>\n",
       "      <td>39.000000</td>\n",
       "      <td>turkije</td>\n",
       "      <td>turkije</td>\n",
       "      <td>turkije</td>\n",
       "      <td>NaN</td>\n",
       "      <td>NaN</td>\n",
       "    </tr>\n",
       "    <tr>\n",
       "      <th>1</th>\n",
       "      <td>Turkish, 1st gen</td>\n",
       "      <td>166.0</td>\n",
       "      <td>man</td>\n",
       "      <td>40.000000</td>\n",
       "      <td>turkije</td>\n",
       "      <td>turkije</td>\n",
       "      <td>turkije</td>\n",
       "      <td>turkije</td>\n",
       "      <td>nederland</td>\n",
       "    </tr>\n",
       "    <tr>\n",
       "      <th>2</th>\n",
       "      <td>Dutch</td>\n",
       "      <td>1559.0</td>\n",
       "      <td>vrouw</td>\n",
       "      <td>40.000000</td>\n",
       "      <td>nederland</td>\n",
       "      <td>nederland</td>\n",
       "      <td>nederland</td>\n",
       "      <td>nederland</td>\n",
       "      <td>NaN</td>\n",
       "    </tr>\n",
       "    <tr>\n",
       "      <th>3</th>\n",
       "      <td>Turkish, 1st gen</td>\n",
       "      <td>1223.0</td>\n",
       "      <td>man</td>\n",
       "      <td>46.000000</td>\n",
       "      <td>turkije</td>\n",
       "      <td>nederland</td>\n",
       "      <td>NaN</td>\n",
       "      <td>NaN</td>\n",
       "      <td>NaN</td>\n",
       "    </tr>\n",
       "    <tr>\n",
       "      <th>4</th>\n",
       "      <td>Non West, 2nd gen</td>\n",
       "      <td>370.0</td>\n",
       "      <td>man</td>\n",
       "      <td>40.000000</td>\n",
       "      <td>nederland</td>\n",
       "      <td>nederland</td>\n",
       "      <td>nederland</td>\n",
       "      <td>nederland</td>\n",
       "      <td>nederland</td>\n",
       "    </tr>\n",
       "    <tr>\n",
       "      <th>...</th>\n",
       "      <td>...</td>\n",
       "      <td>...</td>\n",
       "      <td>...</td>\n",
       "      <td>...</td>\n",
       "      <td>...</td>\n",
       "      <td>...</td>\n",
       "      <td>...</td>\n",
       "      <td>...</td>\n",
       "      <td>...</td>\n",
       "    </tr>\n",
       "    <tr>\n",
       "      <th>10619</th>\n",
       "      <td>Moroccan, 2nd gen</td>\n",
       "      <td>386.0</td>\n",
       "      <td>vrouw</td>\n",
       "      <td>31.356605</td>\n",
       "      <td>Marokko</td>\n",
       "      <td>Marokko</td>\n",
       "      <td>NaN</td>\n",
       "      <td>NaN</td>\n",
       "      <td>NaN</td>\n",
       "    </tr>\n",
       "    <tr>\n",
       "      <th>10620</th>\n",
       "      <td>Moroccan, 1st gen</td>\n",
       "      <td>386.0</td>\n",
       "      <td>man</td>\n",
       "      <td>31.537303</td>\n",
       "      <td>Anders</td>\n",
       "      <td>Marokko</td>\n",
       "      <td>NaN</td>\n",
       "      <td>NaN</td>\n",
       "      <td>NaN</td>\n",
       "    </tr>\n",
       "    <tr>\n",
       "      <th>10621</th>\n",
       "      <td>Moroccan, 1st gen</td>\n",
       "      <td>386.0</td>\n",
       "      <td>man</td>\n",
       "      <td>38.502396</td>\n",
       "      <td>Marokko</td>\n",
       "      <td>NaN</td>\n",
       "      <td>NaN</td>\n",
       "      <td>NaN</td>\n",
       "      <td>NaN</td>\n",
       "    </tr>\n",
       "    <tr>\n",
       "      <th>10622</th>\n",
       "      <td>Moroccan, 1st gen</td>\n",
       "      <td>386.0</td>\n",
       "      <td>vrouw</td>\n",
       "      <td>39.074606</td>\n",
       "      <td>Nederland</td>\n",
       "      <td>NaN</td>\n",
       "      <td>NaN</td>\n",
       "      <td>NaN</td>\n",
       "      <td>NaN</td>\n",
       "    </tr>\n",
       "    <tr>\n",
       "      <th>10623</th>\n",
       "      <td>Dutch</td>\n",
       "      <td>2218.0</td>\n",
       "      <td>vrouw</td>\n",
       "      <td>45.472964</td>\n",
       "      <td>Nederland</td>\n",
       "      <td>Nederland</td>\n",
       "      <td>NaN</td>\n",
       "      <td>NaN</td>\n",
       "      <td>NaN</td>\n",
       "    </tr>\n",
       "  </tbody>\n",
       "</table>\n",
       "<p>10624 rows × 9 columns</p>\n",
       "</div>"
      ],
      "text/plain": [
       "               w1cethnic  w1cmun2009id w1csex     w1cage    w1fg6_1  \\\n",
       "0       Turkish, 1st gen        1223.0  vrouw  39.000000    turkije   \n",
       "1       Turkish, 1st gen         166.0    man  40.000000    turkije   \n",
       "2                  Dutch        1559.0  vrouw  40.000000  nederland   \n",
       "3       Turkish, 1st gen        1223.0    man  46.000000    turkije   \n",
       "4      Non West, 2nd gen         370.0    man  40.000000  nederland   \n",
       "...                  ...           ...    ...        ...        ...   \n",
       "10619  Moroccan, 2nd gen         386.0  vrouw  31.356605    Marokko   \n",
       "10620  Moroccan, 1st gen         386.0    man  31.537303     Anders   \n",
       "10621  Moroccan, 1st gen         386.0    man  38.502396    Marokko   \n",
       "10622  Moroccan, 1st gen         386.0  vrouw  39.074606  Nederland   \n",
       "10623              Dutch        2218.0  vrouw  45.472964  Nederland   \n",
       "\n",
       "         w1fg6_2    w1fg6_3    w1fg6_4    w1fg6_5  \n",
       "0        turkije    turkije        NaN        NaN  \n",
       "1        turkije    turkije    turkije  nederland  \n",
       "2      nederland  nederland  nederland        NaN  \n",
       "3      nederland        NaN        NaN        NaN  \n",
       "4      nederland  nederland  nederland  nederland  \n",
       "...          ...        ...        ...        ...  \n",
       "10619    Marokko        NaN        NaN        NaN  \n",
       "10620    Marokko        NaN        NaN        NaN  \n",
       "10621        NaN        NaN        NaN        NaN  \n",
       "10622        NaN        NaN        NaN        NaN  \n",
       "10623  Nederland        NaN        NaN        NaN  \n",
       "\n",
       "[10624 rows x 9 columns]"
      ]
     },
     "execution_count": 16,
     "metadata": {},
     "output_type": "execute_result"
    }
   ],
   "source": [
    "new = pd.concat([w1,w2], ignore_index=True, axis=0)\n",
    "new"
   ]
  },
  {
   "cell_type": "code",
   "execution_count": 15,
   "id": "1998b0be-53f8-4c59-8d0e-3ed7baf80367",
   "metadata": {},
   "outputs": [],
   "source": [
    "new = new[new[\"w1csex\"] == \"vrouw\"]"
   ]
  },
  {
   "cell_type": "code",
   "execution_count": 16,
   "id": "c68e9686-c46a-4ed9-8cef-8ae292cdcbc0",
   "metadata": {},
   "outputs": [],
   "source": [
    "new = new[new[\"w1cethnic\"].isin([\"Turkish, 1st gen\", \"Turkish, 2nd gen\", \"Dutch\", \"Moroccan, 1st gen\", \"Moroccan, 2nd gen\"])].copy()\n",
    "new[\"w1cethnic\"] = new[\"w1cethnic\"].replace(\"Turkish, 1st gen\", \"Turkish\")\n",
    "new[\"w1cethnic\"] = new[\"w1cethnic\"].replace(\"Turkish, 2nd gen\", \"Turkish\")\n",
    "new[\"w1cethnic\"] = new[\"w1cethnic\"].replace(\"Moroccan, 1st gen\", \"Moroccan\")\n",
    "new[\"w1cethnic\"] = new[\"w1cethnic\"].replace(\"Moroccan, 2nd gen\", \"Moroccan\")"
   ]
  },
  {
   "cell_type": "code",
   "execution_count": 17,
   "id": "58834ae7-6515-4492-b2da-177c271de439",
   "metadata": {},
   "outputs": [],
   "source": [
    "new[\"w1cethnic\"] = pd.Categorical(new[\"w1cethnic\"], ['Turkish','Moroccan','Dutch'])"
   ]
  },
  {
   "cell_type": "code",
   "execution_count": 18,
   "id": "02327225-cbee-4687-9c42-51ea4159db91",
   "metadata": {},
   "outputs": [],
   "source": [
    "new['ethnicity'] = new['w1cethnic']"
   ]
  },
  {
   "cell_type": "code",
   "execution_count": 19,
   "id": "c237b6d6-82e2-4ab2-82de-393a4fdf06d1",
   "metadata": {},
   "outputs": [
    {
     "data": {
      "text/plain": [
       "['Turkish', 'Dutch', 'Moroccan']"
      ]
     },
     "execution_count": 19,
     "metadata": {},
     "output_type": "execute_result"
    }
   ],
   "source": [
    "new['w1cethnic'].unique().tolist()"
   ]
  },
  {
   "cell_type": "code",
   "execution_count": 20,
   "id": "fa1aeac6-d0b5-4c38-931d-615631283dba",
   "metadata": {},
   "outputs": [],
   "source": [
    "colors = sns.color_palette([\"#FF0000\", \"#00FF00\", \"#0000FF\", \"#FF00FF\"])\n",
    "py_colors = ListedColormap(colors.as_hex())"
   ]
  },
  {
   "cell_type": "code",
   "execution_count": 21,
   "id": "ecb8f590-ac51-4a4b-873a-0902ec0e82df",
   "metadata": {},
   "outputs": [
    {
     "data": {
      "text/html": [
       "<svg  width=\"220\" height=\"55\"><rect x=\"0\" y=\"0\" width=\"55\" height=\"55\" style=\"fill:#ff0000;stroke-width:2;stroke:rgb(255,255,255)\"/><rect x=\"55\" y=\"0\" width=\"55\" height=\"55\" style=\"fill:#00ff00;stroke-width:2;stroke:rgb(255,255,255)\"/><rect x=\"110\" y=\"0\" width=\"55\" height=\"55\" style=\"fill:#0000ff;stroke-width:2;stroke:rgb(255,255,255)\"/><rect x=\"165\" y=\"0\" width=\"55\" height=\"55\" style=\"fill:#ff00ff;stroke-width:2;stroke:rgb(255,255,255)\"/></svg>"
      ],
      "text/plain": [
       "[(1.0, 0.0, 0.0), (0.0, 1.0, 0.0), (0.0, 0.0, 1.0), (1.0, 0.0, 1.0)]"
      ]
     },
     "execution_count": 21,
     "metadata": {},
     "output_type": "execute_result"
    }
   ],
   "source": [
    "colors"
   ]
  },
  {
   "cell_type": "code",
   "execution_count": 22,
   "id": "f324db50-bb9b-4dec-a21e-f315039a096d",
   "metadata": {},
   "outputs": [
    {
     "data": {
      "image/png": "[encoded data removed]",
      "text/plain": [
       "<Figure size 432x288 with 1 Axes>"
      ]
     },
     "metadata": {
      "needs_background": "light"
     },
     "output_type": "display_data"
    }
   ],
   "source": [
    "fig, ax = plt.subplots()\n",
    "\n",
    "sns.histplot(new, x=\"w1cage\", hue=\"ethnicity\", kde=True, palette=sns.color_palette([\"#FF0000\", \"#00FF00\", \"#0000FF\"]))\n",
    "plt.title('Distribution of ages per ethnicity')\n",
    "plt.ylabel('Number of candidates')\n",
    "plt.xlabel('Age')\n",
    "plt.grid()\n",
    "#plt.legend(title=\"Ethnicity\", labels=[\"Moroccan\", \"Turkish\", \"Dutch\"])\n",
    "plt.savefig(\"D:/juju/lumc/msc_thesis/report/images/ethnicitydistribution.png\", format=\"png\",  dpi=300, bbox_inches='tight')\n",
    "plt.show()"
   ]
  },
  {
   "cell_type": "code",
   "execution_count": 23,
   "id": "ba1bcdb5-95d4-423f-a956-591e330779cd",
   "metadata": {},
   "outputs": [
    {
     "data": {
      "text/plain": [
       "<AxesSubplot:xlabel='w1cage', ylabel='Count'>"
      ]
     },
     "execution_count": 23,
     "metadata": {},
     "output_type": "execute_result"
    },
    {
     "data": {
      "image/png": "[encoded data removed]",
      "text/plain": [
       "<Figure size 432x288 with 1 Axes>"
      ]
     },
     "metadata": {
      "needs_background": "light"
     },
     "output_type": "display_data"
    }
   ],
   "source": [
    "sns.histplot(new[\"w1cage\"], kde=True, color= \"#f16364\")"
   ]
  },
  {
   "cell_type": "code",
   "execution_count": 24,
   "id": "bd97af7e-5547-40aa-a4fc-04fbcc739867",
   "metadata": {},
   "outputs": [],
   "source": [
    "new[\"Friends\"] = new[['w1fg6_1', 'w1fg6_2', 'w1fg6_3', 'w1fg6_4', 'w1fg6_5']].count(axis=1)"
   ]
  },
  {
   "cell_type": "code",
   "execution_count": 25,
   "id": "602efcb3-e5c0-4d2a-b1a6-11ca2107e314",
   "metadata": {},
   "outputs": [],
   "source": [
    "new['w1fg6_1'] = new['w1fg6_1'].str.lower()\n",
    "new['w1fg6_2'] = new['w1fg6_2'].str.lower()\n",
    "new['w1fg6_3'] = new['w1fg6_3'].str.lower()\n",
    "new['w1fg6_4'] = new['w1fg6_4'].str.lower()\n",
    "new['w1fg6_5'] = new['w1fg6_5'].str.lower()"
   ]
  },
  {
   "cell_type": "code",
   "execution_count": 26,
   "id": "78a0b7a8-0667-4012-bd4c-b30b9cee3999",
   "metadata": {},
   "outputs": [],
   "source": [
    "new[\"Moroccans\"] = 0\n",
    "new[\"Moroccans\"] += [1 if ele == \"marokko\" else 0 for ele in new[\"w1fg6_1\"]]\n",
    "new[\"Moroccans\"] += [1 if ele == \"marokko\" else 0 for ele in new[\"w1fg6_2\"]]\n",
    "new[\"Moroccans\"] += [1 if ele == \"marokko\" else 0 for ele in new[\"w1fg6_3\"]]\n",
    "new[\"Moroccans\"] += [1 if ele == \"marokko\" else 0 for ele in new[\"w1fg6_4\"]]\n",
    "new[\"Moroccans\"] += [1 if ele == \"marokko\" else 0 for ele in new[\"w1fg6_5\"]]\n",
    "new[\"Moroccans\"] /= new[\"Friends\"]"
   ]
  },
  {
   "cell_type": "code",
   "execution_count": 27,
   "id": "c8b7bd6f-e675-4037-8f42-f9c9ef105aad",
   "metadata": {},
   "outputs": [],
   "source": [
    "new[\"Dutch\"] = 0\n",
    "new[\"Dutch\"] += [1 if ele == \"nederland\" else 0 for ele in new[\"w1fg6_1\"]]\n",
    "new[\"Dutch\"] += [1 if ele == \"nederland\" else 0 for ele in new[\"w1fg6_2\"]]\n",
    "new[\"Dutch\"] += [1 if ele == \"nederland\" else 0 for ele in new[\"w1fg6_3\"]]\n",
    "new[\"Dutch\"] += [1 if ele == \"nederland\" else 0 for ele in new[\"w1fg6_4\"]]\n",
    "new[\"Dutch\"] += [1 if ele == \"nederland\" else 0 for ele in new[\"w1fg6_5\"]]\n",
    "new[\"Dutch\"] /= new[\"Friends\"]"
   ]
  },
  {
   "cell_type": "code",
   "execution_count": 28,
   "id": "7169c00d-e8ae-4a0a-94bb-8d96284a10d8",
   "metadata": {},
   "outputs": [],
   "source": [
    "new[\"Turkish\"] = 0\n",
    "new[\"Turkish\"] += [1 if ele == \"turkije\" else 0 for ele in new[\"w1fg6_1\"]]\n",
    "new[\"Turkish\"] += [1 if ele == \"turkije\" else 0 for ele in new[\"w1fg6_2\"]]\n",
    "new[\"Turkish\"] += [1 if ele == \"turkije\" else 0 for ele in new[\"w1fg6_3\"]]\n",
    "new[\"Turkish\"] += [1 if ele == \"turkije\" else 0 for ele in new[\"w1fg6_4\"]]\n",
    "new[\"Turkish\"] += [1 if ele == \"turkije\" else 0 for ele in new[\"w1fg6_5\"]]\n",
    "new[\"Turkish\"] /= new[\"Friends\"]"
   ]
  },
  {
   "cell_type": "code",
   "execution_count": 29,
   "id": "78871560-ac0d-4604-b7b6-af2d5faa87c1",
   "metadata": {},
   "outputs": [],
   "source": [
    "new[\"Other\"] = 0\n",
    "new[\"Other\"] += [1 if ((ele not in ([\"marokko\",\"nederland\",\"turkije\"])) and not (pd.isna(ele))) else 0 for ele in new[\"w1fg6_1\"]]\n",
    "new[\"Other\"] += [1 if ((ele not in ([\"marokko\",\"nederland\",\"turkije\"])) and not (pd.isna(ele))) else 0 for ele in new[\"w1fg6_2\"]]\n",
    "new[\"Other\"] += [1 if ((ele not in ([\"marokko\",\"nederland\",\"turkije\"])) and not (pd.isna(ele))) else 0 for ele in new[\"w1fg6_3\"]]\n",
    "new[\"Other\"] += [1 if ((ele not in ([\"marokko\",\"nederland\",\"turkije\"])) and not (pd.isna(ele))) else 0 for ele in new[\"w1fg6_4\"]]\n",
    "new[\"Other\"] += [1 if ((ele not in ([\"marokko\",\"nederland\",\"turkije\"])) and not (pd.isna(ele))) else 0 for ele in new[\"w1fg6_5\"]]\n",
    "new[\"Other\"] /= new[\"Friends\"]"
   ]
  },
  {
   "cell_type": "code",
   "execution_count": 30,
   "id": "c324fcbf-1023-4aea-817a-d4fc70e1d2f1",
   "metadata": {},
   "outputs": [
    {
     "data": {
      "text/html": [
       "<div>\n",
       "<style scoped>\n",
       "    .dataframe tbody tr th:only-of-type {\n",
       "        vertical-align: middle;\n",
       "    }\n",
       "\n",
       "    .dataframe tbody tr th {\n",
       "        vertical-align: top;\n",
       "    }\n",
       "\n",
       "    .dataframe thead th {\n",
       "        text-align: right;\n",
       "    }\n",
       "</style>\n",
       "<table border=\"1\" class=\"dataframe\">\n",
       "  <thead>\n",
       "    <tr style=\"text-align: right;\">\n",
       "      <th></th>\n",
       "      <th>w1cethnic</th>\n",
       "      <th>w1csex</th>\n",
       "      <th>w1cage</th>\n",
       "      <th>w1fg6_1</th>\n",
       "      <th>w1fg6_2</th>\n",
       "      <th>w1fg6_3</th>\n",
       "      <th>w1fg6_4</th>\n",
       "      <th>w1fg6_5</th>\n",
       "      <th>ethnicity</th>\n",
       "      <th>Friends</th>\n",
       "      <th>Moroccans</th>\n",
       "      <th>Dutch</th>\n",
       "      <th>Turkish</th>\n",
       "      <th>Other</th>\n",
       "    </tr>\n",
       "  </thead>\n",
       "  <tbody>\n",
       "    <tr>\n",
       "      <th>0</th>\n",
       "      <td>Turkish</td>\n",
       "      <td>vrouw</td>\n",
       "      <td>39.000000</td>\n",
       "      <td>turkije</td>\n",
       "      <td>turkije</td>\n",
       "      <td>turkije</td>\n",
       "      <td>NaN</td>\n",
       "      <td>NaN</td>\n",
       "      <td>Turkish</td>\n",
       "      <td>3</td>\n",
       "      <td>0.0</td>\n",
       "      <td>0.0</td>\n",
       "      <td>1.000000</td>\n",
       "      <td>0.000000</td>\n",
       "    </tr>\n",
       "    <tr>\n",
       "      <th>2</th>\n",
       "      <td>Dutch</td>\n",
       "      <td>vrouw</td>\n",
       "      <td>40.000000</td>\n",
       "      <td>nederland</td>\n",
       "      <td>nederland</td>\n",
       "      <td>nederland</td>\n",
       "      <td>nederland</td>\n",
       "      <td>NaN</td>\n",
       "      <td>Dutch</td>\n",
       "      <td>4</td>\n",
       "      <td>0.0</td>\n",
       "      <td>1.0</td>\n",
       "      <td>0.000000</td>\n",
       "      <td>0.000000</td>\n",
       "    </tr>\n",
       "    <tr>\n",
       "      <th>7</th>\n",
       "      <td>Dutch</td>\n",
       "      <td>vrouw</td>\n",
       "      <td>29.000000</td>\n",
       "      <td>nederland</td>\n",
       "      <td>NaN</td>\n",
       "      <td>NaN</td>\n",
       "      <td>NaN</td>\n",
       "      <td>NaN</td>\n",
       "      <td>Dutch</td>\n",
       "      <td>1</td>\n",
       "      <td>0.0</td>\n",
       "      <td>1.0</td>\n",
       "      <td>0.000000</td>\n",
       "      <td>0.000000</td>\n",
       "    </tr>\n",
       "    <tr>\n",
       "      <th>9</th>\n",
       "      <td>Turkish</td>\n",
       "      <td>vrouw</td>\n",
       "      <td>44.000000</td>\n",
       "      <td>suriname</td>\n",
       "      <td>turkije</td>\n",
       "      <td>turkije</td>\n",
       "      <td>NaN</td>\n",
       "      <td>NaN</td>\n",
       "      <td>Turkish</td>\n",
       "      <td>3</td>\n",
       "      <td>0.0</td>\n",
       "      <td>0.0</td>\n",
       "      <td>0.666667</td>\n",
       "      <td>0.333333</td>\n",
       "    </tr>\n",
       "    <tr>\n",
       "      <th>16</th>\n",
       "      <td>Moroccan</td>\n",
       "      <td>vrouw</td>\n",
       "      <td>44.000000</td>\n",
       "      <td>marokko</td>\n",
       "      <td>marokko</td>\n",
       "      <td>NaN</td>\n",
       "      <td>NaN</td>\n",
       "      <td>NaN</td>\n",
       "      <td>Moroccan</td>\n",
       "      <td>2</td>\n",
       "      <td>1.0</td>\n",
       "      <td>0.0</td>\n",
       "      <td>0.000000</td>\n",
       "      <td>0.000000</td>\n",
       "    </tr>\n",
       "    <tr>\n",
       "      <th>...</th>\n",
       "      <td>...</td>\n",
       "      <td>...</td>\n",
       "      <td>...</td>\n",
       "      <td>...</td>\n",
       "      <td>...</td>\n",
       "      <td>...</td>\n",
       "      <td>...</td>\n",
       "      <td>...</td>\n",
       "      <td>...</td>\n",
       "      <td>...</td>\n",
       "      <td>...</td>\n",
       "      <td>...</td>\n",
       "      <td>...</td>\n",
       "      <td>...</td>\n",
       "    </tr>\n",
       "    <tr>\n",
       "      <th>10612</th>\n",
       "      <td>Dutch</td>\n",
       "      <td>vrouw</td>\n",
       "      <td>41.032170</td>\n",
       "      <td>nederland</td>\n",
       "      <td>nederland</td>\n",
       "      <td>nederland</td>\n",
       "      <td>nederland</td>\n",
       "      <td>NaN</td>\n",
       "      <td>Dutch</td>\n",
       "      <td>4</td>\n",
       "      <td>0.0</td>\n",
       "      <td>1.0</td>\n",
       "      <td>0.000000</td>\n",
       "      <td>0.000000</td>\n",
       "    </tr>\n",
       "    <tr>\n",
       "      <th>10615</th>\n",
       "      <td>Dutch</td>\n",
       "      <td>vrouw</td>\n",
       "      <td>28.936345</td>\n",
       "      <td>anders</td>\n",
       "      <td>nederland</td>\n",
       "      <td>nederland</td>\n",
       "      <td>nederland</td>\n",
       "      <td>nederland</td>\n",
       "      <td>Dutch</td>\n",
       "      <td>5</td>\n",
       "      <td>0.0</td>\n",
       "      <td>0.8</td>\n",
       "      <td>0.000000</td>\n",
       "      <td>0.200000</td>\n",
       "    </tr>\n",
       "    <tr>\n",
       "      <th>10619</th>\n",
       "      <td>Moroccan</td>\n",
       "      <td>vrouw</td>\n",
       "      <td>31.356605</td>\n",
       "      <td>marokko</td>\n",
       "      <td>marokko</td>\n",
       "      <td>NaN</td>\n",
       "      <td>NaN</td>\n",
       "      <td>NaN</td>\n",
       "      <td>Moroccan</td>\n",
       "      <td>2</td>\n",
       "      <td>1.0</td>\n",
       "      <td>0.0</td>\n",
       "      <td>0.000000</td>\n",
       "      <td>0.000000</td>\n",
       "    </tr>\n",
       "    <tr>\n",
       "      <th>10622</th>\n",
       "      <td>Moroccan</td>\n",
       "      <td>vrouw</td>\n",
       "      <td>39.074606</td>\n",
       "      <td>nederland</td>\n",
       "      <td>NaN</td>\n",
       "      <td>NaN</td>\n",
       "      <td>NaN</td>\n",
       "      <td>NaN</td>\n",
       "      <td>Moroccan</td>\n",
       "      <td>1</td>\n",
       "      <td>0.0</td>\n",
       "      <td>1.0</td>\n",
       "      <td>0.000000</td>\n",
       "      <td>0.000000</td>\n",
       "    </tr>\n",
       "    <tr>\n",
       "      <th>10623</th>\n",
       "      <td>Dutch</td>\n",
       "      <td>vrouw</td>\n",
       "      <td>45.472964</td>\n",
       "      <td>nederland</td>\n",
       "      <td>nederland</td>\n",
       "      <td>NaN</td>\n",
       "      <td>NaN</td>\n",
       "      <td>NaN</td>\n",
       "      <td>Dutch</td>\n",
       "      <td>2</td>\n",
       "      <td>0.0</td>\n",
       "      <td>1.0</td>\n",
       "      <td>0.000000</td>\n",
       "      <td>0.000000</td>\n",
       "    </tr>\n",
       "  </tbody>\n",
       "</table>\n",
       "<p>3985 rows × 14 columns</p>\n",
       "</div>"
      ],
      "text/plain": [
       "      w1cethnic w1csex     w1cage    w1fg6_1    w1fg6_2    w1fg6_3    w1fg6_4  \\\n",
       "0       Turkish  vrouw  39.000000    turkije    turkije    turkije        NaN   \n",
       "2         Dutch  vrouw  40.000000  nederland  nederland  nederland  nederland   \n",
       "7         Dutch  vrouw  29.000000  nederland        NaN        NaN        NaN   \n",
       "9       Turkish  vrouw  44.000000   suriname    turkije    turkije        NaN   \n",
       "16     Moroccan  vrouw  44.000000    marokko    marokko        NaN        NaN   \n",
       "...         ...    ...        ...        ...        ...        ...        ...   \n",
       "10612     Dutch  vrouw  41.032170  nederland  nederland  nederland  nederland   \n",
       "10615     Dutch  vrouw  28.936345     anders  nederland  nederland  nederland   \n",
       "10619  Moroccan  vrouw  31.356605    marokko    marokko        NaN        NaN   \n",
       "10622  Moroccan  vrouw  39.074606  nederland        NaN        NaN        NaN   \n",
       "10623     Dutch  vrouw  45.472964  nederland  nederland        NaN        NaN   \n",
       "\n",
       "         w1fg6_5 ethnicity  Friends  Moroccans  Dutch   Turkish     Other  \n",
       "0            NaN   Turkish        3        0.0    0.0  1.000000  0.000000  \n",
       "2            NaN     Dutch        4        0.0    1.0  0.000000  0.000000  \n",
       "7            NaN     Dutch        1        0.0    1.0  0.000000  0.000000  \n",
       "9            NaN   Turkish        3        0.0    0.0  0.666667  0.333333  \n",
       "16           NaN  Moroccan        2        1.0    0.0  0.000000  0.000000  \n",
       "...          ...       ...      ...        ...    ...       ...       ...  \n",
       "10612        NaN     Dutch        4        0.0    1.0  0.000000  0.000000  \n",
       "10615  nederland     Dutch        5        0.0    0.8  0.000000  0.200000  \n",
       "10619        NaN  Moroccan        2        1.0    0.0  0.000000  0.000000  \n",
       "10622        NaN  Moroccan        1        0.0    1.0  0.000000  0.000000  \n",
       "10623        NaN     Dutch        2        0.0    1.0  0.000000  0.000000  \n",
       "\n",
       "[3985 rows x 14 columns]"
      ]
     },
     "execution_count": 30,
     "metadata": {},
     "output_type": "execute_result"
    }
   ],
   "source": [
    "new"
   ]
  },
  {
   "cell_type": "code",
   "execution_count": 31,
   "id": "12ca34ab-6b68-4c2f-a9bf-471d99ea8fc7",
   "metadata": {},
   "outputs": [],
   "source": [
    "moroccans = new[new[\"w1cethnic\"].isin([\"Moroccan\"])].copy()\n",
    "moroccans[\"age\"] = pd.cut(moroccans[\"w1cage\"], 4)\n",
    "moroccans_sum = moroccans.groupby(\"age\").mean()\n"
   ]
  },
  {
   "cell_type": "code",
   "execution_count": 32,
   "id": "b7908dea-05b9-4558-98f6-1ddfe35c62ff",
   "metadata": {},
   "outputs": [
    {
     "data": {
      "text/html": [
       "<div>\n",
       "<style scoped>\n",
       "    .dataframe tbody tr th:only-of-type {\n",
       "        vertical-align: middle;\n",
       "    }\n",
       "\n",
       "    .dataframe tbody tr th {\n",
       "        vertical-align: top;\n",
       "    }\n",
       "\n",
       "    .dataframe thead th {\n",
       "        text-align: right;\n",
       "    }\n",
       "</style>\n",
       "<table border=\"1\" class=\"dataframe\">\n",
       "  <thead>\n",
       "    <tr style=\"text-align: right;\">\n",
       "      <th></th>\n",
       "      <th>w1cage</th>\n",
       "      <th>Friends</th>\n",
       "      <th>Moroccans</th>\n",
       "      <th>Dutch</th>\n",
       "      <th>Turkish</th>\n",
       "      <th>Other</th>\n",
       "    </tr>\n",
       "    <tr>\n",
       "      <th>age</th>\n",
       "      <th></th>\n",
       "      <th></th>\n",
       "      <th></th>\n",
       "      <th></th>\n",
       "      <th></th>\n",
       "      <th></th>\n",
       "    </tr>\n",
       "  </thead>\n",
       "  <tbody>\n",
       "    <tr>\n",
       "      <th>(14.965, 23.694]</th>\n",
       "      <td>19.263124</td>\n",
       "      <td>2.285714</td>\n",
       "      <td>0.670415</td>\n",
       "      <td>0.240191</td>\n",
       "      <td>0.028628</td>\n",
       "      <td>0.060766</td>\n",
       "    </tr>\n",
       "    <tr>\n",
       "      <th>(23.694, 32.388]</th>\n",
       "      <td>28.351371</td>\n",
       "      <td>2.121569</td>\n",
       "      <td>0.784621</td>\n",
       "      <td>0.163821</td>\n",
       "      <td>0.007317</td>\n",
       "      <td>0.044241</td>\n",
       "    </tr>\n",
       "    <tr>\n",
       "      <th>(32.388, 41.083]</th>\n",
       "      <td>36.689316</td>\n",
       "      <td>1.947368</td>\n",
       "      <td>0.792884</td>\n",
       "      <td>0.160861</td>\n",
       "      <td>0.013046</td>\n",
       "      <td>0.033208</td>\n",
       "    </tr>\n",
       "    <tr>\n",
       "      <th>(41.083, 49.777]</th>\n",
       "      <td>43.893914</td>\n",
       "      <td>2.172414</td>\n",
       "      <td>0.776453</td>\n",
       "      <td>0.166361</td>\n",
       "      <td>0.006728</td>\n",
       "      <td>0.050459</td>\n",
       "    </tr>\n",
       "  </tbody>\n",
       "</table>\n",
       "</div>"
      ],
      "text/plain": [
       "                     w1cage   Friends  Moroccans     Dutch   Turkish     Other\n",
       "age                                                                           \n",
       "(14.965, 23.694]  19.263124  2.285714   0.670415  0.240191  0.028628  0.060766\n",
       "(23.694, 32.388]  28.351371  2.121569   0.784621  0.163821  0.007317  0.044241\n",
       "(32.388, 41.083]  36.689316  1.947368   0.792884  0.160861  0.013046  0.033208\n",
       "(41.083, 49.777]  43.893914  2.172414   0.776453  0.166361  0.006728  0.050459"
      ]
     },
     "execution_count": 32,
     "metadata": {},
     "output_type": "execute_result"
    }
   ],
   "source": [
    "moroccans.groupby(\"age\").mean()"
   ]
  },
  {
   "cell_type": "code",
   "execution_count": 33,
   "id": "7c72cfd3-8708-416c-acfd-9cce83e8b80e",
   "metadata": {},
   "outputs": [
    {
     "data": {
      "image/png": "[encoded data removed]",
      "text/plain": [
       "<Figure size 432x288 with 1 Axes>"
      ]
     },
     "metadata": {
      "needs_background": "light"
     },
     "output_type": "display_data"
    }
   ],
   "source": [
    "moroccans_sum[[\"Turkish\", \"Moroccans\", \"Dutch\", \"Other\"]].plot(kind='bar', stacked=True, cmap=py_colors)\n",
    "plt.title('Composition of the social circle of an average Moroccan woman over age')\n",
    "plt.ylabel('Portion')\n",
    "plt.xlabel('Age group')\n",
    "plt.legend(bbox_to_anchor=(1.05, 1.0), loc='upper left')\n",
    "plt.savefig(\"D:/juju/lumc/msc_thesis/report/images/moroccansageethnicitydistribution.png\", format=\"png\", dpi=300, bbox_inches='tight')\n",
    "plt.show()"
   ]
  },
  {
   "cell_type": "code",
   "execution_count": 34,
   "id": "f2110113-3483-4163-9deb-106b6e3a22ba",
   "metadata": {},
   "outputs": [],
   "source": [
    "turkish = new[new[\"w1cethnic\"].isin([\"Turkish\"])].copy()\n",
    "turkish[\"age\"] = pd.cut(turkish[\"w1cage\"], 4)\n",
    "turkish_sum = turkish.groupby(\"age\").mean()"
   ]
  },
  {
   "cell_type": "code",
   "execution_count": 35,
   "id": "9f884f77-af45-4bc3-a570-bd8456559039",
   "metadata": {},
   "outputs": [
    {
     "data": {
      "image/png": "[encoded data removed]",
      "text/plain": [
       "<Figure size 432x288 with 1 Axes>"
      ]
     },
     "metadata": {
      "needs_background": "light"
     },
     "output_type": "display_data"
    }
   ],
   "source": [
    "turkish_sum[[\"Turkish\", \"Moroccans\", \"Dutch\", \"Other\"]].plot(kind='bar', stacked=True, cmap=py_colors)\n",
    "plt.title('Composition of the social circle of an average Turkish woman over age')\n",
    "plt.ylabel('Portion')\n",
    "plt.xlabel('Age group')\n",
    "plt.legend(bbox_to_anchor=(1.05, 1.0), loc='upper left')\n",
    "plt.savefig(\"D:/juju/lumc/msc_thesis/report/images/turkishageethnicitydistribution.png\", format=\"png\", dpi=300, bbox_inches='tight')\n",
    "plt.show()"
   ]
  },
  {
   "cell_type": "code",
   "execution_count": 36,
   "id": "51130e79-e424-442d-b3f6-6f7f53bc332d",
   "metadata": {},
   "outputs": [],
   "source": [
    "dutch = new[new[\"w1cethnic\"].isin([\"Dutch\"])].copy()\n",
    "dutch[\"age\"] = pd.cut(dutch[\"w1cage\"], 4)\n",
    "dutch_sum= dutch.groupby(\"age\").mean()"
   ]
  },
  {
   "cell_type": "code",
   "execution_count": 37,
   "id": "d8ada2f8-97e1-4116-a71a-55c830739e7d",
   "metadata": {},
   "outputs": [
    {
     "data": {
      "image/png": "[encoded data removed]",
      "text/plain": [
       "<Figure size 432x288 with 1 Axes>"
      ]
     },
     "metadata": {
      "needs_background": "light"
     },
     "output_type": "display_data"
    }
   ],
   "source": [
    "dutch_sum[[\"Turkish\", \"Moroccans\", \"Dutch\", \"Other\"]].plot(kind='bar', stacked=True, cmap=py_colors)\n",
    "plt.title('Composition of the social circle of an average Dutch woman over age')\n",
    "plt.ylabel('Portion')\n",
    "plt.xlabel('Age group')\n",
    "plt.legend(bbox_to_anchor=(1.05, 1.0), loc='upper left')\n",
    "plt.savefig(\"D:/juju/lumc/msc_thesis/report/images/dutchageethnicitydistribution.png\", format=\"png\", dpi=300, bbox_inches='tight')\n",
    "plt.show()"
   ]
  },
  {
   "cell_type": "markdown",
   "id": "9784586e-bf50-4882-b430-40888173b2c2",
   "metadata": {},
   "source": [
    "Get mean + std"
   ]
  },
  {
   "cell_type": "code",
   "execution_count": 38,
   "id": "d7ab5bfe-1288-40c7-84dc-2c57e61feb20",
   "metadata": {},
   "outputs": [
    {
     "name": "stdout",
     "output_type": "stream",
     "text": [
      "Moroccans\n"
     ]
    },
    {
     "data": {
      "text/html": [
       "<div>\n",
       "<style scoped>\n",
       "    .dataframe tbody tr th:only-of-type {\n",
       "        vertical-align: middle;\n",
       "    }\n",
       "\n",
       "    .dataframe tbody tr th {\n",
       "        vertical-align: top;\n",
       "    }\n",
       "\n",
       "    .dataframe thead th {\n",
       "        text-align: right;\n",
       "    }\n",
       "</style>\n",
       "<table border=\"1\" class=\"dataframe\">\n",
       "  <thead>\n",
       "    <tr style=\"text-align: right;\">\n",
       "      <th></th>\n",
       "      <th>w1cage</th>\n",
       "      <th>Friends</th>\n",
       "      <th>Moroccans</th>\n",
       "      <th>Dutch</th>\n",
       "      <th>Turkish</th>\n",
       "      <th>Other</th>\n",
       "      <th>T+O</th>\n",
       "    </tr>\n",
       "  </thead>\n",
       "  <tbody>\n",
       "    <tr>\n",
       "      <th>mean</th>\n",
       "      <td>30.787146</td>\n",
       "      <td>2.113636</td>\n",
       "      <td>0.757481</td>\n",
       "      <td>0.182411</td>\n",
       "      <td>0.014440</td>\n",
       "      <td>0.045668</td>\n",
       "      <td>0.060108</td>\n",
       "    </tr>\n",
       "    <tr>\n",
       "      <th>std</th>\n",
       "      <td>8.685478</td>\n",
       "      <td>1.390131</td>\n",
       "      <td>0.358922</td>\n",
       "      <td>0.322347</td>\n",
       "      <td>0.090536</td>\n",
       "      <td>0.162222</td>\n",
       "      <td>0.185949</td>\n",
       "    </tr>\n",
       "  </tbody>\n",
       "</table>\n",
       "</div>"
      ],
      "text/plain": [
       "         w1cage   Friends  Moroccans     Dutch   Turkish     Other       T+O\n",
       "mean  30.787146  2.113636   0.757481  0.182411  0.014440  0.045668  0.060108\n",
       "std    8.685478  1.390131   0.358922  0.322347  0.090536  0.162222  0.185949"
      ]
     },
     "execution_count": 38,
     "metadata": {},
     "output_type": "execute_result"
    }
   ],
   "source": [
    "print(\"Moroccans\")\n",
    "moroccans = new[new[\"w1cethnic\"].isin([\"Moroccan\"])].copy()\n",
    "moroccans[\"T+O\"] = moroccans[\"Turkish\"] + moroccans[\"Other\"]\n",
    "moroccans.describe().loc[[\"mean\",\"std\"]]"
   ]
  },
  {
   "cell_type": "code",
   "execution_count": 39,
   "id": "71580182-60cb-4f4a-a20d-66b6c77458c6",
   "metadata": {},
   "outputs": [
    {
     "name": "stdout",
     "output_type": "stream",
     "text": [
      "Turkish\n"
     ]
    },
    {
     "data": {
      "text/html": [
       "<div>\n",
       "<style scoped>\n",
       "    .dataframe tbody tr th:only-of-type {\n",
       "        vertical-align: middle;\n",
       "    }\n",
       "\n",
       "    .dataframe tbody tr th {\n",
       "        vertical-align: top;\n",
       "    }\n",
       "\n",
       "    .dataframe thead th {\n",
       "        text-align: right;\n",
       "    }\n",
       "</style>\n",
       "<table border=\"1\" class=\"dataframe\">\n",
       "  <thead>\n",
       "    <tr style=\"text-align: right;\">\n",
       "      <th></th>\n",
       "      <th>w1cage</th>\n",
       "      <th>Friends</th>\n",
       "      <th>Moroccans</th>\n",
       "      <th>Dutch</th>\n",
       "      <th>Turkish</th>\n",
       "      <th>Other</th>\n",
       "      <th>M+O</th>\n",
       "    </tr>\n",
       "  </thead>\n",
       "  <tbody>\n",
       "    <tr>\n",
       "      <th>mean</th>\n",
       "      <td>32.264745</td>\n",
       "      <td>2.272615</td>\n",
       "      <td>0.014383</td>\n",
       "      <td>0.198287</td>\n",
       "      <td>0.753755</td>\n",
       "      <td>0.033575</td>\n",
       "      <td>0.787330</td>\n",
       "    </tr>\n",
       "    <tr>\n",
       "      <th>std</th>\n",
       "      <td>9.053984</td>\n",
       "      <td>1.410711</td>\n",
       "      <td>0.088717</td>\n",
       "      <td>0.327867</td>\n",
       "      <td>0.350850</td>\n",
       "      <td>0.130619</td>\n",
       "      <td>0.334428</td>\n",
       "    </tr>\n",
       "  </tbody>\n",
       "</table>\n",
       "</div>"
      ],
      "text/plain": [
       "         w1cage   Friends  Moroccans     Dutch   Turkish     Other       M+O\n",
       "mean  32.264745  2.272615   0.014383  0.198287  0.753755  0.033575  0.787330\n",
       "std    9.053984  1.410711   0.088717  0.327867  0.350850  0.130619  0.334428"
      ]
     },
     "execution_count": 39,
     "metadata": {},
     "output_type": "execute_result"
    }
   ],
   "source": [
    "print(\"Turkish\")\n",
    "turkish = new[new[\"w1cethnic\"].isin([\"Turkish\"])].copy()\n",
    "turkish[\"M+O\"] = turkish[\"Turkish\"] + turkish[\"Other\"]\n",
    "turkish.describe().loc[[\"mean\",\"std\"]]"
   ]
  },
  {
   "cell_type": "code",
   "execution_count": 40,
   "id": "6beee3af-4006-450c-bc03-79ca2efc6350",
   "metadata": {},
   "outputs": [
    {
     "name": "stdout",
     "output_type": "stream",
     "text": [
      "Dutch\n"
     ]
    },
    {
     "data": {
      "text/html": [
       "<div>\n",
       "<style scoped>\n",
       "    .dataframe tbody tr th:only-of-type {\n",
       "        vertical-align: middle;\n",
       "    }\n",
       "\n",
       "    .dataframe tbody tr th {\n",
       "        vertical-align: top;\n",
       "    }\n",
       "\n",
       "    .dataframe thead th {\n",
       "        text-align: right;\n",
       "    }\n",
       "</style>\n",
       "<table border=\"1\" class=\"dataframe\">\n",
       "  <thead>\n",
       "    <tr style=\"text-align: right;\">\n",
       "      <th></th>\n",
       "      <th>w1cage</th>\n",
       "      <th>Friends</th>\n",
       "      <th>Moroccans</th>\n",
       "      <th>Dutch</th>\n",
       "      <th>Turkish</th>\n",
       "      <th>Other</th>\n",
       "      <th>M+T+O</th>\n",
       "    </tr>\n",
       "  </thead>\n",
       "  <tbody>\n",
       "    <tr>\n",
       "      <th>mean</th>\n",
       "      <td>33.885791</td>\n",
       "      <td>3.032637</td>\n",
       "      <td>0.003066</td>\n",
       "      <td>0.959825</td>\n",
       "      <td>0.004126</td>\n",
       "      <td>0.032983</td>\n",
       "      <td>0.040175</td>\n",
       "    </tr>\n",
       "    <tr>\n",
       "      <th>std</th>\n",
       "      <td>9.245050</td>\n",
       "      <td>1.475464</td>\n",
       "      <td>0.040677</td>\n",
       "      <td>0.145681</td>\n",
       "      <td>0.053564</td>\n",
       "      <td>0.128473</td>\n",
       "      <td>0.145681</td>\n",
       "    </tr>\n",
       "  </tbody>\n",
       "</table>\n",
       "</div>"
      ],
      "text/plain": [
       "         w1cage   Friends  Moroccans     Dutch   Turkish     Other     M+T+O\n",
       "mean  33.885791  3.032637   0.003066  0.959825  0.004126  0.032983  0.040175\n",
       "std    9.245050  1.475464   0.040677  0.145681  0.053564  0.128473  0.145681"
      ]
     },
     "execution_count": 40,
     "metadata": {},
     "output_type": "execute_result"
    }
   ],
   "source": [
    "print(\"Dutch\")\n",
    "dutch = new[new[\"w1cethnic\"].isin([\"Dutch\"])].copy()\n",
    "dutch[\"M+T+O\"] = dutch[\"Turkish\"] + dutch[\"Other\"] + dutch[\"Moroccans\"]\n",
    "dutch.describe().loc[[\"mean\",\"std\"]]"
   ]
  },
  {
   "cell_type": "code",
   "execution_count": null,
   "id": "726f1527-adf5-4191-981d-9f188c24c116",
   "metadata": {},
   "outputs": [],
   "source": []
  }
 ],
 "metadata": {
  "kernelspec": {
   "display_name": "Python 3 (ipykernel)",
   "language": "python",
   "name": "python3"
  },
  "language_info": {
   "codemirror_mode": {
    "name": "ipython",
    "version": 3
   },
   "file_extension": ".py",
   "mimetype": "text/x-python",
   "name": "python",
   "nbconvert_exporter": "python",
   "pygments_lexer": "ipython3",
   "version": "3.10.4"
  }
 },
 "nbformat": 4,
 "nbformat_minor": 5
}
