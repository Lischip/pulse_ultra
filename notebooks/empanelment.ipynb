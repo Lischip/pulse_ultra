{
 "cells": [
  {
   "cell_type": "code",
   "execution_count": null,
   "id": "d3de02fa-3a66-43ee-81a7-e8bc78ca9a46",
   "metadata": {},
   "outputs": [],
   "source": [
    "import matplotlib.pyplot as plt\n",
    "import math"
   ]
  },
  {
   "cell_type": "code",
   "execution_count": 17,
   "id": "fb3d91fd-db71-44b1-9fa9-adc260c6120e",
   "metadata": {},
   "outputs": [
    {
     "data": {
      "image/png": "[encoded data removed]",
      "text/plain": [
       "<Figure size 432x288 with 1 Axes>"
      ]
     },
     "metadata": {
      "needs_background": "light"
     },
     "output_type": "display_data"
    }
   ],
   "source": [
    "def pyramid(length, width, top, middle):\n",
    "    length_top = length * top\n",
    "    length_middle = length * middle\n",
    "    length_bottom = length - length_top - length_middle\n",
    "    width_bottom = width/2\n",
    "\n",
    "    width_top = (length_top / length) * (width/2)\n",
    "    length_legs = (length_bottom/ length) * (width/2)\n",
    "    \n",
    "    plt.axes()\n",
    "\n",
    "    bottom = plt.Polygon([[-width_bottom+length_legs, length_bottom], [-width_bottom, 0], [width_bottom, 0], [width_bottom-length_legs, length_bottom]], color=\"red\")\n",
    "    middle = plt.Polygon([[-width_top ,length_middle+length_bottom], [-width_bottom+length_legs, length_bottom ], [width_bottom-length_legs, length_bottom], [width_top,length_middle+length_bottom]], color=\"yellow\")\n",
    "    top = plt.Polygon([[-width_top,length_middle+length_bottom], [width_top,length_middle+length_bottom], [0, length]], color=\"green\")\n",
    "    plt.gca().add_patch(top)\n",
    "    plt.gca().add_patch(middle)\n",
    "    plt.gca().add_patch(bottom)\n",
    "    # plt.text(width_bottom + 3,0, \"bottom\")\n",
    "    # plt.text(width_bottom + 3,length_bottom, \"middle\")\n",
    "    # plt.text(width_bottom + 3,length_middle+length_bottom, \"top\")\n",
    "    plt.annotate(\"bottom\", xy = (width_bottom,length_bottom/2), xytext = (width_bottom + 20,length_bottom/2),  va='center', arrowprops=dict(facecolor='black'))\n",
    "    plt.annotate(\"middle\", xy = (width_bottom-length_legs,length_middle/2 + length_bottom), xytext = (width_bottom + 20,length_middle/2 + length_bottom), va='center', arrowprops=dict(facecolor='black'))\n",
    "    plt.annotate(\"top\", xy = (width_top, length_middle+length_bottom+length_top/2),  xytext = (width_bottom + 20,length_middle+length_bottom+length_top/2),  va='center', arrowprops=dict(facecolor='black'))\n",
    "\n",
    "    plt.axis('scaled')\n",
    "    plt.show()\n",
    "   \n",
    "pyramid(110, 220, 0.6856946079199350133095514702390085668826377841937131108663672012, 0.1142594772265800177460686269853447558435170455916174811551562683)"
   ]
  },
  {
   "cell_type": "code",
   "execution_count": null,
   "id": "81801b10-d306-4584-99eb-0f55d9866426",
   "metadata": {},
   "outputs": [],
   "source": []
  }
 ],
 "metadata": {
  "kernelspec": {
   "display_name": "Python 3 (ipykernel)",
   "language": "python",
   "name": "python3"
  },
  "language_info": {
   "codemirror_mode": {
    "name": "ipython",
    "version": 3
   },
   "file_extension": ".py",
   "mimetype": "text/x-python",
   "name": "python",
   "nbconvert_exporter": "python",
   "pygments_lexer": "ipython3",
   "version": "3.10.4"
  }
 },
 "nbformat": 4,
 "nbformat_minor": 5
}
