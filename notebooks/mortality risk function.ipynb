{
 "cells": [
  {
   "cell_type": "markdown",
   "id": "36b877d4-dd8d-43bf-b0c1-94a51fad720b",
   "metadata": {},
   "source": [
    "Periode 2016 tot 2021"
   ]
  },
  {
   "cell_type": "code",
   "execution_count": 1,
   "id": "3997356d-8a7e-4092-ba78-8d80143974c3",
   "metadata": {},
   "outputs": [
    {
     "name": "stderr",
     "output_type": "stream",
     "text": [
      "<frozen importlib._bootstrap>:241: RuntimeWarning: scipy._lib.messagestream.MessageStream size changed, may indicate binary incompatibility. Expected 56 from C header, got 64 from PyObject\n"
     ]
    }
   ],
   "source": [
    "import pandas as pd\n",
    "from scipy.optimize import curve_fit\n",
    "import matplotlib.pyplot as plt\n",
    "import numpy as np\n",
    "import scipy.stats as stats"
   ]
  },
  {
   "cell_type": "code",
   "execution_count": 2,
   "id": "ecbc7f02-4433-48f0-a074-3746c36efde9",
   "metadata": {},
   "outputs": [
    {
     "ename": "TypeError",
     "evalue": "read_excel() got an unexpected keyword argument 'sep'",
     "output_type": "error",
     "traceback": [
      "\u001b[1;31m---------------------------------------------------------------------------\u001b[0m",
      "\u001b[1;31mTypeError\u001b[0m                                 Traceback (most recent call last)",
      "Input \u001b[1;32mIn [2]\u001b[0m, in \u001b[0;36m<cell line: 2>\u001b[1;34m()\u001b[0m\n\u001b[0;32m      1\u001b[0m \u001b[38;5;66;03m#Why didn't I use read_csv??\u001b[39;00m\n\u001b[1;32m----> 2\u001b[0m mortality_risk_df \u001b[38;5;241m=\u001b[39m \u001b[43mpd\u001b[49m\u001b[38;5;241;43m.\u001b[39;49m\u001b[43mread_excel\u001b[49m\u001b[43m(\u001b[49m\u001b[38;5;124;43m\"\u001b[39;49m\u001b[38;5;124;43mLevensverwachting__geslacht__leeftijd__per_jaar_en_periode_van_vijf_jaren__12082022_170000.csv\u001b[39;49m\u001b[38;5;124;43m\"\u001b[39;49m\u001b[43m,\u001b[49m\u001b[43m  \u001b[49m\u001b[43msep\u001b[49m\u001b[38;5;241;43m=\u001b[39;49m\u001b[38;5;124;43m\"\u001b[39;49m\u001b[38;5;124;43m;\u001b[39;49m\u001b[38;5;124;43m\"\u001b[39;49m\u001b[43m,\u001b[49m\u001b[43m \u001b[49m\u001b[43mskiprows\u001b[49m\u001b[38;5;241;43m=\u001b[39;49m\u001b[38;5;241;43m5\u001b[39;49m\u001b[43m,\u001b[49m\u001b[43m \u001b[49m\u001b[43mheader\u001b[49m\u001b[38;5;241;43m=\u001b[39;49m\u001b[38;5;241;43m0\u001b[39;49m\u001b[43m,\u001b[49m\u001b[43m \u001b[49m\u001b[43mdecimal\u001b[49m\u001b[38;5;241;43m=\u001b[39;49m\u001b[38;5;124;43m\"\u001b[39;49m\u001b[38;5;124;43m,\u001b[39;49m\u001b[38;5;124;43m\"\u001b[39;49m\u001b[43m)\u001b[49m\n\u001b[0;32m      4\u001b[0m mortality_risk_df[\u001b[38;5;124m'\u001b[39m\u001b[38;5;124mage\u001b[39m\u001b[38;5;124m'\u001b[39m] \u001b[38;5;241m=\u001b[39m mortality_risk_df\u001b[38;5;241m.\u001b[39miloc[:,\u001b[38;5;241m0\u001b[39m]\u001b[38;5;241m.\u001b[39mstr\u001b[38;5;241m.\u001b[39msplit()\u001b[38;5;241m.\u001b[39mstr\u001b[38;5;241m.\u001b[39mget(\u001b[38;5;241m0\u001b[39m)\n\u001b[0;32m      5\u001b[0m mortality_risk_df \u001b[38;5;241m=\u001b[39m mortality_risk_df[[\u001b[38;5;124m\"\u001b[39m\u001b[38;5;124mage\u001b[39m\u001b[38;5;124m\"\u001b[39m, \u001b[38;5;124m\"\u001b[39m\u001b[38;5;124mkans\u001b[39m\u001b[38;5;124m\"\u001b[39m]] \n",
      "File \u001b[1;32m~\\anaconda3\\envs\\thesis\\lib\\site-packages\\pandas\\util\\_decorators.py:311\u001b[0m, in \u001b[0;36mdeprecate_nonkeyword_arguments.<locals>.decorate.<locals>.wrapper\u001b[1;34m(*args, **kwargs)\u001b[0m\n\u001b[0;32m    305\u001b[0m \u001b[38;5;28;01mif\u001b[39;00m \u001b[38;5;28mlen\u001b[39m(args) \u001b[38;5;241m>\u001b[39m num_allow_args:\n\u001b[0;32m    306\u001b[0m     warnings\u001b[38;5;241m.\u001b[39mwarn(\n\u001b[0;32m    307\u001b[0m         msg\u001b[38;5;241m.\u001b[39mformat(arguments\u001b[38;5;241m=\u001b[39marguments),\n\u001b[0;32m    308\u001b[0m         \u001b[38;5;167;01mFutureWarning\u001b[39;00m,\n\u001b[0;32m    309\u001b[0m         stacklevel\u001b[38;5;241m=\u001b[39mstacklevel,\n\u001b[0;32m    310\u001b[0m     )\n\u001b[1;32m--> 311\u001b[0m \u001b[38;5;28;01mreturn\u001b[39;00m func(\u001b[38;5;241m*\u001b[39margs, \u001b[38;5;241m*\u001b[39m\u001b[38;5;241m*\u001b[39mkwargs)\n",
      "\u001b[1;31mTypeError\u001b[0m: read_excel() got an unexpected keyword argument 'sep'"
     ]
    }
   ],
   "source": [
    "#Why didn't I use read_csv??\n",
    "mortality_risk_df = pd.read_excel(\"Levensverwachting__geslacht__leeftijd__per_jaar_en_periode_van_vijf_jaren__12082022_170000.csv\",  sep=\";\", skiprows=5, header=0, decimal=\",\")\n",
    "    \n",
    "mortality_risk_df['age'] = mortality_risk_df.iloc[:,0].str.split().str.get(0)\n",
    "mortality_risk_df = mortality_risk_df[[\"age\", \"kans\"]] \n",
    "mortality_risk_df = mortality_risk_df[:-1]\n",
    "#mortality_risk_df.to_csv(\"D:/juju/lumc/model/data/converted_mortality_risk.csv\", index=False)"
   ]
  },
  {
   "cell_type": "code",
   "execution_count": 3,
   "id": "be2dc026-422d-4342-8489-85011fe98a4c",
   "metadata": {},
   "outputs": [],
   "source": [
    "mortality_risk_df = pd.read_csv(\"D:/juju/lumc/model/data/converted_mortality_risk.csv\")"
   ]
  },
  {
   "cell_type": "code",
   "execution_count": 4,
   "id": "5d8f4ecf-a437-472c-8b65-c19ee6866c01",
   "metadata": {},
   "outputs": [
    {
     "data": {
      "text/html": [
       "<div>\n",
       "<style scoped>\n",
       "    .dataframe tbody tr th:only-of-type {\n",
       "        vertical-align: middle;\n",
       "    }\n",
       "\n",
       "    .dataframe tbody tr th {\n",
       "        vertical-align: top;\n",
       "    }\n",
       "\n",
       "    .dataframe thead th {\n",
       "        text-align: right;\n",
       "    }\n",
       "</style>\n",
       "<table border=\"1\" class=\"dataframe\">\n",
       "  <thead>\n",
       "    <tr style=\"text-align: right;\">\n",
       "      <th></th>\n",
       "      <th>age</th>\n",
       "      <th>kans</th>\n",
       "    </tr>\n",
       "  </thead>\n",
       "  <tbody>\n",
       "    <tr>\n",
       "      <th>0</th>\n",
       "      <td>12</td>\n",
       "      <td>0.00007</td>\n",
       "    </tr>\n",
       "  </tbody>\n",
       "</table>\n",
       "</div>"
      ],
      "text/plain": [
       "   age     kans\n",
       "0   12  0.00007"
      ]
     },
     "execution_count": 4,
     "metadata": {},
     "output_type": "execute_result"
    }
   ],
   "source": [
    "mortality_risk_df[mortality_risk_df[\"age\"] == 12]"
   ]
  },
  {
   "cell_type": "code",
   "execution_count": 5,
   "id": "d511fd77-26de-48f9-a41e-02732609cc7f",
   "metadata": {},
   "outputs": [
    {
     "data": {
      "text/html": [
       "<div>\n",
       "<style scoped>\n",
       "    .dataframe tbody tr th:only-of-type {\n",
       "        vertical-align: middle;\n",
       "    }\n",
       "\n",
       "    .dataframe tbody tr th {\n",
       "        vertical-align: top;\n",
       "    }\n",
       "\n",
       "    .dataframe thead th {\n",
       "        text-align: right;\n",
       "    }\n",
       "</style>\n",
       "<table border=\"1\" class=\"dataframe\">\n",
       "  <thead>\n",
       "    <tr style=\"text-align: right;\">\n",
       "      <th></th>\n",
       "      <th>age</th>\n",
       "      <th>kans</th>\n",
       "    </tr>\n",
       "  </thead>\n",
       "  <tbody>\n",
       "    <tr>\n",
       "      <th>83</th>\n",
       "      <td>95</td>\n",
       "      <td>0.24179</td>\n",
       "    </tr>\n",
       "    <tr>\n",
       "      <th>84</th>\n",
       "      <td>96</td>\n",
       "      <td>0.26615</td>\n",
       "    </tr>\n",
       "    <tr>\n",
       "      <th>85</th>\n",
       "      <td>97</td>\n",
       "      <td>0.29808</td>\n",
       "    </tr>\n",
       "    <tr>\n",
       "      <th>86</th>\n",
       "      <td>98</td>\n",
       "      <td>0.31053</td>\n",
       "    </tr>\n",
       "    <tr>\n",
       "      <th>87</th>\n",
       "      <td>99</td>\n",
       "      <td>0.36885</td>\n",
       "    </tr>\n",
       "  </tbody>\n",
       "</table>\n",
       "</div>"
      ],
      "text/plain": [
       "    age     kans\n",
       "83   95  0.24179\n",
       "84   96  0.26615\n",
       "85   97  0.29808\n",
       "86   98  0.31053\n",
       "87   99  0.36885"
      ]
     },
     "execution_count": 5,
     "metadata": {},
     "output_type": "execute_result"
    }
   ],
   "source": [
    "mortality_risk_df.tail(5)"
   ]
  },
  {
   "cell_type": "code",
   "execution_count": 6,
   "id": "8332b2a6-f87e-490c-864e-d7cae5a85a90",
   "metadata": {},
   "outputs": [],
   "source": [
    "i = mortality_risk_df.iloc[-1, 0]\n",
    "\n",
    "older = pd.DataFrame(index=range(111-i-1), columns=[\"age\",\"kans\"])\n",
    "older[\"age\"] = range(i+1, 111)"
   ]
  },
  {
   "cell_type": "code",
   "execution_count": 7,
   "id": "1175500c-5ba8-4fbb-ae37-0be047bf9c12",
   "metadata": {},
   "outputs": [],
   "source": [
    "def func(x, a, b, c, d):\n",
    "    return a*x**3 + b*x**2 +c*x + d"
   ]
  },
  {
   "cell_type": "code",
   "execution_count": 8,
   "id": "05c69c53-c4a6-44b7-b8a5-a7985703e651",
   "metadata": {},
   "outputs": [],
   "source": [
    "x = mortality_risk_df[\"age\"].iloc[45:].astype(float).values\n",
    "y = mortality_risk_df[\"kans\"].iloc[45:].astype(float).values\n",
    "\n",
    "popt, pcov = curve_fit(func, x, y)"
   ]
  },
  {
   "cell_type": "code",
   "execution_count": 9,
   "id": "2e120ca1-4e7a-491f-9717-d61aa63ee849",
   "metadata": {},
   "outputs": [
    {
     "data": {
      "text/plain": [
       "array([ 1.06948768e-05, -2.15675241e-03,  1.45068422e-01, -3.24393183e+00])"
      ]
     },
     "execution_count": 9,
     "metadata": {},
     "output_type": "execute_result"
    }
   ],
   "source": [
    "popt"
   ]
  },
  {
   "cell_type": "code",
   "execution_count": 10,
   "id": "cd8adaf0-23f3-4125-b9a9-e513e787c1b6",
   "metadata": {},
   "outputs": [
    {
     "data": {
      "text/html": [
       "<div>\n",
       "<style scoped>\n",
       "    .dataframe tbody tr th:only-of-type {\n",
       "        vertical-align: middle;\n",
       "    }\n",
       "\n",
       "    .dataframe tbody tr th {\n",
       "        vertical-align: top;\n",
       "    }\n",
       "\n",
       "    .dataframe thead th {\n",
       "        text-align: right;\n",
       "    }\n",
       "</style>\n",
       "<table border=\"1\" class=\"dataframe\">\n",
       "  <thead>\n",
       "    <tr style=\"text-align: right;\">\n",
       "      <th></th>\n",
       "      <th>age</th>\n",
       "      <th>kans</th>\n",
       "    </tr>\n",
       "  </thead>\n",
       "  <tbody>\n",
       "    <tr>\n",
       "      <th>84</th>\n",
       "      <td>96</td>\n",
       "      <td>0.26615</td>\n",
       "    </tr>\n",
       "    <tr>\n",
       "      <th>85</th>\n",
       "      <td>97</td>\n",
       "      <td>0.29808</td>\n",
       "    </tr>\n",
       "    <tr>\n",
       "      <th>86</th>\n",
       "      <td>98</td>\n",
       "      <td>0.31053</td>\n",
       "    </tr>\n",
       "    <tr>\n",
       "      <th>87</th>\n",
       "      <td>99</td>\n",
       "      <td>0.36885</td>\n",
       "    </tr>\n",
       "  </tbody>\n",
       "</table>\n",
       "</div>"
      ],
      "text/plain": [
       "    age     kans\n",
       "84   96  0.26615\n",
       "85   97  0.29808\n",
       "86   98  0.31053\n",
       "87   99  0.36885"
      ]
     },
     "execution_count": 10,
     "metadata": {},
     "output_type": "execute_result"
    }
   ],
   "source": [
    "mortality_risk_df.tail(4)"
   ]
  },
  {
   "cell_type": "code",
   "execution_count": 11,
   "id": "fedcf782-c4a0-45d0-9098-020e258f0fd9",
   "metadata": {},
   "outputs": [],
   "source": [
    "predictions = []\n",
    "for predict_x in range(100, 100+(111-i-1)):\n",
    "    predictions.append(popt[0]*predict_x**3 + popt[1]*predict_x**2 + popt[2]*predict_x + popt[3])"
   ]
  },
  {
   "cell_type": "code",
   "execution_count": 12,
   "id": "69af2a34-4c81-4907-a03a-203278098d1e",
   "metadata": {},
   "outputs": [],
   "source": [
    "x_predictions = range(100, 100+(111-i-1))"
   ]
  },
  {
   "cell_type": "code",
   "execution_count": 13,
   "id": "28d07f37-e03f-4eed-b6de-2f2cd0c90660",
   "metadata": {},
   "outputs": [
    {
     "data": {
      "image/png": "[encoded data removed]",
      "text/plain": [
       "<Figure size 432x288 with 1 Axes>"
      ]
     },
     "metadata": {
      "needs_background": "light"
     },
     "output_type": "display_data"
    }
   ],
   "source": [
    "plt.figure()\n",
    "plt.plot(x, y, 'o', label=\"Data points\", color=\"#f16364\")\n",
    "plt.plot(x, func(x, *popt), 'k-', label=\"Fitted Curve\")\n",
    "plt.plot(x_predictions, predictions, 'kP', label=\"Predictions\")\n",
    "plt.title(\"Fitted function to predict mortality risk of people aged > 99\")\n",
    "plt.xlabel(\"Age\")\n",
    "plt.ylabel(\"Mortality risk\")\n",
    "plt.legend()\n",
    "plt.savefig(\"D:/juju/lumc/msc_thesis/report/images/mortalityrisk.png\", format=\"png\",  dpi=300, bbox_inches='tight')  \n",
    "plt.show()"
   ]
  },
  {
   "cell_type": "code",
   "execution_count": 14,
   "id": "7bd54b50-e131-49f6-b8c9-1dc72f12e0e3",
   "metadata": {},
   "outputs": [
    {
     "data": {
      "text/plain": [
       "[0.39026306484420026,\n",
       " 0.42588971433536216,\n",
       " 0.4636839543434501,\n",
       " 0.5037099541291497,\n",
       " 0.5460318829531516,\n",
       " 0.5907139100761345,\n",
       " 0.6378202047587855,\n",
       " 0.6874149362617903,\n",
       " 0.7395622738458307,\n",
       " 0.7943263867715942,\n",
       " 0.8517714442997679]"
      ]
     },
     "execution_count": 14,
     "metadata": {},
     "output_type": "execute_result"
    }
   ],
   "source": [
    "predictions"
   ]
  },
  {
   "cell_type": "markdown",
   "id": "45a215f1-a225-43be-ac31-1224d3511a5b",
   "metadata": {},
   "source": [
    "https://opendata.cbs.nl/#/CBS/nl/dataset/85089NED/table"
   ]
  },
  {
   "cell_type": "code",
   "execution_count": 15,
   "id": "22e57a79-7303-49f5-ab5c-d401375c6a73",
   "metadata": {},
   "outputs": [],
   "source": [
    "life_expectancy = pd.read_csv(\"D:\\juju\\lumc\\data analyse\\Bevolking__kerncijfers_2021_2070_14082022_173702.csv\",  sep=\";\", header=0, decimal=\",\")"
   ]
  },
  {
   "cell_type": "code",
   "execution_count": 16,
   "id": "76d42441-9f9d-4a95-a782-ed5b3dd53976",
   "metadata": {},
   "outputs": [],
   "source": [
    "life_expectancy_mean = life_expectancy.loc[life_expectancy[\"Prognose(-interval)\"] == \"Prognose\"]"
   ]
  },
  {
   "cell_type": "code",
   "execution_count": 17,
   "id": "c3869c7a-c490-4e25-9639-1f2d82133d5b",
   "metadata": {},
   "outputs": [
    {
     "data": {
      "text/html": [
       "<div>\n",
       "<style scoped>\n",
       "    .dataframe tbody tr th:only-of-type {\n",
       "        vertical-align: middle;\n",
       "    }\n",
       "\n",
       "    .dataframe tbody tr th {\n",
       "        vertical-align: top;\n",
       "    }\n",
       "\n",
       "    .dataframe thead th {\n",
       "        text-align: right;\n",
       "    }\n",
       "</style>\n",
       "<table border=\"1\" class=\"dataframe\">\n",
       "  <thead>\n",
       "    <tr style=\"text-align: right;\">\n",
       "      <th></th>\n",
       "      <th>Perioden</th>\n",
       "      <th>Periode-levensverwachting/Bij geboorte/Totaal (jaar)</th>\n",
       "    </tr>\n",
       "  </thead>\n",
       "  <tbody>\n",
       "    <tr>\n",
       "      <th>0</th>\n",
       "      <td>2021</td>\n",
       "      <td>81.55</td>\n",
       "    </tr>\n",
       "    <tr>\n",
       "      <th>1</th>\n",
       "      <td>2022</td>\n",
       "      <td>82.33</td>\n",
       "    </tr>\n",
       "    <tr>\n",
       "      <th>2</th>\n",
       "      <td>2023</td>\n",
       "      <td>82.67</td>\n",
       "    </tr>\n",
       "    <tr>\n",
       "      <th>3</th>\n",
       "      <td>2024</td>\n",
       "      <td>82.82</td>\n",
       "    </tr>\n",
       "    <tr>\n",
       "      <th>4</th>\n",
       "      <td>2025</td>\n",
       "      <td>82.98</td>\n",
       "    </tr>\n",
       "    <tr>\n",
       "      <th>5</th>\n",
       "      <td>2026</td>\n",
       "      <td>83.14</td>\n",
       "    </tr>\n",
       "    <tr>\n",
       "      <th>6</th>\n",
       "      <td>2027</td>\n",
       "      <td>83.30</td>\n",
       "    </tr>\n",
       "    <tr>\n",
       "      <th>7</th>\n",
       "      <td>2028</td>\n",
       "      <td>83.46</td>\n",
       "    </tr>\n",
       "    <tr>\n",
       "      <th>8</th>\n",
       "      <td>2029</td>\n",
       "      <td>83.62</td>\n",
       "    </tr>\n",
       "    <tr>\n",
       "      <th>9</th>\n",
       "      <td>2030</td>\n",
       "      <td>83.78</td>\n",
       "    </tr>\n",
       "    <tr>\n",
       "      <th>10</th>\n",
       "      <td>2031</td>\n",
       "      <td>83.94</td>\n",
       "    </tr>\n",
       "    <tr>\n",
       "      <th>11</th>\n",
       "      <td>2032</td>\n",
       "      <td>84.10</td>\n",
       "    </tr>\n",
       "    <tr>\n",
       "      <th>12</th>\n",
       "      <td>2033</td>\n",
       "      <td>84.26</td>\n",
       "    </tr>\n",
       "    <tr>\n",
       "      <th>13</th>\n",
       "      <td>2034</td>\n",
       "      <td>84.42</td>\n",
       "    </tr>\n",
       "    <tr>\n",
       "      <th>14</th>\n",
       "      <td>2035</td>\n",
       "      <td>84.58</td>\n",
       "    </tr>\n",
       "    <tr>\n",
       "      <th>15</th>\n",
       "      <td>2036</td>\n",
       "      <td>84.74</td>\n",
       "    </tr>\n",
       "    <tr>\n",
       "      <th>16</th>\n",
       "      <td>2037</td>\n",
       "      <td>84.90</td>\n",
       "    </tr>\n",
       "    <tr>\n",
       "      <th>17</th>\n",
       "      <td>2038</td>\n",
       "      <td>85.05</td>\n",
       "    </tr>\n",
       "    <tr>\n",
       "      <th>18</th>\n",
       "      <td>2039</td>\n",
       "      <td>85.21</td>\n",
       "    </tr>\n",
       "    <tr>\n",
       "      <th>19</th>\n",
       "      <td>2040</td>\n",
       "      <td>85.36</td>\n",
       "    </tr>\n",
       "    <tr>\n",
       "      <th>20</th>\n",
       "      <td>2041</td>\n",
       "      <td>85.51</td>\n",
       "    </tr>\n",
       "    <tr>\n",
       "      <th>21</th>\n",
       "      <td>2042</td>\n",
       "      <td>85.66</td>\n",
       "    </tr>\n",
       "    <tr>\n",
       "      <th>22</th>\n",
       "      <td>2043</td>\n",
       "      <td>85.80</td>\n",
       "    </tr>\n",
       "    <tr>\n",
       "      <th>23</th>\n",
       "      <td>2044</td>\n",
       "      <td>85.95</td>\n",
       "    </tr>\n",
       "    <tr>\n",
       "      <th>24</th>\n",
       "      <td>2045</td>\n",
       "      <td>86.09</td>\n",
       "    </tr>\n",
       "    <tr>\n",
       "      <th>25</th>\n",
       "      <td>2046</td>\n",
       "      <td>86.24</td>\n",
       "    </tr>\n",
       "    <tr>\n",
       "      <th>26</th>\n",
       "      <td>2047</td>\n",
       "      <td>86.38</td>\n",
       "    </tr>\n",
       "    <tr>\n",
       "      <th>27</th>\n",
       "      <td>2048</td>\n",
       "      <td>86.52</td>\n",
       "    </tr>\n",
       "    <tr>\n",
       "      <th>28</th>\n",
       "      <td>2049</td>\n",
       "      <td>86.66</td>\n",
       "    </tr>\n",
       "    <tr>\n",
       "      <th>29</th>\n",
       "      <td>2050</td>\n",
       "      <td>86.80</td>\n",
       "    </tr>\n",
       "    <tr>\n",
       "      <th>30</th>\n",
       "      <td>2051</td>\n",
       "      <td>86.93</td>\n",
       "    </tr>\n",
       "    <tr>\n",
       "      <th>31</th>\n",
       "      <td>2052</td>\n",
       "      <td>87.07</td>\n",
       "    </tr>\n",
       "    <tr>\n",
       "      <th>32</th>\n",
       "      <td>2053</td>\n",
       "      <td>87.20</td>\n",
       "    </tr>\n",
       "    <tr>\n",
       "      <th>33</th>\n",
       "      <td>2054</td>\n",
       "      <td>87.33</td>\n",
       "    </tr>\n",
       "    <tr>\n",
       "      <th>34</th>\n",
       "      <td>2055</td>\n",
       "      <td>87.47</td>\n",
       "    </tr>\n",
       "    <tr>\n",
       "      <th>35</th>\n",
       "      <td>2056</td>\n",
       "      <td>87.60</td>\n",
       "    </tr>\n",
       "    <tr>\n",
       "      <th>36</th>\n",
       "      <td>2057</td>\n",
       "      <td>87.72</td>\n",
       "    </tr>\n",
       "    <tr>\n",
       "      <th>37</th>\n",
       "      <td>2058</td>\n",
       "      <td>87.85</td>\n",
       "    </tr>\n",
       "    <tr>\n",
       "      <th>38</th>\n",
       "      <td>2059</td>\n",
       "      <td>87.98</td>\n",
       "    </tr>\n",
       "    <tr>\n",
       "      <th>39</th>\n",
       "      <td>2060</td>\n",
       "      <td>88.10</td>\n",
       "    </tr>\n",
       "    <tr>\n",
       "      <th>40</th>\n",
       "      <td>2061</td>\n",
       "      <td>88.23</td>\n",
       "    </tr>\n",
       "    <tr>\n",
       "      <th>41</th>\n",
       "      <td>2062</td>\n",
       "      <td>88.35</td>\n",
       "    </tr>\n",
       "    <tr>\n",
       "      <th>42</th>\n",
       "      <td>2063</td>\n",
       "      <td>88.47</td>\n",
       "    </tr>\n",
       "    <tr>\n",
       "      <th>43</th>\n",
       "      <td>2064</td>\n",
       "      <td>88.59</td>\n",
       "    </tr>\n",
       "    <tr>\n",
       "      <th>44</th>\n",
       "      <td>2065</td>\n",
       "      <td>88.71</td>\n",
       "    </tr>\n",
       "    <tr>\n",
       "      <th>45</th>\n",
       "      <td>2066</td>\n",
       "      <td>88.82</td>\n",
       "    </tr>\n",
       "    <tr>\n",
       "      <th>46</th>\n",
       "      <td>2067</td>\n",
       "      <td>88.94</td>\n",
       "    </tr>\n",
       "    <tr>\n",
       "      <th>47</th>\n",
       "      <td>2068</td>\n",
       "      <td>89.05</td>\n",
       "    </tr>\n",
       "    <tr>\n",
       "      <th>48</th>\n",
       "      <td>2069</td>\n",
       "      <td>89.17</td>\n",
       "    </tr>\n",
       "    <tr>\n",
       "      <th>49</th>\n",
       "      <td>2070</td>\n",
       "      <td>89.28</td>\n",
       "    </tr>\n",
       "  </tbody>\n",
       "</table>\n",
       "</div>"
      ],
      "text/plain": [
       "    Perioden  Periode-levensverwachting/Bij geboorte/Totaal (jaar)\n",
       "0       2021                                              81.55   \n",
       "1       2022                                              82.33   \n",
       "2       2023                                              82.67   \n",
       "3       2024                                              82.82   \n",
       "4       2025                                              82.98   \n",
       "5       2026                                              83.14   \n",
       "6       2027                                              83.30   \n",
       "7       2028                                              83.46   \n",
       "8       2029                                              83.62   \n",
       "9       2030                                              83.78   \n",
       "10      2031                                              83.94   \n",
       "11      2032                                              84.10   \n",
       "12      2033                                              84.26   \n",
       "13      2034                                              84.42   \n",
       "14      2035                                              84.58   \n",
       "15      2036                                              84.74   \n",
       "16      2037                                              84.90   \n",
       "17      2038                                              85.05   \n",
       "18      2039                                              85.21   \n",
       "19      2040                                              85.36   \n",
       "20      2041                                              85.51   \n",
       "21      2042                                              85.66   \n",
       "22      2043                                              85.80   \n",
       "23      2044                                              85.95   \n",
       "24      2045                                              86.09   \n",
       "25      2046                                              86.24   \n",
       "26      2047                                              86.38   \n",
       "27      2048                                              86.52   \n",
       "28      2049                                              86.66   \n",
       "29      2050                                              86.80   \n",
       "30      2051                                              86.93   \n",
       "31      2052                                              87.07   \n",
       "32      2053                                              87.20   \n",
       "33      2054                                              87.33   \n",
       "34      2055                                              87.47   \n",
       "35      2056                                              87.60   \n",
       "36      2057                                              87.72   \n",
       "37      2058                                              87.85   \n",
       "38      2059                                              87.98   \n",
       "39      2060                                              88.10   \n",
       "40      2061                                              88.23   \n",
       "41      2062                                              88.35   \n",
       "42      2063                                              88.47   \n",
       "43      2064                                              88.59   \n",
       "44      2065                                              88.71   \n",
       "45      2066                                              88.82   \n",
       "46      2067                                              88.94   \n",
       "47      2068                                              89.05   \n",
       "48      2069                                              89.17   \n",
       "49      2070                                              89.28   "
      ]
     },
     "execution_count": 17,
     "metadata": {},
     "output_type": "execute_result"
    }
   ],
   "source": [
    "life_expectancy_mean[[\"Perioden\", \"Periode-levensverwachting/Bij geboorte/Totaal (jaar)\"]]"
   ]
  },
  {
   "cell_type": "code",
   "execution_count": 18,
   "id": "09f5f53c-5d85-40ea-828b-f2a23a396e3e",
   "metadata": {},
   "outputs": [
    {
     "data": {
      "image/png": "[encoded data removed]",
      "text/plain": [
       "<Figure size 432x288 with 1 Axes>"
      ]
     },
     "metadata": {
      "needs_background": "light"
     },
     "output_type": "display_data"
    },
    {
     "name": "stdout",
     "output_type": "stream",
     "text": [
      "            2\n",
      "-0.0008177 x + 0.185 x + 82.14\n"
     ]
    }
   ],
   "source": [
    "name = [\"Dutch\", \"Turkish\", \"Moroccan\", \" Hindustan\"]\n",
    "\n",
    "x = (life_expectancy_mean[\"Perioden\"] -2021)\n",
    "y=  life_expectancy_mean[\"Periode-levensverwachting/Bij geboorte/Totaal (jaar)\"]\n",
    "#polynomial fit with degree = 2\n",
    "model = np.poly1d(np.polyfit(x, y, 2))\n",
    "\n",
    "#add fitted polynomial line to scatterplot\n",
    "polyline = np.linspace(min(x), max(x) + 30, 50)\n",
    "plt.scatter(x, y, color= \"#f16364\")\n",
    "plt.plot(polyline, model(polyline), color=\"black\")\n",
    "plt.title(\"Life expectancy of women\")\n",
    "plt.xlabel(\"Time (in years)\")\n",
    "plt.ylabel(\"Age\")\n",
    "#plt.savefig(\"D:/juju/lumc/msc_thesis/report/images/growth_formula_\" + name[i] +\".png\", format=\"png\",  dpi=300, bbox_inches='tight')  \n",
    "plt.show()\n",
    "print(model)"
   ]
  },
  {
   "cell_type": "code",
   "execution_count": 60,
   "id": "40f02fda-a4d9-445c-a689-5592acba2df6",
   "metadata": {},
   "outputs": [
    {
     "data": {
      "text/plain": [
       "84.2422512"
      ]
     },
     "execution_count": 60,
     "metadata": {},
     "output_type": "execute_result"
    }
   ],
   "source": [
    "z = 12\n",
    "-0.0008177 * z**2 + 0.185 * z+ 82.14"
   ]
  },
  {
   "cell_type": "markdown",
   "id": "0ae5f7e1-ea52-45b1-addd-80783be6759e",
   "metadata": {
    "tags": []
   },
   "source": [
    "# Growth rate"
   ]
  },
  {
   "cell_type": "code",
   "execution_count": 20,
   "id": "844b13bb-789d-40dc-ad7a-7e495066462f",
   "metadata": {},
   "outputs": [
    {
     "data": {
      "text/plain": [
       "0.0013765806311869483"
      ]
     },
     "execution_count": 20,
     "metadata": {},
     "output_type": "execute_result"
    }
   ],
   "source": [
    "#find k\n",
    "growth_rate = np.log(model(80)/model(0))/80\n",
    "growth_rate"
   ]
  },
  {
   "cell_type": "code",
   "execution_count": 21,
   "id": "584661c7-0366-403b-b69e-a7f58b6f49cc",
   "metadata": {},
   "outputs": [
    {
     "data": {
      "text/plain": [
       "0.774497409477542"
      ]
     },
     "execution_count": 21,
     "metadata": {},
     "output_type": "execute_result"
    }
   ],
   "source": [
    " 0.8646638040804033 * np.exp(-growth_rate*80)"
   ]
  },
  {
   "cell_type": "markdown",
   "id": "46febb96-ee5c-4971-9909-f045426b2beb",
   "metadata": {},
   "source": [
    "I think so? It looks ok?"
   ]
  },
  {
   "cell_type": "code",
   "execution_count": 22,
   "id": "bef0952b-cae5-411d-8a03-982f9a4a22bb",
   "metadata": {},
   "outputs": [
    {
     "data": {
      "text/plain": [
       "2"
      ]
     },
     "execution_count": 22,
     "metadata": {},
     "output_type": "execute_result"
    }
   ],
   "source": [
    "25//12"
   ]
  },
  {
   "cell_type": "code",
   "execution_count": 23,
   "id": "c55da7af-ee9e-4383-9046-377c7b79efa2",
   "metadata": {},
   "outputs": [
    {
     "data": {
      "text/plain": [
       "array([ 1.06948768e-05, -2.15675241e-03,  1.45068422e-01, -3.24393183e+00])"
      ]
     },
     "execution_count": 23,
     "metadata": {},
     "output_type": "execute_result"
    }
   ],
   "source": [
    "popt"
   ]
  },
  {
   "cell_type": "code",
   "execution_count": 24,
   "id": "bd357477-702b-453e-b1d0-5496eac30eda",
   "metadata": {},
   "outputs": [
    {
     "data": {
      "image/png": "[encoded data removed]",
      "text/plain": [
       "<Figure size 432x288 with 1 Axes>"
      ]
     },
     "metadata": {
      "needs_background": "light"
     },
     "output_type": "display_data"
    },
    {
     "name": "stdout",
     "output_type": "stream",
     "text": [
      "           3            2\n",
      "1.069e-05 x - 0.002157 x + 0.1451 x - 3.244\n"
     ]
    }
   ],
   "source": [
    "x = mortality_risk_df[\"age\"].iloc[45:].astype(float).values\n",
    "y = mortality_risk_df[\"kans\"].iloc[45:].astype(float).values#polynomial fit with degree = 2\n",
    "model = np.poly1d(np.polyfit(x, y, 3))\n",
    "\n",
    "#add fitted polynomial line to scatterplot\n",
    "polyline = np.linspace(min(x), 110, 50)\n",
    "plt.plot(polyline, model(polyline)* np.exp(-growth_rate*80), color=\"#03636C\", label=\"Projection of 2100\")\n",
    "plt.scatter(x, y, color= \"#f16364\", label=\"Data points of 2016-2021\")\n",
    "plt.plot(polyline, model(polyline), color=\"black\", label=\"Projection of 2016-2021\")\n",
    "plt.legend()\n",
    "plt.title(\"Fitted function to predict mortality risk of people aged > 99\")\n",
    "plt.xlabel(\"Age\")\n",
    "plt.ylabel(\"Mortality risk\")\n",
    "plt.savefig(\"D:/juju/lumc/msc_thesis/report/images/mortalityrisk_growth rate.png\", format=\"png\",  dpi=300, bbox_inches='tight')  \n",
    "plt.show()\n",
    "print(model)"
   ]
  }
 ],
 "metadata": {
  "kernelspec": {
   "display_name": "Python 3 (ipykernel)",
   "language": "python",
   "name": "python3"
  },
  "language_info": {
   "codemirror_mode": {
    "name": "ipython",
    "version": 3
   },
   "file_extension": ".py",
   "mimetype": "text/x-python",
   "name": "python",
   "nbconvert_exporter": "python",
   "pygments_lexer": "ipython3",
   "version": "3.10.4"
  }
 },
 "nbformat": 4,
 "nbformat_minor": 5
}
