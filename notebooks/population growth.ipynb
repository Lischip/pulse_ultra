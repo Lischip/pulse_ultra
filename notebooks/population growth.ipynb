{
 "cells": [
  {
   "cell_type": "markdown",
   "id": "975e34df-0386-4117-a332-9d0bad925992",
   "metadata": {},
   "source": [
    "https://opendata.cbs.nl/#/CBS/nl/dataset/84527NED/table\n",
    "https://denhaag.incijfers.nl/jive \n",
    "\n",
    "bevolking % ethniciteit\n"
   ]
  },
  {
   "cell_type": "code",
   "execution_count": 1,
   "id": "211e62a9-3dd7-4b30-8b5f-03bd5f5802ce",
   "metadata": {},
   "outputs": [
    {
     "name": "stderr",
     "output_type": "stream",
     "text": [
      "<frozen importlib._bootstrap>:241: RuntimeWarning: scipy._lib.messagestream.MessageStream size changed, may indicate binary incompatibility. Expected 56 from C header, got 64 from PyObject\n"
     ]
    }
   ],
   "source": [
    "import numpy as np\n",
    "import scipy.stats as stats\n",
    "import matplotlib.pyplot as plt\n",
    "import pandas as pd\n",
    "import scipy.stats as stats\n",
    "from scipy.optimize import curve_fit"
   ]
  },
  {
   "cell_type": "code",
   "execution_count": 401,
   "id": "6afb68c5-cac4-4538-8ccc-2c7092e770df",
   "metadata": {},
   "outputs": [
    {
     "name": "stderr",
     "output_type": "stream",
     "text": [
      "C:\\Users\\lis94\\anaconda3\\envs\\thesis\\lib\\site-packages\\openpyxl\\styles\\stylesheet.py:226: UserWarning: Workbook contains no default style, apply openpyxl's default\n",
      "  warn(\"Workbook contains no default style, apply openpyxl's default\")\n"
     ]
    }
   ],
   "source": [
    "prognosis = pd.read_csv(\"Regionale_prognose_2020_2050__bevolking__intervallen__regio_indeling_2018__18082022_233952.csv\", on_bad_lines='skip', sep=\";\", decimal=\",\", skiprows=5, header=0)\n",
    "nationalities = pd.read_excel(\"migratieachtergrond  - Den Haag.xlsx\")"
   ]
  },
  {
   "cell_type": "code",
   "execution_count": 387,
   "id": "4b85e5fb-5dd9-41b9-b9b1-212ad4029b93",
   "metadata": {},
   "outputs": [],
   "source": [
    "nationalities[\"Time\"] = range((2009-2021)*12, 12+1,12)"
   ]
  },
  {
   "cell_type": "code",
   "execution_count": 388,
   "id": "c9cd6c02-90ee-4b27-b094-8f82a74ed689",
   "metadata": {},
   "outputs": [],
   "source": [
    "nationalities[\"% Hindoestaans\"] = round(nationalities[\"% Surinaams\"] * 0.44, 3)"
   ]
  },
  {
   "cell_type": "code",
   "execution_count": 389,
   "id": "74a01510-5370-47ff-9c5a-1c845e816bb7",
   "metadata": {},
   "outputs": [
    {
     "data": {
      "text/html": [
       "<div>\n",
       "<style scoped>\n",
       "    .dataframe tbody tr th:only-of-type {\n",
       "        vertical-align: middle;\n",
       "    }\n",
       "\n",
       "    .dataframe tbody tr th {\n",
       "        vertical-align: top;\n",
       "    }\n",
       "\n",
       "    .dataframe thead th {\n",
       "        text-align: right;\n",
       "    }\n",
       "</style>\n",
       "<table border=\"1\" class=\"dataframe\">\n",
       "  <thead>\n",
       "    <tr style=\"text-align: right;\">\n",
       "      <th></th>\n",
       "      <th>Gebieden</th>\n",
       "      <th>Perioden</th>\n",
       "      <th>% Nederlands</th>\n",
       "      <th>% Turks</th>\n",
       "      <th>% Marokkaans</th>\n",
       "      <th>% Surinaams</th>\n",
       "      <th>Time</th>\n",
       "      <th>% Hindoestaans</th>\n",
       "    </tr>\n",
       "  </thead>\n",
       "  <tbody>\n",
       "    <tr>\n",
       "      <th>0</th>\n",
       "      <td>Den Haag</td>\n",
       "      <td>2009</td>\n",
       "      <td>0.527</td>\n",
       "      <td>0.073</td>\n",
       "      <td>0.054</td>\n",
       "      <td>0.095</td>\n",
       "      <td>-144</td>\n",
       "      <td>0.042</td>\n",
       "    </tr>\n",
       "    <tr>\n",
       "      <th>1</th>\n",
       "      <td>Den Haag</td>\n",
       "      <td>2010</td>\n",
       "      <td>0.522</td>\n",
       "      <td>0.073</td>\n",
       "      <td>0.055</td>\n",
       "      <td>0.094</td>\n",
       "      <td>-132</td>\n",
       "      <td>0.041</td>\n",
       "    </tr>\n",
       "    <tr>\n",
       "      <th>2</th>\n",
       "      <td>Den Haag</td>\n",
       "      <td>2011</td>\n",
       "      <td>0.513</td>\n",
       "      <td>0.074</td>\n",
       "      <td>0.056</td>\n",
       "      <td>0.094</td>\n",
       "      <td>-120</td>\n",
       "      <td>0.041</td>\n",
       "    </tr>\n",
       "    <tr>\n",
       "      <th>3</th>\n",
       "      <td>Den Haag</td>\n",
       "      <td>2012</td>\n",
       "      <td>0.505</td>\n",
       "      <td>0.075</td>\n",
       "      <td>0.056</td>\n",
       "      <td>0.093</td>\n",
       "      <td>-108</td>\n",
       "      <td>0.041</td>\n",
       "    </tr>\n",
       "    <tr>\n",
       "      <th>4</th>\n",
       "      <td>Den Haag</td>\n",
       "      <td>2013</td>\n",
       "      <td>0.499</td>\n",
       "      <td>0.075</td>\n",
       "      <td>0.057</td>\n",
       "      <td>0.092</td>\n",
       "      <td>-96</td>\n",
       "      <td>0.040</td>\n",
       "    </tr>\n",
       "    <tr>\n",
       "      <th>5</th>\n",
       "      <td>Den Haag</td>\n",
       "      <td>2014</td>\n",
       "      <td>0.495</td>\n",
       "      <td>0.076</td>\n",
       "      <td>0.058</td>\n",
       "      <td>0.092</td>\n",
       "      <td>-84</td>\n",
       "      <td>0.040</td>\n",
       "    </tr>\n",
       "    <tr>\n",
       "      <th>6</th>\n",
       "      <td>Den Haag</td>\n",
       "      <td>2015</td>\n",
       "      <td>0.488</td>\n",
       "      <td>0.076</td>\n",
       "      <td>0.058</td>\n",
       "      <td>0.091</td>\n",
       "      <td>-72</td>\n",
       "      <td>0.040</td>\n",
       "    </tr>\n",
       "    <tr>\n",
       "      <th>7</th>\n",
       "      <td>Den Haag</td>\n",
       "      <td>2016</td>\n",
       "      <td>0.479</td>\n",
       "      <td>0.076</td>\n",
       "      <td>0.058</td>\n",
       "      <td>0.089</td>\n",
       "      <td>-60</td>\n",
       "      <td>0.039</td>\n",
       "    </tr>\n",
       "    <tr>\n",
       "      <th>8</th>\n",
       "      <td>Den Haag</td>\n",
       "      <td>2017</td>\n",
       "      <td>0.472</td>\n",
       "      <td>0.076</td>\n",
       "      <td>0.058</td>\n",
       "      <td>0.088</td>\n",
       "      <td>-48</td>\n",
       "      <td>0.039</td>\n",
       "    </tr>\n",
       "    <tr>\n",
       "      <th>9</th>\n",
       "      <td>Den Haag</td>\n",
       "      <td>2018</td>\n",
       "      <td>0.462</td>\n",
       "      <td>0.075</td>\n",
       "      <td>0.059</td>\n",
       "      <td>0.087</td>\n",
       "      <td>-36</td>\n",
       "      <td>0.038</td>\n",
       "    </tr>\n",
       "    <tr>\n",
       "      <th>10</th>\n",
       "      <td>Den Haag</td>\n",
       "      <td>2019</td>\n",
       "      <td>0.453</td>\n",
       "      <td>0.075</td>\n",
       "      <td>0.059</td>\n",
       "      <td>0.086</td>\n",
       "      <td>-24</td>\n",
       "      <td>0.038</td>\n",
       "    </tr>\n",
       "    <tr>\n",
       "      <th>11</th>\n",
       "      <td>Den Haag</td>\n",
       "      <td>2020</td>\n",
       "      <td>0.443</td>\n",
       "      <td>0.075</td>\n",
       "      <td>0.059</td>\n",
       "      <td>0.084</td>\n",
       "      <td>-12</td>\n",
       "      <td>0.037</td>\n",
       "    </tr>\n",
       "    <tr>\n",
       "      <th>12</th>\n",
       "      <td>Den Haag</td>\n",
       "      <td>2021</td>\n",
       "      <td>0.438</td>\n",
       "      <td>0.076</td>\n",
       "      <td>0.059</td>\n",
       "      <td>0.083</td>\n",
       "      <td>0</td>\n",
       "      <td>0.037</td>\n",
       "    </tr>\n",
       "    <tr>\n",
       "      <th>13</th>\n",
       "      <td>Den Haag</td>\n",
       "      <td>2022</td>\n",
       "      <td>0.430</td>\n",
       "      <td>0.076</td>\n",
       "      <td>0.059</td>\n",
       "      <td>0.081</td>\n",
       "      <td>12</td>\n",
       "      <td>0.036</td>\n",
       "    </tr>\n",
       "  </tbody>\n",
       "</table>\n",
       "</div>"
      ],
      "text/plain": [
       "    Gebieden  Perioden  % Nederlands  % Turks  % Marokkaans  % Surinaams  \\\n",
       "0   Den Haag      2009         0.527    0.073         0.054        0.095   \n",
       "1   Den Haag      2010         0.522    0.073         0.055        0.094   \n",
       "2   Den Haag      2011         0.513    0.074         0.056        0.094   \n",
       "3   Den Haag      2012         0.505    0.075         0.056        0.093   \n",
       "4   Den Haag      2013         0.499    0.075         0.057        0.092   \n",
       "5   Den Haag      2014         0.495    0.076         0.058        0.092   \n",
       "6   Den Haag      2015         0.488    0.076         0.058        0.091   \n",
       "7   Den Haag      2016         0.479    0.076         0.058        0.089   \n",
       "8   Den Haag      2017         0.472    0.076         0.058        0.088   \n",
       "9   Den Haag      2018         0.462    0.075         0.059        0.087   \n",
       "10  Den Haag      2019         0.453    0.075         0.059        0.086   \n",
       "11  Den Haag      2020         0.443    0.075         0.059        0.084   \n",
       "12  Den Haag      2021         0.438    0.076         0.059        0.083   \n",
       "13  Den Haag      2022         0.430    0.076         0.059        0.081   \n",
       "\n",
       "    Time  % Hindoestaans  \n",
       "0   -144           0.042  \n",
       "1   -132           0.041  \n",
       "2   -120           0.041  \n",
       "3   -108           0.041  \n",
       "4    -96           0.040  \n",
       "5    -84           0.040  \n",
       "6    -72           0.040  \n",
       "7    -60           0.039  \n",
       "8    -48           0.039  \n",
       "9    -36           0.038  \n",
       "10   -24           0.038  \n",
       "11   -12           0.037  \n",
       "12     0           0.037  \n",
       "13    12           0.036  "
      ]
     },
     "execution_count": 389,
     "metadata": {},
     "output_type": "execute_result"
    }
   ],
   "source": [
    "nationalities"
   ]
  },
  {
   "cell_type": "code",
   "execution_count": 396,
   "id": "da23a18b-bbf6-4874-acb2-2b1149b4d734",
   "metadata": {},
   "outputs": [
    {
     "data": {
      "image/png": "[encoded data removed]",
      "text/plain": [
       "<Figure size 432x288 with 1 Axes>"
      ]
     },
     "metadata": {
      "needs_background": "light"
     },
     "output_type": "display_data"
    },
    {
     "name": "stdout",
     "output_type": "stream",
     "text": [
      " \n",
      "-0.0006304 x + 0.4388\n"
     ]
    },
    {
     "data": {
      "image/png": "[encoded data removed]",
      "text/plain": [
       "<Figure size 432x288 with 1 Axes>"
      ]
     },
     "metadata": {
      "needs_background": "light"
     },
     "output_type": "display_data"
    },
    {
     "name": "stdout",
     "output_type": "stream",
     "text": [
      " \n",
      "1.484e-05 x + 0.07605\n"
     ]
    },
    {
     "data": {
      "image/png": "[encoded data removed]",
      "text/plain": [
       "<Figure size 432x288 with 1 Axes>"
      ]
     },
     "metadata": {
      "needs_background": "light"
     },
     "output_type": "display_data"
    },
    {
     "name": "stdout",
     "output_type": "stream",
     "text": [
      " \n",
      "3.059e-05 x + 0.05952\n"
     ]
    },
    {
     "data": {
      "image/png": "[encoded data removed]",
      "text/plain": [
       "<Figure size 432x288 with 1 Axes>"
      ]
     },
     "metadata": {
      "needs_background": "light"
     },
     "output_type": "display_data"
    },
    {
     "name": "stdout",
     "output_type": "stream",
     "text": [
      " \n",
      "-3.535e-05 x + 0.03688\n"
     ]
    }
   ],
   "source": [
    "models = []\n",
    "names = [\"Fraction Dutch\", \"Fraction Turkish\", \"Fraction Moroccan\", \"Fraction Hindustani\"]\n",
    "i = 0\n",
    "for nationality in [\"% Nederlands\", \"% Turks\", \"% Marokkaans\", \"% Hindoestaans\"]:\n",
    "    x = nationalities[\"Time\"]\n",
    "    y=  nationalities[nationality]\n",
    "    #polynomial fit with degree = 2\n",
    "    model = np.poly1d(np.polyfit(x, y,  1))\n",
    "\n",
    "    #add fitted polynomial line to scatterplot\n",
    "    polyline = np.linspace(min(x), 12*80)\n",
    "    plt.scatter(x, y, color= \"#f16364\", label=\"Data points\")\n",
    "    plt.plot(polyline, model(polyline), color=\"black\", label=\"Fitted Curve\")\n",
    "    plt.hlines(y=0, xmin=min(x), xmax=12*80, color=\"grey\", label=\"zero line\")\n",
    "    plt.hlines(y=model(25*12), xmin=min(x), xmax=12*80, color=\"pink\", label=\"25 years\")\n",
    "    plt.title(names[i])\n",
    "    plt.xlabel(\"Year\")\n",
    "    plt.xticks(list(range(0, 12*80, 12*10)) + [12*80+1] , list(range(2022, 2100, 10)) + [2100], rotation=\"vertical\" )\n",
    "    plt.ylabel(\"Fraction\")\n",
    "    plt.legend()\n",
    "    plt.savefig(\"D:/juju/lumc/msc_thesis/report/images/growth_formula_\" + names[i] +\".png\", format=\"png\",  dpi=300, bbox_inches='tight')  \n",
    "    plt.show()\n",
    "    print(model)\n",
    "    models.append(model)\n",
    "    i += 1"
   ]
  },
  {
   "cell_type": "code",
   "execution_count": 237,
   "id": "f7c92fc1-8f45-4bf2-abb4-2e80194d4ade",
   "metadata": {},
   "outputs": [
    {
     "data": {
      "text/plain": [
       "0.03688"
      ]
     },
     "execution_count": 237,
     "metadata": {},
     "output_type": "execute_result"
    }
   ],
   "source": [
    "-0.0004242 * 0 + 0.03688"
   ]
  },
  {
   "cell_type": "code",
   "execution_count": 238,
   "id": "1cd4c246-304f-456d-9450-46e8c10d57c3",
   "metadata": {},
   "outputs": [
    {
     "data": {
      "text/plain": [
       "array([0.03688132, 0.0368445 , 0.03680768, 0.03677086, 0.03673404,\n",
       "       0.03669721, 0.03666039, 0.03662357, 0.03658675, 0.03654993,\n",
       "       0.03651311, 0.03647629, 0.03643947, 0.03640265, 0.03636583,\n",
       "       0.03632901, 0.03629219, 0.03625536, 0.03621854, 0.03618172,\n",
       "       0.0361449 , 0.03610808, 0.03607126, 0.03603444, 0.03599762])"
      ]
     },
     "execution_count": 238,
     "metadata": {},
     "output_type": "execute_result"
    }
   ],
   "source": [
    "x = np.linspace(0, 25, 25)\n",
    "models[3](x)"
   ]
  },
  {
   "cell_type": "code",
   "execution_count": 239,
   "id": "87d15c97-e9a1-4bfc-bed8-c675084d34e0",
   "metadata": {},
   "outputs": [
    {
     "data": {
      "text/plain": [
       "array([0.05951868, 0.05955054, 0.0595824 , 0.05961426, 0.05964612,\n",
       "       0.05967798, 0.05970984, 0.0597417 , 0.05977357, 0.05980543,\n",
       "       0.05983729, 0.05986915, 0.05990101, 0.05993287, 0.05996473,\n",
       "       0.05999659, 0.06002845, 0.06006031, 0.06009217, 0.06012403,\n",
       "       0.06015589, 0.06018775, 0.06021961, 0.06025147, 0.06028333])"
      ]
     },
     "execution_count": 239,
     "metadata": {},
     "output_type": "execute_result"
    }
   ],
   "source": [
    "models[2](x)"
   ]
  },
  {
   "cell_type": "code",
   "execution_count": 240,
   "id": "28d074f0-88c1-482c-bca2-881f9d8af2d9",
   "metadata": {},
   "outputs": [
    {
     "data": {
      "text/plain": [
       "0.9340626944934874"
      ]
     },
     "execution_count": 240,
     "metadata": {},
     "output_type": "execute_result"
    }
   ],
   "source": [
    "((0.076 * 549166) - 2752)/(0.076 * 549166)"
   ]
  },
  {
   "cell_type": "code",
   "execution_count": 241,
   "id": "0e5ad885-066d-4d1b-a023-140118a82ff4",
   "metadata": {},
   "outputs": [
    {
     "data": {
      "text/plain": [
       "0.085711"
      ]
     },
     "execution_count": 241,
     "metadata": {},
     "output_type": "execute_result"
    }
   ],
   "source": [
    "l = 10\n",
    "-4.808e-05 * l ** 2 - 0.0004321 * l + 0.09484\n"
   ]
  },
  {
   "cell_type": "code",
   "execution_count": 402,
   "id": "06c1a4fb-504a-4f74-ac5a-e228d01f74df",
   "metadata": {},
   "outputs": [],
   "source": [
    "prognosis = prognosis[:-1].copy()"
   ]
  },
  {
   "cell_type": "code",
   "execution_count": 403,
   "id": "5d2de391-1a08-45c7-8d9c-dc68feed77d5",
   "metadata": {},
   "outputs": [],
   "source": [
    "prognosis[\"population size\"] = prognosis[\"x 1 000\"] * 1000\n",
    "prognosis[\"change\"] = prognosis[\"population size\"]/prognosis[\"population size\"].head(1).values[0]"
   ]
  },
  {
   "cell_type": "code",
   "execution_count": 412,
   "id": "e3cdd9f7-4243-4d89-a064-ecd6c5d65419",
   "metadata": {},
   "outputs": [
    {
     "data": {
      "text/html": [
       "<div>\n",
       "<style scoped>\n",
       "    .dataframe tbody tr th:only-of-type {\n",
       "        vertical-align: middle;\n",
       "    }\n",
       "\n",
       "    .dataframe tbody tr th {\n",
       "        vertical-align: top;\n",
       "    }\n",
       "\n",
       "    .dataframe thead th {\n",
       "        text-align: right;\n",
       "    }\n",
       "</style>\n",
       "<table border=\"1\" class=\"dataframe\">\n",
       "  <thead>\n",
       "    <tr style=\"text-align: right;\">\n",
       "      <th></th>\n",
       "      <th>Leeftijd</th>\n",
       "      <th>Perioden</th>\n",
       "      <th>x 1 000</th>\n",
       "      <th>population size</th>\n",
       "      <th>change</th>\n",
       "      <th>Time</th>\n",
       "    </tr>\n",
       "  </thead>\n",
       "  <tbody>\n",
       "    <tr>\n",
       "      <th>0</th>\n",
       "      <td>Totaal</td>\n",
       "      <td>2020.0</td>\n",
       "      <td>548.1</td>\n",
       "      <td>548100.0</td>\n",
       "      <td>1.000000</td>\n",
       "      <td>-24</td>\n",
       "    </tr>\n",
       "    <tr>\n",
       "      <th>1</th>\n",
       "      <td>Totaal</td>\n",
       "      <td>2021.0</td>\n",
       "      <td>554.4</td>\n",
       "      <td>554400.0</td>\n",
       "      <td>1.011494</td>\n",
       "      <td>-12</td>\n",
       "    </tr>\n",
       "    <tr>\n",
       "      <th>2</th>\n",
       "      <td>Totaal</td>\n",
       "      <td>2022.0</td>\n",
       "      <td>559.5</td>\n",
       "      <td>559500.0</td>\n",
       "      <td>1.020799</td>\n",
       "      <td>0</td>\n",
       "    </tr>\n",
       "    <tr>\n",
       "      <th>3</th>\n",
       "      <td>Totaal</td>\n",
       "      <td>2023.0</td>\n",
       "      <td>564.9</td>\n",
       "      <td>564900.0</td>\n",
       "      <td>1.030651</td>\n",
       "      <td>12</td>\n",
       "    </tr>\n",
       "    <tr>\n",
       "      <th>4</th>\n",
       "      <td>Totaal</td>\n",
       "      <td>2024.0</td>\n",
       "      <td>570.3</td>\n",
       "      <td>570300.0</td>\n",
       "      <td>1.040504</td>\n",
       "      <td>24</td>\n",
       "    </tr>\n",
       "    <tr>\n",
       "      <th>5</th>\n",
       "      <td>Totaal</td>\n",
       "      <td>2025.0</td>\n",
       "      <td>575.3</td>\n",
       "      <td>575300.0</td>\n",
       "      <td>1.049626</td>\n",
       "      <td>36</td>\n",
       "    </tr>\n",
       "    <tr>\n",
       "      <th>6</th>\n",
       "      <td>Totaal</td>\n",
       "      <td>2026.0</td>\n",
       "      <td>580.3</td>\n",
       "      <td>580300.0</td>\n",
       "      <td>1.058748</td>\n",
       "      <td>48</td>\n",
       "    </tr>\n",
       "    <tr>\n",
       "      <th>7</th>\n",
       "      <td>Totaal</td>\n",
       "      <td>2027.0</td>\n",
       "      <td>585.0</td>\n",
       "      <td>585000.0</td>\n",
       "      <td>1.067323</td>\n",
       "      <td>60</td>\n",
       "    </tr>\n",
       "    <tr>\n",
       "      <th>8</th>\n",
       "      <td>Totaal</td>\n",
       "      <td>2028.0</td>\n",
       "      <td>588.3</td>\n",
       "      <td>588300.0</td>\n",
       "      <td>1.073344</td>\n",
       "      <td>72</td>\n",
       "    </tr>\n",
       "    <tr>\n",
       "      <th>9</th>\n",
       "      <td>Totaal</td>\n",
       "      <td>2029.0</td>\n",
       "      <td>591.6</td>\n",
       "      <td>591600.0</td>\n",
       "      <td>1.079365</td>\n",
       "      <td>84</td>\n",
       "    </tr>\n",
       "    <tr>\n",
       "      <th>10</th>\n",
       "      <td>Totaal</td>\n",
       "      <td>2030.0</td>\n",
       "      <td>594.7</td>\n",
       "      <td>594700.0</td>\n",
       "      <td>1.085021</td>\n",
       "      <td>96</td>\n",
       "    </tr>\n",
       "    <tr>\n",
       "      <th>11</th>\n",
       "      <td>Totaal</td>\n",
       "      <td>2031.0</td>\n",
       "      <td>597.8</td>\n",
       "      <td>597800.0</td>\n",
       "      <td>1.090677</td>\n",
       "      <td>108</td>\n",
       "    </tr>\n",
       "    <tr>\n",
       "      <th>12</th>\n",
       "      <td>Totaal</td>\n",
       "      <td>2032.0</td>\n",
       "      <td>600.8</td>\n",
       "      <td>600800.0</td>\n",
       "      <td>1.096150</td>\n",
       "      <td>120</td>\n",
       "    </tr>\n",
       "    <tr>\n",
       "      <th>13</th>\n",
       "      <td>Totaal</td>\n",
       "      <td>2033.0</td>\n",
       "      <td>603.7</td>\n",
       "      <td>603700.0</td>\n",
       "      <td>1.101441</td>\n",
       "      <td>132</td>\n",
       "    </tr>\n",
       "    <tr>\n",
       "      <th>14</th>\n",
       "      <td>Totaal</td>\n",
       "      <td>2034.0</td>\n",
       "      <td>606.4</td>\n",
       "      <td>606400.0</td>\n",
       "      <td>1.106367</td>\n",
       "      <td>144</td>\n",
       "    </tr>\n",
       "    <tr>\n",
       "      <th>15</th>\n",
       "      <td>Totaal</td>\n",
       "      <td>2035.0</td>\n",
       "      <td>608.9</td>\n",
       "      <td>608900.0</td>\n",
       "      <td>1.110929</td>\n",
       "      <td>156</td>\n",
       "    </tr>\n",
       "    <tr>\n",
       "      <th>16</th>\n",
       "      <td>Totaal</td>\n",
       "      <td>2036.0</td>\n",
       "      <td>611.3</td>\n",
       "      <td>611300.0</td>\n",
       "      <td>1.115307</td>\n",
       "      <td>168</td>\n",
       "    </tr>\n",
       "    <tr>\n",
       "      <th>17</th>\n",
       "      <td>Totaal</td>\n",
       "      <td>2037.0</td>\n",
       "      <td>613.5</td>\n",
       "      <td>613500.0</td>\n",
       "      <td>1.119321</td>\n",
       "      <td>180</td>\n",
       "    </tr>\n",
       "    <tr>\n",
       "      <th>18</th>\n",
       "      <td>Totaal</td>\n",
       "      <td>2038.0</td>\n",
       "      <td>615.6</td>\n",
       "      <td>615600.0</td>\n",
       "      <td>1.123153</td>\n",
       "      <td>192</td>\n",
       "    </tr>\n",
       "    <tr>\n",
       "      <th>19</th>\n",
       "      <td>Totaal</td>\n",
       "      <td>2039.0</td>\n",
       "      <td>617.7</td>\n",
       "      <td>617700.0</td>\n",
       "      <td>1.126984</td>\n",
       "      <td>204</td>\n",
       "    </tr>\n",
       "    <tr>\n",
       "      <th>20</th>\n",
       "      <td>Totaal</td>\n",
       "      <td>2040.0</td>\n",
       "      <td>619.5</td>\n",
       "      <td>619500.0</td>\n",
       "      <td>1.130268</td>\n",
       "      <td>216</td>\n",
       "    </tr>\n",
       "    <tr>\n",
       "      <th>21</th>\n",
       "      <td>Totaal</td>\n",
       "      <td>2041.0</td>\n",
       "      <td>621.2</td>\n",
       "      <td>621200.0</td>\n",
       "      <td>1.133370</td>\n",
       "      <td>228</td>\n",
       "    </tr>\n",
       "    <tr>\n",
       "      <th>22</th>\n",
       "      <td>Totaal</td>\n",
       "      <td>2042.0</td>\n",
       "      <td>622.8</td>\n",
       "      <td>622800.0</td>\n",
       "      <td>1.136289</td>\n",
       "      <td>240</td>\n",
       "    </tr>\n",
       "    <tr>\n",
       "      <th>23</th>\n",
       "      <td>Totaal</td>\n",
       "      <td>2043.0</td>\n",
       "      <td>624.3</td>\n",
       "      <td>624300.0</td>\n",
       "      <td>1.139026</td>\n",
       "      <td>252</td>\n",
       "    </tr>\n",
       "    <tr>\n",
       "      <th>24</th>\n",
       "      <td>Totaal</td>\n",
       "      <td>2044.0</td>\n",
       "      <td>625.7</td>\n",
       "      <td>625700.0</td>\n",
       "      <td>1.141580</td>\n",
       "      <td>264</td>\n",
       "    </tr>\n",
       "    <tr>\n",
       "      <th>25</th>\n",
       "      <td>Totaal</td>\n",
       "      <td>2045.0</td>\n",
       "      <td>627.0</td>\n",
       "      <td>627000.0</td>\n",
       "      <td>1.143952</td>\n",
       "      <td>276</td>\n",
       "    </tr>\n",
       "    <tr>\n",
       "      <th>26</th>\n",
       "      <td>Totaal</td>\n",
       "      <td>2046.0</td>\n",
       "      <td>628.3</td>\n",
       "      <td>628300.0</td>\n",
       "      <td>1.146324</td>\n",
       "      <td>288</td>\n",
       "    </tr>\n",
       "    <tr>\n",
       "      <th>27</th>\n",
       "      <td>Totaal</td>\n",
       "      <td>2047.0</td>\n",
       "      <td>629.4</td>\n",
       "      <td>629400.0</td>\n",
       "      <td>1.148331</td>\n",
       "      <td>300</td>\n",
       "    </tr>\n",
       "    <tr>\n",
       "      <th>28</th>\n",
       "      <td>Totaal</td>\n",
       "      <td>2048.0</td>\n",
       "      <td>630.7</td>\n",
       "      <td>630700.0</td>\n",
       "      <td>1.150702</td>\n",
       "      <td>312</td>\n",
       "    </tr>\n",
       "    <tr>\n",
       "      <th>29</th>\n",
       "      <td>Totaal</td>\n",
       "      <td>2049.0</td>\n",
       "      <td>631.9</td>\n",
       "      <td>631900.0</td>\n",
       "      <td>1.152892</td>\n",
       "      <td>324</td>\n",
       "    </tr>\n",
       "    <tr>\n",
       "      <th>30</th>\n",
       "      <td>Totaal</td>\n",
       "      <td>2050.0</td>\n",
       "      <td>633.0</td>\n",
       "      <td>633000.0</td>\n",
       "      <td>1.154899</td>\n",
       "      <td>336</td>\n",
       "    </tr>\n",
       "  </tbody>\n",
       "</table>\n",
       "</div>"
      ],
      "text/plain": [
       "   Leeftijd  Perioden  x 1 000  population size    change  Time\n",
       "0    Totaal    2020.0    548.1         548100.0  1.000000   -24\n",
       "1    Totaal    2021.0    554.4         554400.0  1.011494   -12\n",
       "2    Totaal    2022.0    559.5         559500.0  1.020799     0\n",
       "3    Totaal    2023.0    564.9         564900.0  1.030651    12\n",
       "4    Totaal    2024.0    570.3         570300.0  1.040504    24\n",
       "5    Totaal    2025.0    575.3         575300.0  1.049626    36\n",
       "6    Totaal    2026.0    580.3         580300.0  1.058748    48\n",
       "7    Totaal    2027.0    585.0         585000.0  1.067323    60\n",
       "8    Totaal    2028.0    588.3         588300.0  1.073344    72\n",
       "9    Totaal    2029.0    591.6         591600.0  1.079365    84\n",
       "10   Totaal    2030.0    594.7         594700.0  1.085021    96\n",
       "11   Totaal    2031.0    597.8         597800.0  1.090677   108\n",
       "12   Totaal    2032.0    600.8         600800.0  1.096150   120\n",
       "13   Totaal    2033.0    603.7         603700.0  1.101441   132\n",
       "14   Totaal    2034.0    606.4         606400.0  1.106367   144\n",
       "15   Totaal    2035.0    608.9         608900.0  1.110929   156\n",
       "16   Totaal    2036.0    611.3         611300.0  1.115307   168\n",
       "17   Totaal    2037.0    613.5         613500.0  1.119321   180\n",
       "18   Totaal    2038.0    615.6         615600.0  1.123153   192\n",
       "19   Totaal    2039.0    617.7         617700.0  1.126984   204\n",
       "20   Totaal    2040.0    619.5         619500.0  1.130268   216\n",
       "21   Totaal    2041.0    621.2         621200.0  1.133370   228\n",
       "22   Totaal    2042.0    622.8         622800.0  1.136289   240\n",
       "23   Totaal    2043.0    624.3         624300.0  1.139026   252\n",
       "24   Totaal    2044.0    625.7         625700.0  1.141580   264\n",
       "25   Totaal    2045.0    627.0         627000.0  1.143952   276\n",
       "26   Totaal    2046.0    628.3         628300.0  1.146324   288\n",
       "27   Totaal    2047.0    629.4         629400.0  1.148331   300\n",
       "28   Totaal    2048.0    630.7         630700.0  1.150702   312\n",
       "29   Totaal    2049.0    631.9         631900.0  1.152892   324\n",
       "30   Totaal    2050.0    633.0         633000.0  1.154899   336"
      ]
     },
     "execution_count": 412,
     "metadata": {},
     "output_type": "execute_result"
    }
   ],
   "source": [
    "prognosis"
   ]
  },
  {
   "cell_type": "code",
   "execution_count": 405,
   "id": "3521c95c-4b3a-43ad-b92f-10d67adcec14",
   "metadata": {},
   "outputs": [],
   "source": [
    "#prognosis[\"Time\"] = range(0, 2050-2020+1)\n",
    "prognosis[\"Time\"] = range(2*-12, 12*(2050-2022)+1, 12)"
   ]
  },
  {
   "cell_type": "code",
   "execution_count": 406,
   "id": "82bbf2a4-a558-461b-894a-2e051b5fbfc8",
   "metadata": {},
   "outputs": [],
   "source": [
    "def func(x, a, b, c):\n",
    "    return a* np.exp(-b*x) + c"
   ]
  },
  {
   "cell_type": "code",
   "execution_count": 407,
   "id": "71f3d93d-c73d-4d28-b341-fb12e504e8ef",
   "metadata": {},
   "outputs": [],
   "source": [
    "x = prognosis[\"Time\"]\n",
    "y = prognosis[\"change\"]\n",
    "popt, pcov = curve_fit(func, x, y)"
   ]
  },
  {
   "cell_type": "code",
   "execution_count": 408,
   "id": "b8df6ead-2dfd-431b-bf63-ed8b15c87b98",
   "metadata": {},
   "outputs": [],
   "source": [
    "x_predictions = range(0, 12*80)\n",
    "predictions = func(x_predictions, *popt)"
   ]
  },
  {
   "cell_type": "code",
   "execution_count": 409,
   "id": "06c5a63c-ee5b-4995-a6e4-5064a52bd9b0",
   "metadata": {},
   "outputs": [
    {
     "data": {
      "image/png": "[encoded data removed]",
      "text/plain": [
       "<Figure size 432x288 with 1 Axes>"
      ]
     },
     "metadata": {
      "needs_background": "light"
     },
     "output_type": "display_data"
    }
   ],
   "source": [
    "plt.figure()\n",
    "plt.plot(x[2:], y[2:], 'o', label=\"Data points\", color=\"#f16364\")\n",
    "plt.plot(x_predictions, func(x_predictions, *popt), 'k-', label=\"Fitted Curve\")\n",
    "#plt.plot(x_predictions, predictions, 'kP', label=\"Predictions\")\n",
    "plt.title(\"Expected population growth the Hague\")\n",
    "plt.xlabel(\"Year\")\n",
    "plt.xticks(list(range(0, 12*80, 12*10)) + [12*80+1] , list(range(2022, 2100, 10)) + [2100], rotation=\"vertical\" )\n",
    "plt.ylabel(\"Growth rate\")\n",
    "plt.legend()\n",
    "plt.savefig(\"D:/juju/lumc/msc_thesis/report/images/population growth.png\", format=\"png\",  dpi=300, bbox_inches='tight')  \n",
    "plt.show()"
   ]
  },
  {
   "cell_type": "code",
   "execution_count": 417,
   "id": "e5e1b254-09c2-4723-abcf-59e771536638",
   "metadata": {},
   "outputs": [
    {
     "data": {
      "text/plain": [
       "array([-0.15917403,  0.0053049 ,  1.18092669])"
      ]
     },
     "execution_count": 417,
     "metadata": {},
     "output_type": "execute_result"
    }
   ],
   "source": [
    "popt"
   ]
  },
  {
   "cell_type": "code",
   "execution_count": 419,
   "id": "a565f9dc-6df7-405a-885a-55a34c0adbad",
   "metadata": {},
   "outputs": [
    {
     "data": {
      "text/plain": [
       "1.02175266"
      ]
     },
     "execution_count": 419,
     "metadata": {},
     "output_type": "execute_result"
    }
   ],
   "source": [
    "(-0.15917403 * np.exp(-0.0053049*0) + 1.18092669)"
   ]
  },
  {
   "cell_type": "code",
   "execution_count": null,
   "id": "32966d5a-8188-4f50-b34d-c273592909e1",
   "metadata": {},
   "outputs": [],
   "source": []
  }
 ],
 "metadata": {
  "kernelspec": {
   "display_name": "Python 3 (ipykernel)",
   "language": "python",
   "name": "python3"
  },
  "language_info": {
   "codemirror_mode": {
    "name": "ipython",
    "version": 3
   },
   "file_extension": ".py",
   "mimetype": "text/x-python",
   "name": "python",
   "nbconvert_exporter": "python",
   "pygments_lexer": "ipython3",
   "version": "3.10.4"
  }
 },
 "nbformat": 4,
 "nbformat_minor": 5
}
